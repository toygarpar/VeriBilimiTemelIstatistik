{
 "cells": [
  {
   "cell_type": "markdown",
   "id": "ce59525f",
   "metadata": {},
   "source": [
    "# 📏 Ölçek Türleri: Veriyi Nasıl Ölçtüğün, Ne Anlam Çıkardığın Kadardır\n",
    "\n",
    "## Giriş: Sayılar Her Zaman Aynı Şeyi Göstermez\n",
    "\n",
    "Diyelim ki bir öğrencinin notu 80.  \n",
    "Ya da bir kişinin memnuniyet skoru “orta”.  \n",
    "Ya da sıcaklık -5°C.  \n",
    "Ya da hız sıfır km/saat.\n",
    "\n",
    "Bu sayılar farklı şeyleri ifade edebilir.  \n",
    "Çünkü **ölçek**, verinin anlamını çizer.\n",
    "\n",
    "> “Sayılar senin için konuşur ama  \n",
    "sadece doğru ölçekle anlamlı olurlar.”  "
   ]
  },
  {
   "cell_type": "markdown",
   "id": "cd117597",
   "metadata": {},
   "source": [
    "## 🔍 Ölçek Nedir?\n",
    "\n",
    "Ölçek, bir özelliğin **nasıl ölçüldüğünü gösteren yapıdır.**\n",
    "\n",
    "📌 Örneğin:\n",
    "- Cinsiyet → adlandırma\n",
    "- Eğitim durumu → sıralama\n",
    "- Sıcaklık → eşit aralıklı\n",
    "- Boy uzunluğu → oranlama"
   ]
  },
  {
   "cell_type": "markdown",
   "id": "a6d2b9f4",
   "metadata": {},
   "source": [
    "## 🧠 Neden Ölçek Türlerini Bilmeliyiz?\n",
    "\n",
    "| Sebep | Açıklama |\n",
    "|--------|----------|\n",
    "| ✅ **Doğru analiz yapmak için** | Nicel değişkenle ortalama alınır, nitelde mod tercih edilir |\n",
    "| ✅ **Model seçimi için** | Lojistik regresyon ordinal veride işe yarar mı? |\n",
    "| ✅ **Yorumlama doğruluğu için** | \"2\" her zaman \"iki kat\" anlamına gelmeyebilir |\n",
    "| ✅ **Veri dönüştürme için** | Kategorik veri sayıya dönüşebilir mi? Nasıl? |\n",
    "\n",
    "📌 Yanlış ölçekle yapılan analiz → yanlı sonuç  \n",
    "Ve yanlış yorum → hatalı karar!"
   ]
  },
  {
   "cell_type": "markdown",
   "id": "f5fc7b13",
   "metadata": {},
   "source": [
    "## 📐 Dört Ana Ölçek Türü\n",
    "\n",
    "### 1. **Nominal (Sınıflama)**\n",
    "\n",
    "- **Anlam:** Farklı sınıfları temsil eder.\n",
    "- **Matematiksel işlem yok.**\n",
    "- **Kullanım:** Kategorik veri, etiketleme\n",
    "- **Örnekler:** Cinsiyet, kan grubu, renk, şehir\n",
    "\n",
    "#### Python Kodu:"
   ]
  },
  {
   "cell_type": "code",
   "execution_count": 1,
   "id": "f4ef2505",
   "metadata": {},
   "outputs": [],
   "source": [
    "import numpy as np\n",
    "import pandas as pd\n",
    "\n",
    "df = pd.read_csv('data/istatistik_ornek.csv')"
   ]
  },
  {
   "cell_type": "code",
   "execution_count": 2,
   "id": "bdcc3084",
   "metadata": {},
   "outputs": [
    {
     "data": {
      "text/html": [
       "<div>\n",
       "<style scoped>\n",
       "    .dataframe tbody tr th:only-of-type {\n",
       "        vertical-align: middle;\n",
       "    }\n",
       "\n",
       "    .dataframe tbody tr th {\n",
       "        vertical-align: top;\n",
       "    }\n",
       "\n",
       "    .dataframe thead th {\n",
       "        text-align: right;\n",
       "    }\n",
       "</style>\n",
       "<table border=\"1\" class=\"dataframe\">\n",
       "  <thead>\n",
       "    <tr style=\"text-align: right;\">\n",
       "      <th></th>\n",
       "      <th>fiyat</th>\n",
       "      <th>satis_adedi</th>\n",
       "      <th>kategori</th>\n",
       "    </tr>\n",
       "  </thead>\n",
       "  <tbody>\n",
       "    <tr>\n",
       "      <th>0</th>\n",
       "      <td>218.54</td>\n",
       "      <td>15</td>\n",
       "      <td>Giyim</td>\n",
       "    </tr>\n",
       "    <tr>\n",
       "      <th>1</th>\n",
       "      <td>477.82</td>\n",
       "      <td>12</td>\n",
       "      <td>Elektronik</td>\n",
       "    </tr>\n",
       "    <tr>\n",
       "      <th>2</th>\n",
       "      <td>379.40</td>\n",
       "      <td>16</td>\n",
       "      <td>Ev Eşyası</td>\n",
       "    </tr>\n",
       "    <tr>\n",
       "      <th>3</th>\n",
       "      <td>319.40</td>\n",
       "      <td>19</td>\n",
       "      <td>Giyim</td>\n",
       "    </tr>\n",
       "    <tr>\n",
       "      <th>4</th>\n",
       "      <td>120.21</td>\n",
       "      <td>8</td>\n",
       "      <td>Giyim</td>\n",
       "    </tr>\n",
       "    <tr>\n",
       "      <th>...</th>\n",
       "      <td>...</td>\n",
       "      <td>...</td>\n",
       "      <td>...</td>\n",
       "    </tr>\n",
       "    <tr>\n",
       "      <th>995</th>\n",
       "      <td>91.21</td>\n",
       "      <td>4</td>\n",
       "      <td>Ev Eşyası</td>\n",
       "    </tr>\n",
       "    <tr>\n",
       "      <th>996</th>\n",
       "      <td>462.79</td>\n",
       "      <td>14</td>\n",
       "      <td>Ev Eşyası</td>\n",
       "    </tr>\n",
       "    <tr>\n",
       "      <th>997</th>\n",
       "      <td>111.57</td>\n",
       "      <td>9</td>\n",
       "      <td>Ev Eşyası</td>\n",
       "    </tr>\n",
       "    <tr>\n",
       "      <th>998</th>\n",
       "      <td>477.61</td>\n",
       "      <td>9</td>\n",
       "      <td>Ev Eşyası</td>\n",
       "    </tr>\n",
       "    <tr>\n",
       "      <th>999</th>\n",
       "      <td>250.70</td>\n",
       "      <td>18</td>\n",
       "      <td>Elektronik</td>\n",
       "    </tr>\n",
       "  </tbody>\n",
       "</table>\n",
       "<p>1000 rows × 3 columns</p>\n",
       "</div>"
      ],
      "text/plain": [
       "      fiyat  satis_adedi    kategori\n",
       "0    218.54           15       Giyim\n",
       "1    477.82           12  Elektronik\n",
       "2    379.40           16   Ev Eşyası\n",
       "3    319.40           19       Giyim\n",
       "4    120.21            8       Giyim\n",
       "..      ...          ...         ...\n",
       "995   91.21            4   Ev Eşyası\n",
       "996  462.79           14   Ev Eşyası\n",
       "997  111.57            9   Ev Eşyası\n",
       "998  477.61            9   Ev Eşyası\n",
       "999  250.70           18  Elektronik\n",
       "\n",
       "[1000 rows x 3 columns]"
      ]
     },
     "execution_count": 2,
     "metadata": {},
     "output_type": "execute_result"
    }
   ],
   "source": [
    "df"
   ]
  },
  {
   "cell_type": "code",
   "execution_count": 3,
   "id": "0826ebfe",
   "metadata": {},
   "outputs": [
    {
     "name": "stdout",
     "output_type": "stream",
     "text": [
      "Nominal değişken örneği: ['Giyim' 'Elektronik' 'Ev Eşyası']\n"
     ]
    }
   ],
   "source": [
    "print(\"Nominal değişken örneği:\", df['kategori'].unique())"
   ]
  },
  {
   "cell_type": "markdown",
   "id": "ca7cf911",
   "metadata": {},
   "source": [
    "📌 Bu veriyle toplama veya çıkarma yapamazsın.  \n",
    "Sadece **frekans analizi** yapabilirsin."
   ]
  },
  {
   "cell_type": "markdown",
   "id": "e566fa55",
   "metadata": {},
   "source": [
    "### 2. **Ordinal (Sıralama)**\n",
    "\n",
    "- **Anlam:** Sıralama var ama fark yok.\n",
    "- **Matematiksel işlem:** Sadece büyüklük-küçüklük ilişkisi\n",
    "- **Kullanım:** Memnuniyet, eğitim düzeyi, pozisyon\n",
    "- **Örnekler:** “İyi”, “Daha iyi”, “En iyi”  \n",
    "    ya da “Bekar”, “Evli”, “Boşanmış”\n",
    "\n",
    "#### Python Kodu:"
   ]
  },
  {
   "cell_type": "code",
   "execution_count": 4,
   "id": "ab2ab876",
   "metadata": {},
   "outputs": [
    {
     "name": "stdout",
     "output_type": "stream",
     "text": [
      "Ordinal değişken örneği: 0       Kötü\n",
      "1       Orta\n",
      "2        İyi\n",
      "3    Çok İyi\n",
      "dtype: object\n"
     ]
    }
   ],
   "source": [
    "memnuniyet = pd.Series(['Kötü', 'Orta', 'İyi', 'Çok İyi'])\n",
    "print(\"Ordinal değişken örneği:\", memnuniyet)"
   ]
  },
  {
   "cell_type": "markdown",
   "id": "55e3cedf",
   "metadata": {},
   "source": [
    "### 3. **Interval (Eşit Aralıklı)**\n",
    "\n",
    "- **Anlam:** Sıfır noktası keyfi.\n",
    "- **Matematiksel işlem:** Toplama/çıkarma yapılabilir.\n",
    "- **Kullanım:** Sıcaklık, tarih, IQ skoru\n",
    "- **Örnekler:** °C, yıl, puan\n",
    "\n",
    "#### Python Kodu:"
   ]
  },
  {
   "cell_type": "code",
   "execution_count": 5,
   "id": "4a970949",
   "metadata": {},
   "outputs": [
    {
     "name": "stdout",
     "output_type": "stream",
     "text": [
      "Ortalama sıcaklık: 20.0\n"
     ]
    }
   ],
   "source": [
    "sicakliklar = np.array([10, 20, 30])\n",
    "print(\"Ortalama sıcaklık:\", sicakliklar.mean())"
   ]
  },
  {
   "cell_type": "markdown",
   "id": "713ccda9",
   "metadata": {},
   "source": [
    "📌 Sıcaklık 20°C, 40°C → ikinci değer ilkine göre iki kat değil!  \n",
    "Sıcaklık artışı hesaplanabilir ama oranı değil."
   ]
  },
  {
   "cell_type": "markdown",
   "id": "e03da7d0",
   "metadata": {},
   "source": [
    "### 4. **Ratio (Oran Ölçekli)**\n",
    "\n",
    "- **Anlam:** Gerçek sıfır noktası vardır.\n",
    "- **Matematiksel işlem:** Tüm işlemler geçerlidir.\n",
    "- **Kullanım:** Uzunluk, ağırlık, yaş, gelir\n",
    "- **Örnekler:** 0 cm = hiç uzunluk yok  \n",
    "           0 TL = hiç para yok\n",
    "\n",
    "#### Python Kodu:"
   ]
  },
  {
   "cell_type": "code",
   "execution_count": 7,
   "id": "795c8ad2",
   "metadata": {},
   "outputs": [
    {
     "name": "stdout",
     "output_type": "stream",
     "text": [
      "Ortalama satış miktarı: 9.926\n",
      "Standart sapma: 5.45\n"
     ]
    }
   ],
   "source": [
    "print(\"Ortalama satış miktarı:\", df['satis_adedi'].mean())\n",
    "print(\"Standart sapma:\", round(df['satis_adedi'].std(), 2))"
   ]
  },
  {
   "cell_type": "code",
   "execution_count": 8,
   "id": "c3cee1e5",
   "metadata": {},
   "outputs": [
    {
     "name": "stdout",
     "output_type": "stream",
     "text": [
      "Standart sapma: 5.45\n"
     ]
    }
   ],
   "source": [
    "import numpy as np\n",
    "print(\"Standart sapma:\", np.round(df['satis_adedi'].std(), 2))"
   ]
  },
  {
   "cell_type": "code",
   "execution_count": 9,
   "id": "568cafe9",
   "metadata": {},
   "outputs": [
    {
     "name": "stdout",
     "output_type": "stream",
     "text": [
      "int64\n"
     ]
    }
   ],
   "source": [
    "print(df['satis_adedi'].dtype)"
   ]
  },
  {
   "cell_type": "code",
   "execution_count": 10,
   "id": "cdb1ece5",
   "metadata": {},
   "outputs": [
    {
     "name": "stdout",
     "output_type": "stream",
     "text": [
      "Standart sapma: 5.45\n"
     ]
    }
   ],
   "source": [
    "std_value = df['satis_adedi'].std()\n",
    "print(\"Standart sapma:\", round(float(std_value), 2))"
   ]
  },
  {
   "cell_type": "markdown",
   "id": "62cbbd5b",
   "metadata": {},
   "source": [
    "📌 Ratio ölçek → en güçlü ölçektir.  \n",
    "Her şey yapılabilir: ortalama, varyans, oran vs."
   ]
  },
  {
   "cell_type": "markdown",
   "id": "61c51b42",
   "metadata": {},
   "source": [
    "## 📊 Ölçek Türleri ve İstatistiksel Analiz Bağlantısı\n",
    "\n",
    "| Ölçek Türü | Ortalama | Medyan | Mod | Standart Sapma | Korelasyon | Regresyon |\n",
    "|------------|----------|---------|------|----------------|-------------|------------|\n",
    "| Nominal     | ❌       | ❌      | ✅   | ❌             | ❌          | ❌         |\n",
    "| Ordinal     | ⚠️       | ✅      | ✅   | ⚠️              | ⚠️           | ⚠️          |\n",
    "| Interval    | ✅       | ✅      | ✅   | ✅              | ✅           | ✅         |\n",
    "| Ratio       | ✅       | ✅      | ✅   | ✅              | ✅           | ✅         |\n",
    "\n",
    "📌 Bir ölçeği tanımlamak,  \n",
    "veriye uygun analiz yöntemini seçmenin ilk adımıdır."
   ]
  },
  {
   "cell_type": "markdown",
   "id": "5900ba02",
   "metadata": {},
   "source": [
    "## 📈 Likert Ölçeği: Sosyal Bilimlerin Favorisi\n",
    "\n",
    "- **Anlam:** Katılma derecesi üzerinden ölçüm yapılır.\n",
    "- **Matematiksel işlem:** Genellikle ordinal kabul edilir.\n",
    "- **Kullanım:** Anketlerde, memnuniyet araştırmalarında\n",
    "- **Örnek:** “Bu ürün iyi mi?”  \n",
    "    - Tamamen katılıyorum  \n",
    "    - Katılıyorum  \n",
    "    - Tarafsızım  \n",
    "    - Karşıyım  \n",
    "    - Kesinlikle karşıyım\n",
    "\n",
    "#### Python Kodu:"
   ]
  },
  {
   "cell_type": "code",
   "execution_count": 11,
   "id": "bc5e39aa",
   "metadata": {},
   "outputs": [
    {
     "name": "stdout",
     "output_type": "stream",
     "text": [
      "anket\n",
      "Katılıyorum               225\n",
      "Kesinlikle Karşı          211\n",
      "Karşı                     195\n",
      "Tarafsız                  190\n",
      "Kesinlikle Katılıyorum    179\n",
      "Name: count, dtype: int64\n"
     ]
    }
   ],
   "source": [
    "anket_cevaplari = [\"Kesinlikle Karşı\", \"Karşı\", \"Tarafsız\", \"Katılıyorum\", \"Kesinlikle Katılıyorum\"]\n",
    "df[\"anket\"] = np.random.choice(anket_cevaplari, size=1000)\n",
    "\n",
    "print(df[\"anket\"].value_counts())"
   ]
  },
  {
   "cell_type": "markdown",
   "id": "fc431286",
   "metadata": {},
   "source": [
    "📌 Bu ölçek genellikle **ordinal** olarak değerlendirilir.  \n",
    "Ancak bazı çalışmalarda **sayısal değerlere çevrilip** analiz edilebilir."
   ]
  },
  {
   "cell_type": "markdown",
   "id": "31e45620",
   "metadata": {},
   "source": [
    "## 📉 Ölçek Türleri ve Hangi Grafik Uygun?\n",
    "\n",
    "| Ölçek Türü | En Uygun Grafik |\n",
    "|------------|------------------|\n",
    "| Nominal     | Pasta grafiği, bar grafik |\n",
    "| Ordinal     | Bar grafik, kutu grafiği |\n",
    "| Interval    | Histogram, çizgi grafik |\n",
    "| Ratio       | Histogram, kutu grafik, nokta grafik |\n"
   ]
  },
  {
   "cell_type": "code",
   "execution_count": 13,
   "id": "0c90dc85",
   "metadata": {},
   "outputs": [
    {
     "data": {
      "image/png": "[encoded data removed]",
      "text/plain": [
       "<Figure size 640x480 with 1 Axes>"
      ]
     },
     "metadata": {},
     "output_type": "display_data"
    },
    {
     "data": {
      "image/png": "[encoded data removed]",
      "text/plain": [
       "<Figure size 640x480 with 1 Axes>"
      ]
     },
     "metadata": {},
     "output_type": "display_data"
    }
   ],
   "source": [
    "import seaborn as sns\n",
    "import matplotlib.pyplot as plt\n",
    "\n",
    "# Nominal değişken için\n",
    "sns.countplot(x='kategori', data=df)\n",
    "plt.title(\"Kategorik Dağılım\")\n",
    "plt.show()\n",
    "\n",
    "# Oran ölçekli değişken için\n",
    "sns.histplot(df['satis_adedi'], kde=True)\n",
    "plt.title(\"Satış Adedi Dağılımı\")\n",
    "plt.xlabel(\"Satış Adedi\")\n",
    "plt.ylabel(\"Frekans\")\n",
    "plt.show()"
   ]
  },
  {
   "cell_type": "markdown",
   "id": "b013e106",
   "metadata": {},
   "source": [
    "## 📦 Ölçek Türlerini Tanıma Pratikleri\n",
    "\n",
    "| Ölçek Türü | Özellik | Örnek |\n",
    "|------------|----------|--------|\n",
    "| **Nominal** | Sadece isim | Cinsiyet, milliyet |\n",
    "| **Ordinal** | Sıra var ama fark yok | Eğitim durumu, memnuniyet |\n",
    "| **Interval** | Fark var ama sıfır yok | Sıcaklık, tarih |\n",
    "| **Ratio** | Gerçek sıfır var, oran da var | Gelir, boy, yaş, harcama |\n",
    "\n",
    "📌 Ratio ölçek → tüm işlemler yapılabilir  \n",
    "Nominal ölçek → sadece sayılabilir\n"
   ]
  },
  {
   "cell_type": "markdown",
   "id": "2889e5c3",
   "metadata": {},
   "source": [
    "## 🧪 Gerçek Hayatta Nerelerde Görülür?\n",
    "\n",
    "| Ölçek Türü | Senaryo |\n",
    "|------------|----------|\n",
    "| **Nominal** | Müşteri tipi: Bireysel, kurumsal |\n",
    "| **Ordinal** | Ürün kalite skoru: düşük, orta, yüksek |\n",
    "| **Interval** | Tarih: 2023, 2024, 2025 |\n",
    "| **Ratio** | Satış adedi, fiyat, gelir |\n",
    "\n",
    "📌 Bu ayrımı bilmek,  \n",
    "**modellemeye yön verir.**\n"
   ]
  },
  {
   "cell_type": "markdown",
   "id": "72c7dd1a",
   "metadata": {},
   "source": [
    "## 📊 Değişken Tipi ve Ölçek Türü Arasındaki Bağ\n",
    "\n",
    "| Değişken Türü | Ölçek Türü | Açıklama |\n",
    "|---------------|--------------|-----------|\n",
    "| Kategorik       | Nominal        | Etiket |\n",
    "| Sıralı Kategorik | Ordinal        | Sıra var |\n",
    "| Sayısal         | Interval       | Sıfır mutlak değil |\n",
    "| Sayısal         | Ratio          | Sıfır gerçek yokluktur |\n",
    "\n",
    "📌 Bu ayrım, makine öğrenmesinde ön işleme adımlarını da belirler."
   ]
  },
  {
   "cell_type": "markdown",
   "id": "6efb7991",
   "metadata": {},
   "source": [
    "## 📋 Değişken Dönüşümü: Ölçek Değiştirme\n",
    "\n",
    "Bazen veriyi dönüştürmek gerekir.  \n",
    "Örneğin `Evet/Hayır` yerine `1/0`  \n",
    "Veya `Memnuniyet: kötü, iyi, çok iyi` → `1, 2, 3`\n",
    "\n",
    "#### Python Kodu:"
   ]
  },
  {
   "cell_type": "code",
   "execution_count": 15,
   "id": "c12927c1",
   "metadata": {},
   "outputs": [
    {
     "name": "stdout",
     "output_type": "stream",
     "text": [
      "Değişim sonrası ilk 5 satır:\n",
      "   memnuniyet  memnuniyet_skoru\n",
      "0        İyi                 3\n",
      "1    Çok İyi                 4\n",
      "2       Kötü                 1\n",
      "3       Orta                 2\n",
      "4        İyi                 3\n"
     ]
    }
   ],
   "source": [
    "# Ordinal veri dönüştürme\n",
    "memnuniyet_skorlari = {'Kötü': 1, 'Orta': 2, 'İyi': 3, 'Çok İyi': 4}\n",
    "df1 = pd.DataFrame({'memnuniyet': ['İyi', 'Çok İyi', 'Kötü', 'Orta', 'İyi']})\n",
    "\n",
    "df1['memnuniyet_skoru'] = df1['memnuniyet'].map(memnuniyet_skorlari)\n",
    "\n",
    "print(\"Değişim sonrası ilk 5 satır:\\n\", df1[['memnuniyet', 'memnuniyet_skoru']].head())"
   ]
  },
  {
   "cell_type": "markdown",
   "id": "f0e235fe",
   "metadata": {},
   "source": [
    "📌 Bu işlem ordinal veriyi sayısal forma çevirir.  \n",
    "Ama hala **oranlamada kullanılmaz.**"
   ]
  },
  {
   "cell_type": "markdown",
   "id": "ef9a0f6a",
   "metadata": {},
   "source": [
    "## 🤖 Ölçek Türü, Makine Öğrenmesi ve Modelleme Bağlantısı\n",
    "\n",
    "| Ölçek Türü | Modelleme Uygunluğu |\n",
    "|------------|---------------------|\n",
    "| Nominal     | Kodlama gerekebilir (One-Hot) |\n",
    "| Ordinal     | Sıralı sayısal etiketleme yapılabilir |\n",
    "| Interval    | Standartlaştırılabilir |\n",
    "| Ratio       | Doğrudan kullanılabilir |\n",
    "\n",
    "📌 Nominal veri modelde sayıya dönüştürülmeden kullanılmaz  \n",
    "Ordinal veri sıralı hale getirilirse kullanılabilir  \n",
    "Interval ve ratio veriler, doğrudan istatistiksel işlemlerde kullanılır"
   ]
  },
  {
   "cell_type": "markdown",
   "id": "0d7e7820",
   "metadata": {},
   "source": []
  }
 ],
 "metadata": {
  "kernelspec": {
   "display_name": "base",
   "language": "python",
   "name": "python3"
  },
  "language_info": {
   "codemirror_mode": {
    "name": "ipython",
    "version": 3
   },
   "file_extension": ".py",
   "mimetype": "text/x-python",
   "name": "python",
   "nbconvert_exporter": "python",
   "pygments_lexer": "ipython3",
   "version": "3.12.9"
  }
 },
 "nbformat": 4,
 "nbformat_minor": 5
}
