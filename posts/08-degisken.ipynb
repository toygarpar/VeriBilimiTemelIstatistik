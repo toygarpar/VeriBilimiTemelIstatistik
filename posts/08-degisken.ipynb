{
 "cells": [
  {
   "cell_type": "markdown",
   "id": "52742da8",
   "metadata": {},
   "source": [
    "\n",
    "# 📊 Değişken Nedir? Sayıların Anlamına Giden Yol\n",
    "\n",
    "## Giriş: Her Birim Farklı mı?\n",
    "\n",
    "Diyelim ki bir sınıftaki öğrencilerin notlarını incelemek istiyorsun.  \n",
    "Her öğrenci farklı çalışmış, farklı puan almış.  \n",
    "Bu farkları nasıl tanımlarız?\n",
    "\n",
    "👉 İşte burada devreye **değişkenler** girer.  \n",
    "Birimler arasında değişen her şey, bir değişkendir.\n",
    "\n",
    "> “Değişken, veri dünyasında ‘farklılık’ kavramının ta kendisidir.”  "
   ]
  },
  {
   "cell_type": "markdown",
   "id": "6a295dc6",
   "metadata": {},
   "source": [
    "## 🔍 Değişken Nedir?\n",
    "\n",
    "**Değişken**, gözlemden gözleme farklı değerler alabilen özelliğe denir.\n",
    "\n",
    "Değişken Nedir?\n",
    "Tanım: Bir popülasyon veya örneklemde ölçülebilen veya sayılabilen her özelliği temsil eden semboldür.\n",
    "\n",
    "Örnek: Yaş, gelir, cinsiyet, boy uzunluğu.\n",
    "\n",
    "Gösterim: Genellikle \n",
    "X\n",
    ",\n",
    "Y\n",
    ",\n",
    "Z\n",
    "X,Y,Z gibi harflerle ifade edilir.\n",
    "\n",
    "📌 Örneğin:\n",
    "- Yaş → sayısal, sürekli\n",
    "- Cinsiyet → kategorik, nitel\n",
    "- Satış adedi → sayılabilir, kesikli"
   ]
  },
  {
   "cell_type": "markdown",
   "id": "1dba2333",
   "metadata": {},
   "source": [
    "## 🧠 Neden Değişkenleri Tanımak Önemlidir?\n",
    "\n",
    "| Sebep | Açıklama |\n",
    "|--------|----------|\n",
    "| ✅ Veri Türü Belirleme | Hangi işlem yapılacağına karar verir |\n",
    "| ✅ Modelleme Yaklaşımı | Lojistik regresyon mu? Lineer mi? |\n",
    "| ✅ Görselleştirme | Histogram mı, kutu grafiği mi? Pasta grafiği mi? |\n",
    "| ✅ İstatistiksel Test Seçimi | Korelasyon, hipotez testi, vs. |\n",
    "\n",
    "📌 Değişken türü bilmek, analiz yolunu belirler."
   ]
  },
  {
   "cell_type": "code",
   "execution_count": 2,
   "id": "a78db69b",
   "metadata": {},
   "outputs": [
    {
     "name": "stdout",
     "output_type": "stream",
     "text": [
      "    fiyat  satis_adedi    kategori\n",
      "0  218.54           15       Giyim\n",
      "1  477.82           12  Elektronik\n",
      "2  379.40           16   Ev Eşyası\n",
      "3  319.40           19       Giyim\n",
      "4  120.21            8       Giyim\n"
     ]
    }
   ],
   "source": [
    "import numpy as np\n",
    "import pandas as pd\n",
    "\n",
    "np.random.seed(42)\n",
    "\n",
    "n = 1000  # gözlem sayısı\n",
    "data = {\n",
    "    \"fiyat\": np.round(np.random.uniform(low=50, high=500, size=n), 2),\n",
    "    \"satis_adedi\": np.random.randint(1, 20, size=n),\n",
    "    \"kategori\": np.random.choice(['Elektronik', 'Giyim', 'Ev Eşyası'], size=n)\n",
    "}\n",
    "\n",
    "df = pd.DataFrame(data)\n",
    "print(df.head())"
   ]
  },
  {
   "cell_type": "code",
   "execution_count": 3,
   "id": "ba0df57f",
   "metadata": {},
   "outputs": [
    {
     "name": "stdout",
     "output_type": "stream",
     "text": [
      "Sample veri oluşturuldu: istatistik_ornek.csv\n"
     ]
    }
   ],
   "source": [
    "df.to_csv(\"data/istatistik_ornek.csv\", index=False)\n",
    "print(\"Sample veri oluşturuldu: istatistik_ornek.csv\")"
   ]
  },
  {
   "cell_type": "markdown",
   "id": "98ddbbd6",
   "metadata": {},
   "source": [
    "## 📐 Değişken Türleri: Yapılarına Göre\n",
    "\n",
    "### 1. **Nitel (Qualitative) Değişkenler**\n",
    "Kaliteyi gösterir, miktar değil.\n",
    "\n",
    "| Tür | Açıklama | Örnek |\n",
    "|------|----------|--------|\n",
    "| **Nominal** | Sıra yok | Cinsiyet, milliyet |\n",
    "| **Ordinal** | Sıralı ama eşit aralıklı değil | Memnuniyet skoru: kötü, iyi, çok iyi |\n",
    "\n",
    "#### Python Kodu:"
   ]
  },
  {
   "cell_type": "code",
   "execution_count": 4,
   "id": "64129e28",
   "metadata": {},
   "outputs": [
    {
     "name": "stdout",
     "output_type": "stream",
     "text": [
      "Örnek Nitel Değişken: ['Giyim' 'Elektronik' 'Ev Eşyası']\n"
     ]
    }
   ],
   "source": [
    "print(\"Örnek Nitel Değişken:\", df['kategori'].unique())"
   ]
  },
  {
   "cell_type": "markdown",
   "id": "818f688b",
   "metadata": {},
   "source": [
    "✅ `Elektronik`, `Giyim`, `Ev Eşyası` → nitel değişkenlerdir\n",
    "\n",
    "\n",
    "Nitel (Kalitatif) Değişkenler\n",
    "\n",
    "Özellik: Kategorik değerler alır, sınıflandırma yapılır.\n",
    "\n",
    "Alt Türler:\n",
    "\n",
    "Nominal (Adlandırma): Sıralama yok (örnek: cinsiyet, renk).\n",
    "\n",
    "Ordinal (Sıralı): Derecelendirme var (örnek: eğitim seviyesi, memnuniyet skalası).\n",
    "\n",
    "Örnekler: Medeni durum, kan grubu."
   ]
  },
  {
   "cell_type": "markdown",
   "id": "fc66488a",
   "metadata": {},
   "source": [
    "Değerlerine Göre\n",
    "\n",
    "\n",
    "Sürekli Değişkenler\n",
    "\n",
    "Özellik: Ölçümle belirlenir, kesirli değerler alabilir.\n",
    "\n",
    "Örnek: Boy (172.5 cm), sıcaklık (36.7°C).\n",
    "\n",
    "Kesikli Değişkenler\n",
    "\n",
    "Özellik: Sayma ile belirlenir, tam sayı değerler alır.\n",
    "\n",
    "Örnek: Araba sayısı, doğum sayısı.\n",
    "\n"
   ]
  },
  {
   "cell_type": "markdown",
   "id": "a7ad421c",
   "metadata": {},
   "source": [
    "### 2. **Nicel (Quantitative) Değişkenler**\n",
    "Sayılarla ifade edilebilir. Ölçülebilir ya da sayılabilir.\n",
    "\n",
    "| Tür | Açıklama | Örnek |\n",
    "|------|----------|--------|\n",
    "| **Kesikli (Discrete)** | Sayılabilir | Çocuk sayısı, sipariş adedi |\n",
    "| **Sürekli (Continuous)** | Ölçülebilir | Boy, gelir, sıcaklık |\n",
    "\n",
    "#### Python Kodu:"
   ]
  },
  {
   "cell_type": "code",
   "execution_count": 5,
   "id": "fa74071c",
   "metadata": {},
   "outputs": [
    {
     "name": "stdout",
     "output_type": "stream",
     "text": [
      "Ortalama fiyat: 270.62\n",
      "Satış adedi ortalaması: 9.926\n"
     ]
    }
   ],
   "source": [
    "print(\"Ortalama fiyat:\", df['fiyat'].mean().round(2))\n",
    "print(\"Satış adedi ortalaması:\", df['satis_adedi'].mean())"
   ]
  },
  {
   "cell_type": "markdown",
   "id": "2807370f",
   "metadata": {},
   "source": [
    "📌 `fiyat` → sürekli  \n",
    "`satis_adedi` → kesikli  \n",
    "\n",
    "Nicel (Kantitatif) Değişkenler\n",
    "\n",
    "Özellik: Sayısal değer alır, ölçülebilir veya tartılabilir.\n",
    "\n",
    "Alt Türler:\n",
    "\n",
    "Sürekli Değişken: Sonsuz ara değer alabilir (örnek: boy, ağırlık, sıcaklık).\n",
    "\n",
    "Kesikli Değişken: Tam sayı değerler alır (örnek: çocuk sayısı, hata sayısı).\n",
    "\n",
    "Örnekler: Yaş, maaş, sınav puanı."
   ]
  },
  {
   "cell_type": "markdown",
   "id": "2176f584",
   "metadata": {},
   "source": [
    "## 📈 Bağımlı mı? Bağımsız mı?\n",
    "\n",
    "| Tür | Açıklama | Örnek |\n",
    "|------|----------|--------|\n",
    "| **Bağımlı Değişken (Y)** | Tahmin edilmek istenen değişken | Maaş |\n",
    "| **Bağımsız Değişken (X)** | Tahmin etmek için kullanılan değişkenler | Tecrübe, eğitim yılı |\n",
    "\n",
    "📌 Bu ayrım, regresyon ve makine öğrenmesinde hayati öneme sahiptir."
   ]
  },
  {
   "cell_type": "markdown",
   "id": "837401a5",
   "metadata": {},
   "source": [
    "Neden-Sonuç İlişkisine Göre\n",
    "\n",
    "Bağımsız Değişken (Açıklayıcı Değişken)\n",
    "\n",
    "Tanım: Bağımlı değişkeni etkileyen faktör.\n",
    "\n",
    "Örnek: Eğitim süresi (maaşı etkiler).\n",
    "\n",
    "Bağımlı Değişken (Yanıt Değişkeni)\n",
    "\n",
    "Tanım: Bağımsız değişkene bağlı olarak değişen sonuç.\n",
    "\n",
    "Örnek: Maaş (eğitim süresine bağlı).\n",
    "\n",
    "\n",
    "\n",
    "\n",
    "#### **Önemli Kavramlar**\n",
    "\n",
    "- **Veri Biliminde Kullanım:**\n",
    "    \n",
    "    - Bağımsız değişkenler (XX) ile bağımlı değişken (YY) arasındaki ilişki modellenir.\n",
    "        \n",
    "    - **Örnek:** Maas¸=f(Eg˘itim, Deneyim, Yas¸)Maas¸​=f(Eg˘​itim, Deneyim, Yas¸​).\n",
    "        \n",
    "- **Ölçek Türleri:**\n",
    "    \n",
    "    - **Nominal:** Kategorik (renkler).\n",
    "        \n",
    "    - **Ordinal:** Sıralı (likert skalası).\n",
    "        \n",
    "    - **Aralık:** Sıfır noktası keyfi (sıcaklık).\n",
    "        \n",
    "    - **Oran:** Mutlak sıfır noktası var (ağırlık)."
   ]
  },
  {
   "cell_type": "markdown",
   "id": "31216bd6",
   "metadata": {},
   "source": [
    "## 📦 Gerçek Hayat Senaryoları\n",
    "\n",
    "| Senaryo | Bağımlı Değişken | Bağımsız Değişken(ler) |\n",
    "|--------|------------------|------------------------|\n",
    "| Müşteri memnuniyeti tahmini | Memnuniyet skoru | Ürün kalitesi, hizmet süresi |\n",
    "| Satış tahmini | Satış adedi | Reklam bütçesi, fiyat |\n",
    "| Maaş modeli | Maaş | Tecrübe, eğitim yılı, şehir |\n",
    "| Kalite kontrolü | Uygunluk | Sıcaklık, üretim hızı |\n",
    "\n",
    "📌 Amacımız:  \n",
    "**Bağımlı değişkeni etkileyen en güçlü bağımsız değişkenleri bulmak.**"
   ]
  },
  {
   "cell_type": "markdown",
   "id": "c6448f3b",
   "metadata": {},
   "source": [
    "## 🛠️ Sample Veri Üzerinden Bakalım\n",
    "\n",
    "Elimizdeki sample veri şu şekildeydi:\n"
   ]
  },
  {
   "cell_type": "code",
   "execution_count": 7,
   "id": "86cad102",
   "metadata": {},
   "outputs": [
    {
     "data": {
      "text/html": [
       "<div>\n",
       "<style scoped>\n",
       "    .dataframe tbody tr th:only-of-type {\n",
       "        vertical-align: middle;\n",
       "    }\n",
       "\n",
       "    .dataframe tbody tr th {\n",
       "        vertical-align: top;\n",
       "    }\n",
       "\n",
       "    .dataframe thead th {\n",
       "        text-align: right;\n",
       "    }\n",
       "</style>\n",
       "<table border=\"1\" class=\"dataframe\">\n",
       "  <thead>\n",
       "    <tr style=\"text-align: right;\">\n",
       "      <th></th>\n",
       "      <th>fiyat</th>\n",
       "      <th>satis_adedi</th>\n",
       "      <th>kategori</th>\n",
       "    </tr>\n",
       "  </thead>\n",
       "  <tbody>\n",
       "    <tr>\n",
       "      <th>0</th>\n",
       "      <td>218.54</td>\n",
       "      <td>15</td>\n",
       "      <td>Giyim</td>\n",
       "    </tr>\n",
       "    <tr>\n",
       "      <th>1</th>\n",
       "      <td>477.82</td>\n",
       "      <td>12</td>\n",
       "      <td>Elektronik</td>\n",
       "    </tr>\n",
       "    <tr>\n",
       "      <th>2</th>\n",
       "      <td>379.40</td>\n",
       "      <td>16</td>\n",
       "      <td>Ev Eşyası</td>\n",
       "    </tr>\n",
       "    <tr>\n",
       "      <th>3</th>\n",
       "      <td>319.40</td>\n",
       "      <td>19</td>\n",
       "      <td>Giyim</td>\n",
       "    </tr>\n",
       "    <tr>\n",
       "      <th>4</th>\n",
       "      <td>120.21</td>\n",
       "      <td>8</td>\n",
       "      <td>Giyim</td>\n",
       "    </tr>\n",
       "    <tr>\n",
       "      <th>...</th>\n",
       "      <td>...</td>\n",
       "      <td>...</td>\n",
       "      <td>...</td>\n",
       "    </tr>\n",
       "    <tr>\n",
       "      <th>995</th>\n",
       "      <td>91.21</td>\n",
       "      <td>4</td>\n",
       "      <td>Ev Eşyası</td>\n",
       "    </tr>\n",
       "    <tr>\n",
       "      <th>996</th>\n",
       "      <td>462.79</td>\n",
       "      <td>14</td>\n",
       "      <td>Ev Eşyası</td>\n",
       "    </tr>\n",
       "    <tr>\n",
       "      <th>997</th>\n",
       "      <td>111.57</td>\n",
       "      <td>9</td>\n",
       "      <td>Ev Eşyası</td>\n",
       "    </tr>\n",
       "    <tr>\n",
       "      <th>998</th>\n",
       "      <td>477.61</td>\n",
       "      <td>9</td>\n",
       "      <td>Ev Eşyası</td>\n",
       "    </tr>\n",
       "    <tr>\n",
       "      <th>999</th>\n",
       "      <td>250.70</td>\n",
       "      <td>18</td>\n",
       "      <td>Elektronik</td>\n",
       "    </tr>\n",
       "  </tbody>\n",
       "</table>\n",
       "<p>1000 rows × 3 columns</p>\n",
       "</div>"
      ],
      "text/plain": [
       "      fiyat  satis_adedi    kategori\n",
       "0    218.54           15       Giyim\n",
       "1    477.82           12  Elektronik\n",
       "2    379.40           16   Ev Eşyası\n",
       "3    319.40           19       Giyim\n",
       "4    120.21            8       Giyim\n",
       "..      ...          ...         ...\n",
       "995   91.21            4   Ev Eşyası\n",
       "996  462.79           14   Ev Eşyası\n",
       "997  111.57            9   Ev Eşyası\n",
       "998  477.61            9   Ev Eşyası\n",
       "999  250.70           18  Elektronik\n",
       "\n",
       "[1000 rows x 3 columns]"
      ]
     },
     "execution_count": 7,
     "metadata": {},
     "output_type": "execute_result"
    }
   ],
   "source": [
    "df"
   ]
  },
  {
   "cell_type": "markdown",
   "id": "45740a4b",
   "metadata": {},
   "source": [
    "📌 Bu veriyle birkaç değişken tanımı yapalım:\n",
    "\n",
    "| Değişken | Tür | Açıklama |\n",
    "|---------|-----|-----------|\n",
    "| `fiyat` | Nicel, Sürekli | Ürün fiyatı |\n",
    "| `satis_adedi` | Nicel, Kesikli | Ne kadar satıldığını gösterir |\n",
    "| `kategori` | Nitel, Nominal | Ürünün hangi grupta olduğunu gösterir |\n"
   ]
  },
  {
   "cell_type": "markdown",
   "id": "0931488e",
   "metadata": {},
   "source": [
    "## 📊 Değişkenleri Nasıl Betimleyebiliriz?\n",
    "\n",
    "### a) Nitel Değişken İçin:"
   ]
  },
  {
   "cell_type": "code",
   "execution_count": 8,
   "id": "d4e8b11c",
   "metadata": {},
   "outputs": [
    {
     "name": "stdout",
     "output_type": "stream",
     "text": [
      "kategori\n",
      "Elektronik    342\n",
      "Ev Eşyası     335\n",
      "Giyim         323\n",
      "Name: count, dtype: int64\n"
     ]
    }
   ],
   "source": [
    "print(df['kategori'].value_counts())"
   ]
  },
  {
   "cell_type": "markdown",
   "id": "fb56cf70",
   "metadata": {},
   "source": [
    "b) Nicel Değişken İçin:\n"
   ]
  },
  {
   "cell_type": "code",
   "execution_count": 9,
   "id": "fac77abe",
   "metadata": {},
   "outputs": [
    {
     "name": "stdout",
     "output_type": "stream",
     "text": [
      "Fiyat Ortalaması: 270.62\n",
      "Satış Adedi Medyanı: 10.0\n"
     ]
    }
   ],
   "source": [
    "print(\"Fiyat Ortalaması:\", df['fiyat'].mean().round(2))\n",
    "print(\"Satış Adedi Medyanı:\", df['satis_adedi'].median())"
   ]
  },
  {
   "cell_type": "markdown",
   "id": "eec69303",
   "metadata": {},
   "source": [
    "c) Değişken Türüne Göre Görselleştirme:"
   ]
  },
  {
   "cell_type": "code",
   "execution_count": 10,
   "id": "0d86f73e",
   "metadata": {},
   "outputs": [
    {
     "data": {
      "image/png": "[encoded data removed]",
      "text/plain": [
       "<Figure size 640x480 with 1 Axes>"
      ]
     },
     "metadata": {},
     "output_type": "display_data"
    },
    {
     "data": {
      "image/png": "[encoded data removed]",
      "text/plain": [
       "<Figure size 640x480 with 1 Axes>"
      ]
     },
     "metadata": {},
     "output_type": "display_data"
    }
   ],
   "source": [
    "import matplotlib.pyplot as plt\n",
    "import seaborn as sns\n",
    "\n",
    "# 1. Nitel değişken görseli\n",
    "sns.countplot(x='kategori', data=df)\n",
    "plt.title(\"Kategorilere Göre Dağılım\")\n",
    "plt.xlabel(\"Kategori\")\n",
    "plt.ylabel(\"Frekans\")\n",
    "plt.show()\n",
    "\n",
    "# 2. Nicel değişken görseli\n",
    "sns.histplot(df['fiyat'], bins=30, kde=True)\n",
    "plt.title(\"Fiyat Dağılımı\")\n",
    "plt.xlabel(\"Fiyat\")\n",
    "plt.ylabel(\"Frekans\")\n",
    "plt.show()"
   ]
  },
  {
   "cell_type": "markdown",
   "id": "cfee1f88",
   "metadata": {},
   "source": [
    "📌 Grafikler, değişkenlerin davranışını daha kolay okuyabilmemizi sağlar."
   ]
  },
  {
   "cell_type": "markdown",
   "id": "27e4e396",
   "metadata": {},
   "source": [
    "## 📉 Değişkenleri Tanımak İçin Basit Kontroller"
   ]
  },
  {
   "cell_type": "code",
   "execution_count": 11,
   "id": "f4b001a9",
   "metadata": {},
   "outputs": [
    {
     "name": "stdout",
     "output_type": "stream",
     "text": [
      "fiyat          float64\n",
      "satis_adedi      int64\n",
      "kategori        object\n",
      "dtype: object\n",
      "\n",
      "Kategorik Değişken Benzersiz Sayısı:\n",
      "3\n",
      "\n",
      "Fiyat Çeyrekleri:\n",
      "0.25    156.1875\n",
      "0.50    273.5600\n",
      "0.75    384.9475\n",
      "Name: fiyat, dtype: float64\n"
     ]
    }
   ],
   "source": [
    "# Değişken tiplerini kontrol et\n",
    "print(df.dtypes)\n",
    "\n",
    "# Değişkenin benzersiz değeri kaç?\n",
    "print(\"\\nKategorik Değişken Benzersiz Sayısı:\")\n",
    "print(df['kategori'].nunique())\n",
    "\n",
    "# Sürekli değişken için dağılım özetleri\n",
    "print(\"\\nFiyat Çeyrekleri:\")\n",
    "print(df['fiyat'].quantile([0.25, 0.5, 0.75]))"
   ]
  },
  {
   "cell_type": "markdown",
   "id": "27719bc9",
   "metadata": {},
   "source": [
    "✅ Bu kodlar, verinin yapısını anlamana yardımcı olur."
   ]
  },
  {
   "cell_type": "markdown",
   "id": "9977f849",
   "metadata": {},
   "source": [
    "## 📚 Değişkenler Arası İlişki Kurma\n",
    "\n",
    "Veri biliminin temel amacı budur:  \n",
    "**Hangi X, Y'yi nasıl etkiliyor?**"
   ]
  },
  {
   "cell_type": "code",
   "execution_count": 12,
   "id": "68458617",
   "metadata": {},
   "outputs": [
    {
     "name": "stdout",
     "output_type": "stream",
     "text": [
      "Korelasyon Matrisi:\n",
      "                 fiyat  satis_adedi\n",
      "fiyat        1.000000     0.050369\n",
      "satis_adedi  0.050369     1.000000\n"
     ]
    },
    {
     "data": {
      "image/png": "[encoded data removed]",
      "text/plain": [
       "<Figure size 640x480 with 2 Axes>"
      ]
     },
     "metadata": {},
     "output_type": "display_data"
    }
   ],
   "source": [
    "\n",
    "# Korelasyon hesapla\n",
    "df_korelasyon = df.select_dtypes(include=['number'])\n",
    "print(\"Korelasyon Matrisi:\\n\", df_korelasyon.corr())\n",
    "\n",
    "# Korelasyon matrisi görselleştirme\n",
    "sns.heatmap(df_korelasyon.corr(), annot=True, cmap=\"coolwarm\")\n",
    "plt.title(\"Değişkenler Arası Korelasyon\")\n",
    "plt.show()"
   ]
  },
  {
   "cell_type": "markdown",
   "id": "0144ac77",
   "metadata": {},
   "source": [
    "📌 `fiyat` ile `satis_adedi` arasında negatif ilişki varsa → model kurulumuna yön verir."
   ]
  },
  {
   "cell_type": "code",
   "execution_count": null,
   "id": "39d6d0e3",
   "metadata": {},
   "outputs": [],
   "source": []
  }
 ],
 "metadata": {
  "kernelspec": {
   "display_name": "base",
   "language": "python",
   "name": "python3"
  },
  "language_info": {
   "codemirror_mode": {
    "name": "ipython",
    "version": 3
   },
   "file_extension": ".py",
   "mimetype": "text/x-python",
   "name": "python",
   "nbconvert_exporter": "python",
   "pygments_lexer": "ipython3",
   "version": "3.12.9"
  }
 },
 "nbformat": 4,
 "nbformat_minor": 5
}
