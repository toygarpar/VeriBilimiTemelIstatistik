{
 "cells": [
  {
   "cell_type": "markdown",
   "id": "d4135f77",
   "metadata": {},
   "source": [
    "# 📊 İstatistik ve Veri Bilimi: Sayıların Dilini Konuşmak\n",
    "\n",
    "## Giriş: Veri Biliminde İstatistiğin Yeri\n",
    "\n",
    "Veri bilimi, veriyi anlamak ve iş problemlerine çözüm üretmek için yapılan sistematik çalışmadır.  \n",
    "Ama veriyi anlayabilmek için en güçlü araçlardan biri de **istatistik**tir.\n",
    "\n",
    "> “İstatistik, veri dünyasında okuyup yazmayı öğrenmenin adıdır.  \n",
    "Veri bilimi ise, o öğrenilenleri kullanarak hikâye kurmaktır.” "
   ]
  },
  {
   "cell_type": "markdown",
   "id": "e38821aa",
   "metadata": {},
   "source": [
    "## 🔍 İstatistik Nedir?\n",
    "\n",
    "**İstatistik**, verinin toplanması, düzenlenmesi, özetlenmesi, analiz edilmesi ve bu verilerden çıkarım yapma sürecidir.\n",
    "\n",
    "📌 Ana kütleden örneklem alıp onu analiz ederek genellemeler yapmamızı sağlar.  \n",
    "Bu yüzden hem betimsel hem çıkarımsal istatistik veri biliminde hayati öneme sahiptir."
   ]
  },
  {
   "cell_type": "markdown",
   "id": "dfda0087",
   "metadata": {},
   "source": [
    "## 🧠 Neden Veri Bilimi İçin Önemli?\n",
    "\n",
    "| Sebep | Açıklama |\n",
    "|--------|----------|\n",
    "| ✅ **Sayısal Temsil:** | Ham veri sadece sayı değildir; nasıl temsil edildiği önemlidir |\n",
    "| ✅ **Merkezi Eğilim ve Yayılım:** | Ortalama, medyan, standart sapma ile veriyi tanıyabilirsin |\n",
    "| ✅ **Hipotez Testi:** | Farklar gerçek mi, yoksa rastgele mi? Bunu test edebilirsin |\n",
    "| ✅ **Çıkarımlar Yapmak:** | Küçük bir veriyle büyük sonuçlara ulaşmak için |\n",
    "| ✅ **Modelleme ve Tahmin:** | Regresyon, sınıflandırma → hepsi istatistiksel dayanağa dayanır |\n",
    "\n",
    "📌 Veri bilimi olmadan istatistik yalnız kalır.  \n",
    "İstatistik olmadan veri bilimi kör yürür."
   ]
  },
  {
   "cell_type": "markdown",
   "id": "00996f0d",
   "metadata": {},
   "source": [
    "## 🧩 İstatistik Kavramları ve Veri Bilimi Bağlantısı\n",
    "\n",
    "### 1. **Merkezi Eğilim Ölçüleri**\n",
    "Verinin merkezini gösterir."
   ]
  },
  {
   "cell_type": "code",
   "execution_count": 4,
   "id": "76a7914f",
   "metadata": {},
   "outputs": [
    {
     "name": "stdout",
     "output_type": "stream",
     "text": [
      "Ortalama: 9.32\n",
      "Medyan: 9.5\n",
      "Mod: Elektronik\n"
     ]
    }
   ],
   "source": [
    "import numpy as np\n",
    "import pandas as pd\n",
    "\n",
    "df_model = pd.read_csv(\"data/satis_verisi.csv\")\n",
    "\n",
    "\n",
    "\n",
    "print(\"Ortalama:\", df_model['SatisAdedi'].mean())\n",
    "print(\"Medyan:\", df_model['SatisAdedi'].median())\n",
    "print(\"Mod:\", df_model['Kategori'].mode()[0])"
   ]
  },
  {
   "cell_type": "markdown",
   "id": "b0ccec22",
   "metadata": {},
   "source": [
    "### 2. **Yayılım Ölçüleri**\n",
    "Verinin nasıl dağıldığını gösterir."
   ]
  },
  {
   "cell_type": "code",
   "execution_count": 5,
   "id": "4ba6e67b",
   "metadata": {},
   "outputs": [
    {
     "name": "stdout",
     "output_type": "stream",
     "text": [
      "Standart Sapma: 5.557559234633908\n",
      "Varyans: 30.886464646464635\n",
      "IQR: 10.0\n"
     ]
    }
   ],
   "source": [
    "print(\"Standart Sapma:\", df_model['SatisAdedi'].std())\n",
    "print(\"Varyans:\", df_model['SatisAdedi'].var())\n",
    "print(\"IQR:\", df_model['SatisAdedi'].quantile(0.75) - df_model['SatisAdedi'].quantile(0.25))"
   ]
  },
  {
   "cell_type": "markdown",
   "id": "7381dba9",
   "metadata": {},
   "source": [
    "📌 Yüksek yayılım = yüksek belirsizlik  \n",
    "Düşük yayılım = daha kararlı tahminler"
   ]
  },
  {
   "cell_type": "markdown",
   "id": "225d1bdd",
   "metadata": {},
   "source": [
    "### 3. **Hipotez Testleri**\n",
    "İddiaları veriyle sınar.\n",
    "\n",
    "#### Örnek: Fiyat artışı satışları düşürüyor mu?"
   ]
  },
  {
   "cell_type": "code",
   "execution_count": 6,
   "id": "75432e7e",
   "metadata": {},
   "outputs": [
    {
     "name": "stdout",
     "output_type": "stream",
     "text": [
      "p-değeri: 0.9312\n"
     ]
    }
   ],
   "source": [
    "from scipy.stats import ttest_ind\n",
    "\n",
    "elektronik_fiyatlari = df[df['Kategori'] == 'Elektronik']['Fiyat']\n",
    "giyim_fiyatlari = df[df['Kategori'] == 'Giyim']['Fiyat']\n",
    "\n",
    "t_stat, p_val = ttest_ind(elektronik_fiyatlari, giyim_fiyatlari)\n",
    "print(f\"p-değeri: {p_val:.4f}\")"
   ]
  },
  {
   "cell_type": "markdown",
   "id": "5da84efc",
   "metadata": {},
   "source": [
    "✅ Eğer `p < 0.05` → fark var demektir. p-değeri: 0.9312 -> Fark yok, H0 kabul edilir.\"\"\""
   ]
  },
  {
   "cell_type": "markdown",
   "id": "3e5f74ed",
   "metadata": {},
   "source": [
    "### 4. **Regresyon Analizi**\n",
    "Bir değişkenin diğerine etkisini ölçer."
   ]
  },
  {
   "cell_type": "code",
   "execution_count": 7,
   "id": "add02e05",
   "metadata": {},
   "outputs": [
    {
     "name": "stdout",
     "output_type": "stream",
     "text": [
      "Model Eğimi: -0.31\n"
     ]
    }
   ],
   "source": [
    "df = pd.read_csv(\"data/ornek_satis.csv\")\n",
    "\n",
    "from sklearn.linear_model import LinearRegression\n",
    "\n",
    "model = LinearRegression()\n",
    "X = df[['fiyat']]\n",
    "y = df['satis']\n",
    "\n",
    "model.fit(X, y)\n",
    "print(f\"Model Eğimi: {model.coef_[0]:.2f}\")"
   ]
  },
  {
   "cell_type": "markdown",
   "id": "3636b2c2",
   "metadata": {},
   "source": [
    "📌 Model eğimi negatifse → fiyat arttıkça satış azalıyor  \n",
    "Pozitifse → fiyat arttıkça satış artıyor"
   ]
  },
  {
   "cell_type": "markdown",
   "id": "5598881e",
   "metadata": {},
   "source": [
    "### 5. **Dağılım Türleri ve Olasılık**\n",
    "\n",
    "| Dağılım Türü | Ne Zaman Kullanılır? |\n",
    "|--------------|-----------------------|\n",
    "| **Normal Dağılım** | Sürekli verilerde |\n",
    "| **Binom Dağılım** | Evet/hayır cevaplarında |\n",
    "| **Poisson Dağılım** | Olay sayısı tahmini için |\n",
    "\n",
    "📌 Veri biliminde bu dağılımları bilmek,  \n",
    "veriye uygun model seçmek açısından çok önemli."
   ]
  },
  {
   "cell_type": "markdown",
   "id": "e05df32d",
   "metadata": {},
   "source": [
    "## 📈 İstatistiksel Yöntemlerin Veri Bilimi İçindeki Yeri\n",
    "\n",
    "| Yöntem | Kullanım Alanı | Python Kodu |\n",
    "|--------|----------------|-------------|\n",
    "| **Tahmin Modelleri** | Regresyon, zaman serisi | `LinearRegression`, `ARIMA` |\n",
    "| **Sınıflandırma Modelleri** | Lojistik regresyon, karar ağacı | `LogisticRegression`, `DecisionTreeClassifier` |\n",
    "| **Hipotez Testi** | Karşılaştırma yapmak için | `ttest_1samp`, `chi2_contingency` |\n",
    "| **Güven Aralığı** | Gerçek değerin nerede olabileceği | `scipy.stats.norm.interval` |\n",
    "| **Korelasyon** | Değişkenler arası ilişki | `np.corrcoef`, `sns.heatmap()` |\n",
    "| **Gruplandırma ve Karşılaştırma** | Segment bazlı analiz | `groupby()`, `anova` |\n",
    "\n",
    "📌 Bu yöntemler, veri biliminin teorik temelini oluşturur."
   ]
  },
  {
   "cell_type": "markdown",
   "id": "bcb3a4dd",
   "metadata": {},
   "source": [
    "🛠️ Basit Bir İstatistiksel İş Akışı: Kodla Görelim"
   ]
  },
  {
   "cell_type": "code",
   "execution_count": 9,
   "id": "da8f76c0",
   "metadata": {},
   "outputs": [
    {
     "name": "stdout",
     "output_type": "stream",
     "text": [
      "Ortalama Satış: 121.52\n",
      "Medyan Satış: 124.0\n",
      "Standart Sapma: 42.50382751629969\n",
      "Tahminli T-Test Sonucu - p-değeri: 0.0000\n"
     ]
    }
   ],
   "source": [
    "import pandas as pd\n",
    "import numpy as np\n",
    "from scipy.stats import ttest_ind\n",
    "\n",
    "# Sample veri yükle\n",
    "df = pd.read_csv(\"data/ornek_satis.csv\")\n",
    "\n",
    "# Merkezi eğilim ve yayılım\n",
    "print(\"Ortalama Satış:\", df['satis'].mean())\n",
    "print(\"Medyan Satış:\", df['satis'].median())\n",
    "print(\"Standart Sapma:\", df['satis'].std())\n",
    "\n",
    "# Grup karşılaştırması\n",
    "fiyat_kucuk = df[df['fiyat'] < 200]['satis']\n",
    "fiyat_buyuk = df[df['fiyat'] >= 200]['satis']\n",
    "\n",
    "# T-testi ile fark var mı?\n",
    "t_stat, p_val = ttest_ind(fiyat_kucuk, fiyat_buyuk)\n",
    "print(f\"Tahminli T-Test Sonucu - p-değeri: {p_val:.4f}\")"
   ]
  },
  {
   "cell_type": "markdown",
   "id": "38ad3eda",
   "metadata": {},
   "source": [
    "📌 Bu kodla:\n",
    "- Veriyi tanıdık,\n",
    "- Gruplara böldük,\n",
    "- Aradaki farkı istatistiksel olarak test ettik."
   ]
  },
  {
   "cell_type": "markdown",
   "id": "3487af9a",
   "metadata": {},
   "source": [
    "## 📚 İstatistiksel Yaklaşımlar: Hangi Soruya Nasıl Cevap Bulur?\n",
    "\n",
    "| Soru | Uygulanan İstatistiksel Yöntem |\n",
    "|------|------------------------------|\n",
    "| \"Bu iki grubun ortalamaları farklı mı?\" | T-Testi |\n",
    "| \"Satış miktarı fiyata bağlı mı?\" | Korelasyon / Regresyon |\n",
    "| \"Hangi ürün kategorisi daha çok satılıyor?\" | ANOVA veya Ki-Kare |\n",
    "| \"Müşteri memnuniyeti arttı mı?\" | Wilcoxon Testi (nonparametrik) |\n",
    "| \"Bu kampanya gerçekten işe yaradı mı?\" | Hipotez testi + Güven aralığı |\n",
    "| \"Bu veri normal dağılıyor mu?\" | Shapiro-Wilk testi |\n",
    "\n",
    "📌 Her soruya özel bir yöntem vardır.  \n",
    "Ve her yöntemin arkasında da istatistiksel dayanak gizlidir."
   ]
  },
  {
   "cell_type": "markdown",
   "id": "f7b1258b",
   "metadata": {},
   "source": [
    "## 📊 Betimsel vs Çıkarımsal İstatistik\n",
    "\n",
    "| Özellik | Betimsel İstatistik | Çıkarımsal İstatistik |\n",
    "|---------|---------------------|------------------------|\n",
    "| Amacı | Veriyi özetlemek | Örnekten genelleme yapmak |\n",
    "| Kullanım | Tablo, grafik | Modelleme, hipotez testi |\n",
    "| Güven Düzeyi | Yok | Var |\n",
    "| Örneklem | Sadece örneklem | Örneklem → kitle |\n",
    "| Yöntem | Ortalama, medyan, varyans | Regresyon, hipotez testi, güven aralığı |\n",
    "\n",
    "📌 Betimsel istatistik → veriyi tanımak  \n",
    "Çıkarımsal istatistik → veriden eyleme geçmek"
   ]
  },
  {
   "cell_type": "markdown",
   "id": "8a0b8703",
   "metadata": {},
   "source": [
    "## 🤖 İstatistik, Makine Öğrenmesi ve Veri Bilimi Arasındaki Bağ\n",
    "\n",
    "| Katman | Rolü |\n",
    "|--------|------|\n",
    "| **İstatistik** | Veri analizi, ilişkileri bulmak |\n",
    "| **Makine Öğrenmesi** | İlişkileri modellemek |\n",
    "| **Veri Bilimi** | Tüm süreci yönetmek ve değer üretmek |\n",
    "\n",
    "📌 İstatistik, makine öğrenmesi için temeldir.  \n",
    "Makine öğrenmesi, veri bilimi için uygulamadır.  \n",
    "Ve veri bilimi, tüm bunları stratejiye dönüştürendir."
   ]
  },
  {
   "cell_type": "markdown",
   "id": "e81bb4fe",
   "metadata": {},
   "source": [
    "## 📉 İstatistiksel Testler ve Modelleme Arasındaki Bağ\n",
    "\n",
    "| Test Türü | Kullanım |\n",
    "|-----------|----------|\n",
    "| **T-Testi** | İki grup ortalaması arasında fark var mı? |\n",
    "| **ANOVA** | Üç veya daha fazla grup karşılaştırması |\n",
    "| **Ki-Kare Testi** | Kategorik değişkenler arası ilişki |\n",
    "| **Wilcoxon** | Normal dağılmayan veriler için |\n",
    "| **Shapiro-Wilk** | Normallik testi |\n",
    "| **Pearson / Spearman** | Korelasyon ölçümü |\n",
    "\n",
    "📌 Bu testler olmadan modelin ne kadar doğru olduğunu söyleyemezsin."
   ]
  },
  {
   "cell_type": "markdown",
   "id": "bb017d64",
   "metadata": {},
   "source": []
  }
 ],
 "metadata": {
  "kernelspec": {
   "display_name": "base",
   "language": "python",
   "name": "python3"
  },
  "language_info": {
   "codemirror_mode": {
    "name": "ipython",
    "version": 3
   },
   "file_extension": ".py",
   "mimetype": "text/x-python",
   "name": "python",
   "nbconvert_exporter": "python",
   "pygments_lexer": "ipython3",
   "version": "3.12.9"
  }
 },
 "nbformat": 4,
 "nbformat_minor": 5
}
