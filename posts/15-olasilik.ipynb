{
 "cells": [
  {
   "cell_type": "markdown",
   "id": "c8d0359f",
   "metadata": {},
   "source": [
    "# 🧠 Olasılık Temel Kavramları: Belirsizlik Üzerine Bilimsel Yaklaşım\n",
    "\n",
    "## Giriş: \n",
    "\n",
    "Diyelim ki bir müşterinin sana dönüş yapma olasılığı nedir?  \n",
    "Ya da yeni bir ürünün markette satılma ihtimali?"
   ]
  },
  {
   "cell_type": "markdown",
   "id": "7cbc8173",
   "metadata": {},
   "source": [
    "## 🔍 1. Deney Nedir?\n",
    "\n",
    "Deney, **olasılık analizi yapmak için yapılan işlemdir.**\n",
    "\n",
    "📌 Örnek:\n",
    "- Bir zar atmak\n",
    "- Para fırlatmak\n",
    "- Sıcaklık ölçmek\n",
    "\n",
    "✅ Bu deneylerin sonucunu **kesin bilemeyiz**, ama **olasılıklarını tahmin edebiliriz.**"
   ]
  },
  {
   "cell_type": "markdown",
   "id": "1e1c3e0f",
   "metadata": {},
   "source": [
    "## 📋 2. Sonuç Nedir?\n",
    "\n",
    "Deneyden elde edilebilecek **tekil çıktılar**dır.\n",
    "\n",
    "📌 Örnek:\n",
    "- Yazı-Tura deneyinde sonuç → `Yazı`, `Tura`\n",
    "- Zar atışında sonuç → `1, 2, 3, 4, 5, 6`"
   ]
  },
  {
   "cell_type": "markdown",
   "id": "2d022d38",
   "metadata": {},
   "source": [
    "## 🌐 3. Örnek Uzay Nedir?\n",
    "\n",
    "Bütün mümkün olan **sonuçların kümesidir.**\n",
    "\n",
    "📌 Genellikle büyük harf **S** ile gösterilir.\n",
    "\n",
    "#### Python Kodu:"
   ]
  },
  {
   "cell_type": "code",
   "execution_count": 1,
   "id": "9f9fe954",
   "metadata": {},
   "outputs": [
    {
     "name": "stdout",
     "output_type": "stream",
     "text": [
      "Para atışı örnek uzayı: ['Yazı', 'Tura']\n",
      "Zar atışı örnek uzayı: [1, 2, 3, 4, 5, 6]\n"
     ]
    }
   ],
   "source": [
    "# Yazı-tura örnek uzayı\n",
    "para = ['Yazı', 'Tura']\n",
    "print(\"Para atışı örnek uzayı:\", para)\n",
    "\n",
    "# Zar atışı örnek uzayı\n",
    "zar = list(range(1, 7))\n",
    "print(\"Zar atışı örnek uzayı:\", zar)"
   ]
  },
  {
   "cell_type": "markdown",
   "id": "53b061c2",
   "metadata": {},
   "source": [
    "## 🎯 4. Olay Nedir?\n",
    "\n",
    "Örnek uzayın herhangi bir alt kümesidir.\n",
    "\n",
    "| Tür | Açıklama | Örnek |\n",
    "|------|----------|--------|\n",
    "| **Basit olay** | Tek bir sonuç | \"Yazı gelme\" |\n",
    "| **Bileşik olay** | Birden fazla sonuç | \"Zarın tek sayı gelmesi\" |\n",
    "\n",
    "#### Python Kodu:"
   ]
  },
  {
   "cell_type": "code",
   "execution_count": 2,
   "id": "b9e96726",
   "metadata": {},
   "outputs": [
    {
     "name": "stdout",
     "output_type": "stream",
     "text": [
      "Basit olay: Yazı gelme ['Yazı']\n",
      "Bileşik olay: Tek sayı gelme [1, 3, 5]\n"
     ]
    }
   ],
   "source": [
    "# Basit olay: yazı geldi mi?\n",
    "basit_olay = ['Yazı']\n",
    "\n",
    "# Bileşik olay: zarın tek sayı gelmesi\n",
    "bilesik_olay = [1, 3, 5]\n",
    "\n",
    "print(\"Basit olay: Yazı gelme\", basit_olay)\n",
    "print(\"Bileşik olay: Tek sayı gelme\", bilesik_olay)"
   ]
  },
  {
   "cell_type": "markdown",
   "id": "e2786b25",
   "metadata": {},
   "source": [
    "## 🤝 5. Olay Çeşitleri: Bağımsız mı? Bağımlı mı?\n",
    "\n",
    "### ✅ Bağımsız Olay:\n",
    "Birinin sonucu diğerini etkilemez.\n",
    "\n",
    "#### Örnek:\n",
    "- Para atma → zar atma  \n",
    "Her iki olayın sonucu bağımsızdır.\n",
    "\n",
    "### ❌ Bağımlı Olay:\n",
    "İkinci olayın sonucu, birincinin sonucuna bağlıdır.\n",
    "\n",
    "#### Örnek:\n",
    "- Torbadan top çekme → tekrar koymadan\n",
    "\n",
    "#### Python Kodu:"
   ]
  },
  {
   "cell_type": "code",
   "execution_count": 3,
   "id": "49c3f964",
   "metadata": {},
   "outputs": [
    {
     "name": "stdout",
     "output_type": "stream",
     "text": [
      "Bağımsız Simülasyon: ('Yazı', 6)\n",
      "Bağımlı Simülasyon: ('Yeşil', 'Mavi')\n"
     ]
    }
   ],
   "source": [
    "from random import choice\n",
    "\n",
    "# Bağımsız olay simülasyonu\n",
    "def bagimsiz_simulasyon():\n",
    "    para_sonucu = choice(['Yazı', 'Tura'])\n",
    "    zar_sonucu = choice(zar)\n",
    "    return para_sonucu, zar_sonucu\n",
    "\n",
    "# Bağımlı olay simülasyonu\n",
    "def bagimli_simulasyon(toplar=['Kırmızı', 'Mavi', 'Yeşil']):\n",
    "    ilk_top = choice(toplar)\n",
    "    toplar.remove(ilk_top)\n",
    "    ikinci_top = choice(toplar)\n",
    "    return ilk_top, ikinci_top\n",
    "\n",
    "print(\"Bağımsız Simülasyon:\", bagimsiz_simulasyon())\n",
    "print(\"Bağımlı Simülasyon:\", bagimli_simulasyon())"
   ]
  },
  {
   "cell_type": "markdown",
   "id": "d6a20f2e",
   "metadata": {},
   "source": [
    "## 📐 6. Olasılık Tanımı ve Basit Hesaplama\n",
    "\n",
    "### Formülü:\n",
    "$$\n",
    "P(A) = \\frac{\\text{A olayının sonuç sayısı}}{\\text{Toplam olası sonuç sayısı}}\n",
    "$$\n",
    "\n",
    "#### Python Kodu:"
   ]
  },
  {
   "cell_type": "code",
   "execution_count": 4,
   "id": "7540d078",
   "metadata": {},
   "outputs": [
    {
     "name": "stdout",
     "output_type": "stream",
     "text": [
      "Zarın tek gelme olasılığı: 0.50\n"
     ]
    }
   ],
   "source": [
    "# P(A): zarın tek gelme olasılığı\n",
    "olasilik_zar_tek = len(bilesik_olay) / len(zar)\n",
    "print(f\"Zarın tek gelme olasılığı: {olasilik_zar_tek:.2f}\")"
   ]
  },
  {
   "cell_type": "markdown",
   "id": "5fe3ebc3",
   "metadata": {},
   "source": [
    "## 📦 7. Birleşik, Kesişim, Ayrık Olaylar\n",
    "\n",
    "### a) **Birleşik Olay**"
   ]
  },
  {
   "cell_type": "code",
   "execution_count": 5,
   "id": "9a84a9b6",
   "metadata": {},
   "outputs": [
    {
     "name": "stdout",
     "output_type": "stream",
     "text": [
      "A ∪ B = {'2', '3', '1'}\n",
      "A ∩ B = {'2'}\n",
      "A ve B ayrık mı? False\n"
     ]
    }
   ],
   "source": [
    "A = {'1', '2'}\n",
    "B = {'2', '3'}\n",
    "\n",
    "birlesim = A.union(B)\n",
    "kesisim = A.intersection(B)\n",
    "ayrik_mi = A.isdisjoint(B)\n",
    "\n",
    "print(\"A ∪ B =\", birlesim)\n",
    "print(\"A ∩ B =\", kesisim)\n",
    "print(\"A ve B ayrık mı?\", ayrik_mi)"
   ]
  },
  {
   "cell_type": "markdown",
   "id": "6978d004",
   "metadata": {},
   "source": [
    "📌 A ve B’de ortak eleman varsa → ayrık değil  \n",
    "Yoksa → ayrık"
   ]
  },
  {
   "cell_type": "markdown",
   "id": "da981f99",
   "metadata": {},
   "source": [
    "## 🧮 8. Olasılık Kuralları\n",
    "\n",
    "### a) **Birleşik Olay Olasılığı**\n",
    "$$\n",
    "P(A \\cup B) = P(A) + P(B) - P(A \\cap B)\n",
    "$$\n",
    "\n",
    "#### Python Kodu:"
   ]
  },
  {
   "cell_type": "code",
   "execution_count": 6,
   "id": "2c3a56d2",
   "metadata": {},
   "outputs": [
    {
     "name": "stdout",
     "output_type": "stream",
     "text": [
      "P(A ∪ B) = 0.50\n"
     ]
    }
   ],
   "source": [
    "# A: Zar 2'den küçük\n",
    "# B: Zar tek sayı\n",
    "\n",
    "A = set([1])\n",
    "B = set([1, 3, 5])\n",
    "\n",
    "P_A = len(A) / len(zar)\n",
    "P_B = len(B) / len(zar)\n",
    "P_kesisim = len(A.intersection(B)) / len(zar)\n",
    "\n",
    "P_birlesim = P_A + P_B - P_kesisim\n",
    "print(f\"P(A ∪ B) = {P_birlesim:.2f}\")"
   ]
  },
  {
   "cell_type": "markdown",
   "id": "f137c19a",
   "metadata": {},
   "source": [
    "## ⚖️ 9. Koşullu Olasılık\n",
    "\n",
    "### Formülü:\n",
    "$$\n",
    "P(A|B) = \\frac{P(A \\cap B)}{P(B)}\n",
    "$$\n",
    "\n",
    "#### Python Kodu:"
   ]
  },
  {
   "cell_type": "code",
   "execution_count": 7,
   "id": "910bf2fe",
   "metadata": {},
   "outputs": [
    {
     "name": "stdout",
     "output_type": "stream",
     "text": [
      "P(A|B) = 0.33\n"
     ]
    }
   ],
   "source": [
    "# Soru: Zarın çift olduğu bilindiğine göre, 2 gelme olasılığı nedir?\n",
    "# A: 2 gelme\n",
    "# B: Sayı çifttir → {2, 4, 6}\n",
    "\n",
    "A = set([2])\n",
    "B = set([2, 4, 6])\n",
    "\n",
    "P_kesisim = len(A.intersection(B)) / len(zar)\n",
    "P_B = len(B) / len(zar)\n",
    "\n",
    "P_A_verilen_B = P_kesisim / P_B\n",
    "print(f\"P(A|B) = {P_A_verilen_B:.2f}\")"
   ]
  },
  {
   "cell_type": "markdown",
   "id": "7bae06a2",
   "metadata": {},
   "source": [
    "📌 Yani: Zar çiftse → 2 gelme olasılığı %33’tür."
   ]
  },
  {
   "cell_type": "markdown",
   "id": "80b08abd",
   "metadata": {},
   "source": [
    "> ## <span style=\"color:orange\">**Olasılık Dağılımları**</span>\n",
    "\n",
    "\n",
    "##### <span style=\"color:green\" >**Kesikli Olasılık Dağılımları(non-Gaussian distribution)**</span>\n",
    "\n",
    "- #### Bernoulli Dağılımı\n",
    "### $X \\sim \\text{Bernoulli}(p)$, $P(X = k) = \\begin{cases} p, & \\text{if } k = 1 \\\\ (1-p), & \\text{if } k = 0 \\end{cases}$\n",
    "\n",
    "\n",
    "- #### Binom Dağılımı\n",
    "### $X \\sim \\text{Binomial}(n, p)$, $P(X = k) = \\binom{n}{k} p^k (1-p)^{n-k}$\n",
    "\n",
    "\n",
    "- #### Poisson Dağılımı\n",
    "### $X \\sim \\text{Poisson}(\\lambda)$, $P(X = k) = \\frac{e^{-\\lambda} \\lambda^k}{k!}$\n",
    "\n",
    "\n",
    "\n",
    "\n",
    "\n",
    "\n",
    "##### <span style=\"color:green\" >**Sürekli Olasılık Dağılımları (The Gaussian distribution is part of the Exponential family of distributions)**</span>\n",
    "\n",
    "- #### Normal Dağılım\n",
    "### $X \\sim \\mathcal{N}(\\mu, \\sigma^2)$, $f(x) = \\frac{1}{\\sqrt{2\\pi\\sigma^2}} e^{-\\frac{(x-\\mu)^2}{2\\sigma^2}}$\n",
    "\n",
    "- #### Üniform Dağılım\n",
    "### $X \\sim \\text{Uniform}(a, b)$, $f(x) = \\begin{cases} \\frac{1}{b-a}, & \\text{if } a \\leq x \\leq b \\\\ 0, & \\text{otherwise} \\end{cases}$\n",
    "\n",
    "- #### Üstel Dağılım\n",
    "### $X \\sim \\text{Exponential}(\\lambda)$, $f(x) = \\begin{cases} \\lambda e^{-\\lambda x}, & \\text{if } x \\geq 0 \\\\ 0, & \\text{if } x < 0 \\end{cases}$"
   ]
  },
  {
   "cell_type": "markdown",
   "id": "9d173eb0",
   "metadata": {},
   "source": [
    "## 🔄 10. Bayes Teoremi: Bilgiyi Güncellemek\n",
    "\n",
    "Bayes teoremi, **koşullu olasılıkta yön değiştirmeye** izin verir.\n",
    "\n",
    "### Formülü:\n",
    "$$\n",
    "P(A|B) = \\frac{P(B|A) \\cdot P(A)}{P(B)}\n",
    "$$\n",
    "\n",
    "#### Örnek:\n",
    "Bir testin doğruluğu %95  \n",
    "Hastalığın yaygınlığı %1  \n",
    "Test pozitif çıkarsa gerçekte hasta olma olasılığı nedir?\n",
    "\n",
    "#### Python Kodu:"
   ]
  },
  {
   "cell_type": "code",
   "execution_count": 8,
   "id": "4f3aac7f",
   "metadata": {},
   "outputs": [
    {
     "name": "stdout",
     "output_type": "stream",
     "text": [
      "Hasta olma olasılığı (test pozitifse): 0.16\n"
     ]
    }
   ],
   "source": [
    "\n",
    "# Bayes teoremi örneği\n",
    "# Test pozitif olduğunda hasta olma olasılığı\n",
    "\n",
    "p_hasta = 0.01\n",
    "p_pozitif_eğer_hasta = 0.95\n",
    "p_pozitif = p_pozitif_eğer_hasta * p_hasta + 0.05 * (1 - p_hasta)  # Toplam olasılık\n",
    "\n",
    "p_hasta_eğer_pozitif = (p_pozitif_eğer_hasta * p_hasta) / p_pozitif\n",
    "print(f\"Hasta olma olasılığı (test pozitifse): {p_hasta_eğer_pozitif:.2f}\")"
   ]
  },
  {
   "cell_type": "markdown",
   "id": "50ac7103",
   "metadata": {},
   "source": [
    "📌 Bu çok çarpıcı değil mi?  \n",
    "Test pozitif çıksa bile gerçek hasta olma şansı sadece %16!"
   ]
  },
  {
   "cell_type": "markdown",
   "id": "1d28d1d7",
   "metadata": {},
   "source": [
    "## 📊 11. Kesikli Dağılımlar: Bernoulli & Binom\n",
    "\n",
    "### a) **Bernoulli Dağılımı**\n",
    "Bir deneme, iki sonuçlu (başarı/başarısızlık)"
   ]
  },
  {
   "cell_type": "code",
   "execution_count": 9,
   "id": "58819a91",
   "metadata": {},
   "outputs": [
    {
     "name": "stdout",
     "output_type": "stream",
     "text": [
      "Bernoulli dağılımı:\n",
      "Başarı olasılığı (1): 0.3\n",
      "Başarısızlık olasılığı (0): 0.7000000000000002\n"
     ]
    }
   ],
   "source": [
    "from scipy.stats import bernoulli\n",
    "\n",
    "# Başarı olasılığı %30\n",
    "dist = bernoulli(p=0.3)\n",
    "\n",
    "print(\"Bernoulli dağılımı:\")\n",
    "print(\"Başarı olasılığı (1):\", dist.pmf(1))\n",
    "print(\"Başarısızlık olasılığı (0):\", dist.pmf(0))"
   ]
  },
  {
   "cell_type": "markdown",
   "id": "07d08b07",
   "metadata": {},
   "source": [
    "### b) **Binom Dağılımı**\n",
    "Birden fazla Bernoulli denemesi"
   ]
  },
  {
   "cell_type": "code",
   "execution_count": 10,
   "id": "75e97c50",
   "metadata": {},
   "outputs": [
    {
     "name": "stdout",
     "output_type": "stream",
     "text": [
      "Binom dağılımı PMF (x=3): 0.26682793199999977\n",
      "Binom dağılımı CDF (x<=3): 0.6496107184000002\n"
     ]
    }
   ],
   "source": [
    "from scipy.stats import binom\n",
    "\n",
    "n_deneme = 10\n",
    "p_basarili = 0.3\n",
    "\n",
    "dist_binom = binom(n=n_deneme, p=p_basarili)\n",
    "\n",
    "print(\"Binom dağılımı PMF (x=3):\", dist_binom.pmf(3))\n",
    "print(\"Binom dağılımı CDF (x<=3):\", dist_binom.cdf(3))"
   ]
  },
  {
   "cell_type": "markdown",
   "id": "99db1c1f",
   "metadata": {},
   "source": [
    "📌 Yani 10 denemede tam 3 başarı çıkma olasılığı %26’dır.  \n",
    "En az 3 başarı çıkma olasılığı ise %65’tir."
   ]
  },
  {
   "cell_type": "markdown",
   "id": "8b397073",
   "metadata": {},
   "source": [
    "## 📈 Gerçek Hayatta Nerelerde Görülür?\n",
    "\n",
    "| Alan | Kullanım |\n",
    "|------|-----------|\n",
    "| **Sağlık** | Testlerde pozitiflik oranı |\n",
    "| **Finans** | Hisse senedi fiyat artışı olasılığı |\n",
    "| **E-ticaret** | Kullanıcının ürünü alma olasılığı |\n",
    "| **Üretim** | Ürün hatalıysa, bu hatanın kaynağı ne olabilir? |\n"
   ]
  },
  {
   "cell_type": "markdown",
   "id": "33a44392",
   "metadata": {},
   "source": []
  }
 ],
 "metadata": {
  "kernelspec": {
   "display_name": "base",
   "language": "python",
   "name": "python3"
  },
  "language_info": {
   "codemirror_mode": {
    "name": "ipython",
    "version": 3
   },
   "file_extension": ".py",
   "mimetype": "text/x-python",
   "name": "python",
   "nbconvert_exporter": "python",
   "pygments_lexer": "ipython3",
   "version": "3.12.9"
  }
 },
 "nbformat": 4,
 "nbformat_minor": 5
}
