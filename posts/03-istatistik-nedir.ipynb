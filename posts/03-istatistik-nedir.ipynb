{
 "cells": [
  {
   "cell_type": "markdown",
   "id": "5398aae6",
   "metadata": {},
   "source": [
    "# 📊 İstatistik Nedir? Sayıların Anlamına Giden Yol\n",
    "\n",
    "## Giriş: Sayılar Sessizdir, İstatistik Konuşur\n",
    "\n",
    "Diyelim ki elinde 1000 satır veri var.  \n",
    "Sayılar karışık, anlamları yok gibi görünüyor.  \n",
    "Ama sen sadece bir ortalama alıp medyanını bulduğun anda,  \n",
    "verinin içindeki dengeyi görebiliyorsun.\n",
    "\n",
    "> “İstatistik, sayılara anlam kazandıran bilimdir.  \n",
    "Bilgiye giden yolun ilk adımını atar.”  "
   ]
  },
  {
   "cell_type": "markdown",
   "id": "4886f5a3",
   "metadata": {},
   "source": [
    "## Tanım: Bilimsel Yaklaşım ile Sayıları Okumak\n",
    "\n",
    "**İstatistik**, verileri toplamak, düzenlemek, analiz etmek,  \n",
    "ve bu verilerden anlamlı çıkarımlar yapmak için kullanılan bilimsel yöntemlerdir.\n",
    "\n",
    "📌 Kullanım alanları:\n",
    "- Veri bilimi\n",
    "- Finansal analiz\n",
    "- Tıp araştırmaları\n",
    "- Kamuoyunu ölçme\n",
    "- Pazarlama stratejisi\n",
    "\n",
    "> “Veri ham demirdir.  \n",
    "İstatistik, onu bıçak haline getiren ustadır.”  "
   ]
  },
  {
   "cell_type": "markdown",
   "id": "4cc62c23",
   "metadata": {},
   "source": [
    "## Neden İstatistik Öğrenmeliyiz?\n",
    "\n",
    "| Sebep | Açıklama |\n",
    "|--------|----------|\n",
    "| ✅ Veriyi tanırız | Ortalama, dağılım, aykırı değerleri okuyabiliriz |\n",
    "| ✅ Karar verirken dayanak olur | Strateji oluştururken sayısal temel sağlar |\n",
    "| ✅ Tahmin yapabiliriz | Gelecek hakkında model kurabiliriz |\n",
    "| ✅ Genellemeler yapabiliriz | Örnekten kitleye geçebiliriz |\n",
    "| ✅ Hata payını biliriz | Ne kadar güvenebileceğimizi gösterir |\n",
    "\n",
    "📌 İstatistik öğrenmeden veriyle çalışmak,  \n",
    "**gözler kapalı harita çizmeye benzer.**"
   ]
  },
  {
   "cell_type": "markdown",
   "id": "30efe485",
   "metadata": {},
   "source": [
    "## Temel Amaçlar: Betimsel mi? Çıkarımsal mı?\n",
    "\n",
    "### 🔹 Betimsel İstatistik (Descriptive Statistics)\n",
    "\n",
    "Toplanan veriyi özetler, tanımlar.  \n",
    "Ne olduğunu gösterir; nedenini değil.\n",
    "\n",
    "#### Örnek:"
   ]
  },
  {
   "cell_type": "code",
   "execution_count": 2,
   "id": "f7f43757",
   "metadata": {},
   "outputs": [
    {
     "name": "stdout",
     "output_type": "stream",
     "text": [
      "            Fiyat  SatisAdedi\n",
      "count  100.000000  100.000000\n",
      "mean   277.026200    9.320000\n",
      "std    133.031241    5.557559\n",
      "min     51.820000    1.000000\n",
      "25%    161.825000    4.000000\n",
      "50%    276.945000    9.500000\n",
      "75%    384.412500   14.000000\n",
      "max    497.600000   20.000000\n"
     ]
    }
   ],
   "source": [
    "import numpy as np\n",
    "import pandas as pd\n",
    "\n",
    "df = pd.read_csv(\"data/satis_verisi.csv\")\n",
    "print(df.describe())"
   ]
  },
  {
   "cell_type": "markdown",
   "id": "8dbfa411",
   "metadata": {},
   "source": [
    "✅ Ortalama, standart sapma, minimum-maksimum değerler  \n",
    "→ Hepsi betimsel istatistiğe girer."
   ]
  },
  {
   "cell_type": "markdown",
   "id": "ce148b10",
   "metadata": {},
   "source": [
    "### 🔸 Çıkarımsal İstatistik (Inferential Statistics)\n",
    "\n",
    "Örneklemden kitleye geçer.  \n",
    "Tahmin yapar, hipotez test eder, ilişki kurar.\n",
    "\n",
    "#### Örnek:"
   ]
  },
  {
   "cell_type": "code",
   "execution_count": 3,
   "id": "b7b008d4",
   "metadata": {},
   "outputs": [
    {
     "name": "stdout",
     "output_type": "stream",
     "text": [
      "p-değeri: 0.1259\n"
     ]
    }
   ],
   "source": [
    "\n",
    "from scipy.stats import ttest_1samp\n",
    "\n",
    "orneklem = [70, 75, 80, 82, 85, 90]\n",
    "t_stat, p_degeri = ttest_1samp(orneklem, popmean=75)\n",
    "print(f\"p-değeri: {p_degeri:.4f}\")"
   ]
  },
  {
   "cell_type": "markdown",
   "id": "b6e17153",
   "metadata": {},
   "source": [
    "📌 Eğer `p_değeri < 0.05` ise → ortalamanın farklı olduğunu söyler!"
   ]
  },
  {
   "cell_type": "markdown",
   "id": "b1d233ed",
   "metadata": {},
   "source": [
    "## 🧠 İstatistik Süreci: Hangi Adımları İzliyoruz?\n",
    "\n",
    "| Aşama | Açıklama |\n",
    "|-------|-----------|\n",
    "| 1. Araştırma Tasarımı | Soruları iyi sormak gerekir. Yoksa sonuç da yanlış olur. |\n",
    "| 2. Veri Toplama | Kaynaklardan veri çekeriz. API, CSV, anket, sensör vs. |\n",
    "| 3. Veri Düzenleme | Eksik değerleri doldurur, aykırı değerleri elemek zorunda kalırız. |\n",
    "| 4. Betimsel Analiz | Ortalama, medyan, grafikler… Veriyi tanıyacağız. |\n",
    "| 5. Çıkarımsal Analiz | Hipotez testi, regresyon, güven aralığı… Sonuçları genelleriz. |\n",
    "| 6. Yorumlama | Sayılar konuşur, biz dinleriz. |\n",
    "| 7. Raporlama | Bulduğumuz şeyleri başkalarına aktarırız. |\n",
    "\n",
    "📌 Her aşama, sonraki aşamayı besler.  \n",
    "Boş veri işe yaramaz, ama **doğru istatistikle her veri anlamlı hale gelir.**"
   ]
  },
  {
   "cell_type": "markdown",
   "id": "bb3816aa",
   "metadata": {},
   "source": [
    "## 👥 Ana Kütle mi? Örneklem mi?\n",
    "\n",
    "| Terim | Açıklama |\n",
    "|------|----------|\n",
    "| **Ana Kütle (Population)** | Üzerinde çalışmak istediğimiz tüm grup |\n",
    "| **Örneklem (Sample)** | Ana kütleden seçilen küçük temsilci grubumuz |\n",
    "\n",
    "📌 Gerçek hayatta ana kütlenin tamamına ulaşmak çok nadirdir.  \n",
    "O yüzden örneklem alır, ondan yola çıkarak ana kütleyi tahmin ederiz."
   ]
  },
  {
   "cell_type": "markdown",
   "id": "188cee18",
   "metadata": {},
   "source": [
    "## 🎯 Örneklem Seçimi: Rastgele mi? Kasıtlı mı?\n",
    "\n",
    "| Tür | Açıklama |\n",
    "|-----|----------|\n",
    "| **Rassal Örnekleme** | Her bir elemanın seçilme şansı eşittir |\n",
    "| **Tabakalı Örnekleme** | Gruplar arasında denge korunur |\n",
    "| **Sistematik Örnekleme** | Belirli aralıklarla seçim yapılır |\n",
    "| **Kolay Örnekleme** | Ulaşılması kolay olanlardan alınır → yanlı olabilir |\n",
    "\n",
    "📌 Yanlı (biased) veri → Yanlı sonuç → Yanlı karar\n",
    "\n",
    "> “Veri, eğer kitleyi yansıtmıyorsa,  \n",
    "ne kadar büyük olursa olsun → işe yaramaz.”  "
   ]
  },
  {
   "cell_type": "markdown",
   "id": "f997a094",
   "metadata": {},
   "source": [
    "## 📈 Betimsel İstatistik: Veriyi Tanıyalım\n",
    "\n",
    "### 1. Merkezi Eğilim Ölçüleri"
   ]
  },
  {
   "cell_type": "code",
   "execution_count": 4,
   "id": "bcb86b24",
   "metadata": {},
   "outputs": [
    {
     "name": "stdout",
     "output_type": "stream",
     "text": [
      "Ortalama: 277.0262\n",
      "Medyan: 276.945\n",
      "Mod: Elektronik\n"
     ]
    }
   ],
   "source": [
    "print(\"Ortalama:\", df['Fiyat'].mean())\n",
    "print(\"Medyan:\", df['Fiyat'].median())\n",
    "print(\"Mod:\", df['Kategori'].mode()[0])"
   ]
  },
  {
   "cell_type": "markdown",
   "id": "a727046b",
   "metadata": {},
   "source": [
    "📌 Bu ölçüleri bildiğinde verinin merkezini görürsün."
   ]
  },
  {
   "cell_type": "markdown",
   "id": "b30bcac8",
   "metadata": {},
   "source": [
    "2. Yayılım Ölçüleri"
   ]
  },
  {
   "cell_type": "code",
   "execution_count": 5,
   "id": "4df14711",
   "metadata": {},
   "outputs": [
    {
     "name": "stdout",
     "output_type": "stream",
     "text": [
      "Standart Sapma: 5.557559234633908\n",
      "Değişim Aralığı: 19\n",
      "Kartiller: 0.25     4.0\n",
      "0.50     9.5\n",
      "0.75    14.0\n",
      "Name: SatisAdedi, dtype: float64\n"
     ]
    }
   ],
   "source": [
    "print(\"Standart Sapma:\", df['SatisAdedi'].std())\n",
    "print(\"Değişim Aralığı:\", df['SatisAdedi'].max() - df['SatisAdedi'].min())\n",
    "print(\"Kartiller:\", df['SatisAdedi'].quantile([0.25, 0.5, 0.75]))"
   ]
  },
  {
   "cell_type": "markdown",
   "id": "c4d409a6",
   "metadata": {},
   "source": [
    "### 3. Görselleştirme"
   ]
  },
  {
   "cell_type": "code",
   "execution_count": 7,
   "id": "8bad2700",
   "metadata": {},
   "outputs": [
    {
     "data": {
      "image/png": "[encoded data removed]",
      "text/plain": [
       "<Figure size 640x480 with 1 Axes>"
      ]
     },
     "metadata": {},
     "output_type": "display_data"
    }
   ],
   "source": [
    "import matplotlib.pyplot as plt\n",
    "import seaborn as sns\n",
    "\n",
    "sns.histplot(df['SatisAdedi'], kde=True)\n",
    "plt.title(\"Satış Adedi Dağılımı\")\n",
    "plt.show()"
   ]
  },
  {
   "cell_type": "markdown",
   "id": "97ba4de0",
   "metadata": {},
   "source": [
    "📌 Görsel, sayıların hikâyesini anlatır.  "
   ]
  },
  {
   "cell_type": "markdown",
   "id": "e73bc157",
   "metadata": {},
   "source": [
    "## 🤔 Çıkarımsal İstatistik: Büyük Resmi Görelim\n",
    "\n",
    "### 1. Güven Aralığı"
   ]
  },
  {
   "cell_type": "code",
   "execution_count": 8,
   "id": "b03efe6f",
   "metadata": {},
   "outputs": [
    {
     "name": "stdout",
     "output_type": "stream",
     "text": [
      "%95 Güven Aralığı: (8.23, 10.41)\n"
     ]
    }
   ],
   "source": [
    "import scipy.stats as stats\n",
    "\n",
    "satis_adetleri = df['SatisAdedi']\n",
    "conf_int = stats.norm.interval(confidence=0.95,\n",
    "                              loc=satis_adetleri.mean(),\n",
    "                              scale=satis_adetleri.std() / np.sqrt(len(satis_adetleri)))\n",
    "\n",
    "print(f\"%95 Güven Aralığı: ({conf_int[0]:.2f}, {conf_int[1]:.2f})\")"
   ]
  },
  {
   "cell_type": "markdown",
   "id": "d9ed073c",
   "metadata": {},
   "source": [
    "📌 Bu aralıkta ana kütle parametresi olmalı.  \n",
    "%95 ihtimalle…"
   ]
  },
  {
   "cell_type": "markdown",
   "id": "f8ba51ce",
   "metadata": {},
   "source": [
    "2. Hipotez Testi"
   ]
  },
  {
   "cell_type": "code",
   "execution_count": 9,
   "id": "9a94735b",
   "metadata": {},
   "outputs": [
    {
     "name": "stdout",
     "output_type": "stream",
     "text": [
      "Aradaki fark tesadüfi olabilir.\n"
     ]
    }
   ],
   "source": [
    "from scipy.stats import ttest_1samp\n",
    "\n",
    "orneklem_fiyat = df[df['Kategori'] == 'Elektronik']['Fiyat']\n",
    "t_stat, p_val = ttest_1samp(orneklem_fiyat, popmean=300)\n",
    "\n",
    "if p_val < 0.05:\n",
    "    print(\"Elektronik ürünlerin fiyatı %95 güvenle 300’den farklı.\")\n",
    "else:\n",
    "    print(\"Aradaki fark tesadüfi olabilir.\")"
   ]
  },
  {
   "cell_type": "markdown",
   "id": "016d2e30",
   "metadata": {},
   "source": [
    "📌 Bu test, \"gerçekten farklı mı?\" sorusuna yanıt arar."
   ]
  },
  {
   "cell_type": "markdown",
   "id": "1f474531",
   "metadata": {},
   "source": [
    "## 🧪 Veri Toplama Yöntemleri\n",
    "\n",
    "| Yöntem | Açıklama |\n",
    "|--------|----------|\n",
    "| **Anketler (Survey)** | İnsanlardan doğrudan veri almak |\n",
    "| **Deneyler (Experiment)** | Kontrollü ortamda veri üretmek |\n",
    "| **Gözlem (Observation)** | Doğal ortamda izleme ve kaydetme |\n",
    "\n",
    "📌 Deney yapıyorsan kontrol grubun olmalı.  \n",
    "Yoksa sonuç ne kadar doğruysa da inandırıcı değildir."
   ]
  },
  {
   "cell_type": "markdown",
   "id": "f051fb8a",
   "metadata": {},
   "source": [
    "## 📘 Betimsel mi, Çıkarımsal mı?\n",
    "\n",
    "| Özellik | Betimsel | Çıkarımsal |\n",
    "|---------|----------|------------|\n",
    "| Amacı | Veriyi özetlemek | Örneklemi kullanarak kitle hakkında çıkarım yapmak |\n",
    "| Veri | Tam veri seti | Örneklem |\n",
    "| Güven | Kesin sonuç | Olasılığa dayalı sonuç |\n",
    "| Model | Grafik, ortalama | Hipotez testi, regresyon, güven aralığı |\n",
    "\n",
    "📌 Betimsel istatistik → veriyi okur  \n",
    "Çıkarımsal istatistik → veriden yorum yapar"
   ]
  },
  {
   "cell_type": "markdown",
   "id": "232735ba",
   "metadata": {},
   "source": [
    "## 🧩 Gerçek Hayat Örneği: Satış Tahmini\n",
    "\n",
    "Bir ürünün fiyat artışıyla satış sayısı düşer mi?\n",
    "\n",
    "Bu soruya yanıt vermek için hem betimsel hem çıkarımsal istatistik kullanılır.\n",
    "\n",
    "### Betimsel olarak bakalım:"
   ]
  },
  {
   "cell_type": "code",
   "execution_count": 6,
   "id": "7d1e17dc",
   "metadata": {},
   "outputs": [
    {
     "name": "stdout",
     "output_type": "stream",
     "text": [
      "Fiyat ortalaması: 261.5809\n",
      "Satış ortalaması: 121.52\n"
     ]
    }
   ],
   "source": [
    "import pandas as pd\n",
    "\n",
    "# Örnek veri yükleme\n",
    "df_model = pd.read_csv(\"data/ornek_satis.csv\")\n",
    "\n",
    "\n",
    "print(\"Fiyat ortalaması:\", df_model['fiyat'].mean())\n",
    "print(\"Satış ortalaması:\", df_model['satis'].mean())"
   ]
  },
  {
   "cell_type": "markdown",
   "id": "cecba9bd",
   "metadata": {},
   "source": [
    "✅ Fiyat yükseldikçe satış azalıyor mu?"
   ]
  },
  {
   "cell_type": "markdown",
   "id": "b45546c1",
   "metadata": {},
   "source": [
    "### Çıkarımsal olarak test edelim:"
   ]
  },
  {
   "cell_type": "code",
   "execution_count": 7,
   "id": "7c6a6085",
   "metadata": {},
   "outputs": [
    {
     "name": "stdout",
     "output_type": "stream",
     "text": [
      "Pearson Korelasyonu: -0.98, p-değeri: 0.0000\n"
     ]
    }
   ],
   "source": [
    "from scipy.stats import pearsonr\n",
    "\n",
    "r, p = pearsonr(df_model['fiyat'], df_model['satis'])\n",
    "print(f\"Pearson Korelasyonu: {r:.2f}, p-değeri: {p:.4f}\")"
   ]
  },
  {
   "cell_type": "markdown",
   "id": "d2f5314b",
   "metadata": {},
   "source": [
    "✅ Negatif korelasyon → ters yönlü ilişki  \n",
    "✅ p < 0.05 → istatistiksel olarak anlamlı"
   ]
  },
  {
   "cell_type": "markdown",
   "id": "911b9337",
   "metadata": {},
   "source": [
    "## 🚨 Önemli Uyarı: Yanlılık (Bias)\n",
    "\n",
    "Veri toplarken dikkat etmen gereken en önemli şey:  \n",
    "**Veri, gerçek dünyayı yansıtıyor mu?**\n",
    "\n",
    "📌 Yanlı veri toplarsan →  \n",
    "yanlı analiz yaparsın →  \n",
    "yanlı karar alırsın →  \n",
    "yanlı sonuç elde edersin\n",
    "\n",
    "> “İstatistiksel analiz, veriyle başlar.  \n",
    "Veri bozuksa, analiz de bozuktur.”  "
   ]
  },
  {
   "cell_type": "markdown",
   "id": "2e5a15c1",
   "metadata": {},
   "source": [
    "## 💡 Neden İstatistik Bilmeliyiz?\n",
    "\n",
    "| Alan | İstatistik Rolü |\n",
    "|------|------------------|\n",
    "| **Veri Bilimi** | Model kurma, tahmin etme |\n",
    "| **Finans** | Risk analizi, portföy optimizasyonu |\n",
    "| **Sağlık** | Tedavi etkisi, hastalıkların yayılımı |\n",
    "| **Eğitim** | Başarı oranları, eğitim yöntemi etkisi |\n",
    "| **Pazarlama** | Müşteri davranışları, kampanya başarısı |\n",
    "\n",
    "📌 İstatistik olmadan, veri sadece  veri dizisidir.**  \n",
    "İstatistikle beraber veri, **bilgiye dönüşür.**"
   ]
  },
  {
   "cell_type": "markdown",
   "id": "d0f2947d",
   "metadata": {},
   "source": [
    "## 📁 Sample Veri Seti: `ornek_satis.csv` ile Yapabileceklerimiz\n",
    "\n",
    "Bu veriyle şu işlemleri yapabiliriz:\n",
    "\n",
    "| İşlem         | Açıklama                                       |\n",
    "| ------------- | ---------------------------------------------- |\n",
    "| Korelasyon    | Fiyat ve satış arasındaki ilişki               |\n",
    "| Regresyon     | Fiyat artarsa satış miktarı nasıl değişir?     |\n",
    "| Histogram     | Satış miktarı nasıl dağılmış?                  |\n",
    "| Box Plot      | Aykırı değer var mı?                           |\n",
    "| Güven Aralığı | Gerçek ortalama nerdedir?                      |\n",
    "| Hipotez Testi | Fiyat artışı gerçekten satışları düşürüyor mu? |\n"
   ]
  },
  {
   "cell_type": "markdown",
   "id": "1c7e1413",
   "metadata": {},
   "source": [
    "## 🧪 Python Kodu ile İstatistik Uygulaması\n",
    "\n",
    "Şimdi örneklem üzerinden kitleye geçiş yapalım:"
   ]
  },
  {
   "cell_type": "code",
   "execution_count": 8,
   "id": "9af14919",
   "metadata": {},
   "outputs": [
    {
     "name": "stdout",
     "output_type": "stream",
     "text": [
      "%95 Güven Aralığı: (107.68, 136.52)\n"
     ]
    }
   ],
   "source": [
    "import numpy as np\n",
    "from scipy.stats import norm\n",
    "\n",
    "# Ana kütle ortalaması bilinmiyor\n",
    "# Örneklem alıyoruz ve güven aralığı hesaplıyoruz\n",
    "\n",
    "orneklem = df_model.sample(n=30)\n",
    "orneklem_ort = orneklem['satis'].mean()\n",
    "orneklem_std = orneklem['satis'].std()\n",
    "n = len(orneklem)\n",
    "\n",
    "# %95 güven aralığı\n",
    "z_skoru = 1.96\n",
    "standart_hata = orneklem_std / np.sqrt(n)\n",
    "alt_sinir = orneklem_ort - z_skoru * standart_hata\n",
    "ust_sinir = orneklem_ort + z_skoru * standart_hata\n",
    "\n",
    "print(f\"%95 Güven Aralığı: ({alt_sinir:.2f}, {ust_sinir:.2f})\")"
   ]
  },
  {
   "cell_type": "markdown",
   "id": "592e7366",
   "metadata": {},
   "source": [
    "📌 Bu kod, örneklem üzerinden kitleye geçmenin nasıl yapıldığını gösteriyor."
   ]
  },
  {
   "cell_type": "markdown",
   "id": "6a1c1a9e",
   "metadata": {},
   "source": []
  }
 ],
 "metadata": {
  "kernelspec": {
   "display_name": "base",
   "language": "python",
   "name": "python3"
  },
  "language_info": {
   "codemirror_mode": {
    "name": "ipython",
    "version": 3
   },
   "file_extension": ".py",
   "mimetype": "text/x-python",
   "name": "python",
   "nbconvert_exporter": "python",
   "pygments_lexer": "ipython3",
   "version": "3.12.9"
  }
 },
 "nbformat": 4,
 "nbformat_minor": 5
}
