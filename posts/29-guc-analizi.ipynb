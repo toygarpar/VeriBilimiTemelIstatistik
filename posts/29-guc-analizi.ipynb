{
 "cells": [
  {
   "cell_type": "markdown",
   "id": "ad4f1627",
   "metadata": {},
   "source": [
    "# 🔬 Güç Analizi: Kaç Kişiye Bakmalıyım?\n",
    "\n",
    "## Giriş: Veri Toplamak Ücretsiz Değil\n",
    "\n",
    "Diyelim ki yeni bir ürün tasarımı yaptın.  \n",
    "AB testi yapmak istiyorsun.  \n",
    "Ama kaç kişiye bu testi uygulamalısın ki farkı yakalayasın?\n",
    "\n",
    "> “İstatistiksel güç, doğru karar verme yeteneğidir.  \n",
    "Yeterli örneklem olmadan → güçlü karar da olmaz.”  "
   ]
  },
  {
   "cell_type": "markdown",
   "id": "05e42040",
   "metadata": {},
   "source": [
    "## 🧠 Güç Nedir?\n",
    "\n",
    "**Güç**, aslında:\n",
    "> “Gerçek bir fark varken onu tespit edebilme olasılığıdır.”\n",
    "\n",
    "📌 Matematiksel olarak:\n",
    "$$\n",
    "\\text{Güç} = 1 - \\beta\n",
    "$$\n",
    "\n",
    "| Terim | Anlamı |\n",
    "|-------|---------|\n",
    "| **β (Tip II hata)** | Gerçek fark varken fark olmadığını söylemek |\n",
    "| **Güç (Power)** | Gerçek fark varsa, bunu tespit etme olasılığı |\n",
    "\n",
    "📌 Genellikle `güç ≥ 0.80` alınır.  \n",
    "Yani %80 ihtimalle gerçek farkı görebilmeyi garanti altına alırız."
   ]
  },
  {
   "cell_type": "markdown",
   "id": "fb56e634",
   "metadata": {},
   "source": [
    "## ⚖️ Güç Analizinin Temel Bileşenleri\n",
    "\n",
    "4 ana unsur vardır:\n",
    "\n",
    "| Bileşen | Açıklama |\n",
    "|--------|----------|\n",
    "| **α (Anlamlılık düzeyi)** | Yanılma payımız (%5 genellikle) |\n",
    "| **n (Örneklem büyüklüğü)** | Kaç kişiye bakacağımız |\n",
    "| **Etki Büyüklüğü (effect size)** | Fark ne kadar büyükse o kadar az örnekle yeterli olur |\n",
    "| **Güç (power)** | Testin farkı tespit edebilme yeteneği |\n",
    "\n",
    "📌 Bu dördüz arasında bir denge vardır.  \n",
    "Herhangi üçünü belirleyince dördüncüyü hesaplayabilirsin.\n",
    "\n",
    "### 📊 Güç Analizi Nasıl Yapılır?\n",
    "\n",
    "1. **α (Anlamlılık Düzeyi)**: Genellikle %5 kullanılır. Bu, testin yanlış bir şekilde anlamlı bulma olasılığıdır.\n",
    "2. **n (Örneklem Büyüklüğü)**: Kaç kişi üzerinde deneyeceğiz.\n",
    "3. **Etki Büyüklüğü**: Farkın ne kadar büyük olması bekleniyor? (Küçük, Orta, Büyük)\n",
    "4. **Güç (Power)**: Testin farkı tespit edebilme yeteneği. Genellikle %80 veya %90 kullanılır."
   ]
  },
  {
   "cell_type": "markdown",
   "id": "ea90d016",
   "metadata": {},
   "source": [
    "## 📊 Güç Analizi Ne Zaman Gerekir?\n",
    "\n",
    "| Durum | Açıklama |\n",
    "|--------|----------|\n",
    "| ✅ **A/B testi planlıyorsan** | Kaç kullanıcıya göstermelisin? |\n",
    "| ✅ **Klinik deneylerde** | İlacın etkisini görmek için kaç hasta izlenmeli? |\n",
    "| ✅ **Anket çalışmasında** | Sonuçları güvenilir kılmak için kaç kişi katılmali? |\n",
    "| ✅ **Hipotez testi yaparken** | Yeterli örneklem sayısını belirlemek için |\n",
    "\n",
    "📌 Düşük örneklem → yanlış negatif sonuçlar  \n",
    "Yüksek örneklem → zaman ve kaynak israfı"
   ]
  },
  {
   "cell_type": "markdown",
   "id": "703af74d",
   "metadata": {},
   "source": [
    "## 🛠️ Python Kodu ile Güç Analizi Yapmak"
   ]
  },
  {
   "cell_type": "code",
   "execution_count": 2,
   "id": "528d1695",
   "metadata": {},
   "outputs": [
    {
     "name": "stdout",
     "output_type": "stream",
     "text": [
      "Gerekli örneklem sayısı: 64\n"
     ]
    }
   ],
   "source": [
    "from statsmodels.stats.power import TTestIndPower\n",
    "\n",
    "# Sample parametreler\n",
    "etki_buyuklugu = 0.5   # orta etki\n",
    "alfa = 0.05           # yanılma payı\n",
    "guven_duzeyi = 0.80   # 80% güç\n",
    "\n",
    "# Güç analizi objesi\n",
    "analiz = TTestIndPower()\n",
    "\n",
    "# Gerekli örneklem sayısını hesapla\n",
    "orneklem_sayisi = analiz.solve_power(effect_size=etki_buyuklugu,\n",
    "                                     power=guven_duzeyi,\n",
    "                                     alpha=alfa,\n",
    "                                     alternative='two-sided')\n",
    "\n",
    "print(f\"Gerekli örneklem sayısı: {orneklem_sayisi:.0f}\")"
   ]
  },
  {
   "cell_type": "markdown",
   "id": "86a2eccf",
   "metadata": {},
   "source": [
    "📌 Bu çıktı şunu anlatıyor:\n",
    "- Ortalama etki büyüklüğüyle (örneğin Cohen’s d = 0.5)\n",
    "- %95 güven düzeyinde\n",
    "- %80 güçle farkı yakalayabilmek için → her grupta 64 kişilik örneklem yeterlidir."
   ]
  },
  {
   "cell_type": "markdown",
   "id": "2d49300b",
   "metadata": {},
   "source": [
    "## 📐 Güç Analizini Etkileyen Unsurlar\n",
    "\n",
    "### a) **Etki Büyüklüğü Artarsa**\n",
    "→ Gerekli örneklem sayısı azalır  \n",
    "Yani büyük farkı daha küçük veriyle bile görürsün\n",
    "\n",
    "### b) **Güç Seviyesi Artarsa (örneğin 0.90’a çıkarsa)**\n",
    "→ Gerekli örneklem artar  \n",
    "Daha yüksek güven → daha fazla veri demektir\n",
    "\n",
    "### c) **Alfa seviyesi küçülürse (örneğin 0.01’e inerse)**\n",
    "→ Gerekli örneklem artar  \n",
    "Çünkü artık daha az Tip I hatası kabul edebiliriz."
   ]
  },
  {
   "cell_type": "markdown",
   "id": "4c31c3b9",
   "metadata": {},
   "source": [
    "## 📋 Etki Büyüklüğü (Effect Size) Nedir?\n",
    "\n",
    "Etki büyüklüğü, farkın **pratikte ne kadar önemli olduğunu** ölçer.\n",
    "\n",
    "### Örnek: Cohen's d\n",
    "\n",
    "$$\n",
    "d = \\frac{\\bar{x}_1 - \\bar{x}_2}{s}\n",
    "$$\n",
    "\n",
    "📌 Yorumlama kılavuzu:\n",
    "| d değeri | Yorum |\n",
    "|----------|--------|\n",
    "| 0.2      | Küçük etki |\n",
    "| 0.5      | Orta etki |\n",
    "| 0.8      | Büyük etki |"
   ]
  },
  {
   "cell_type": "code",
   "execution_count": 4,
   "id": "50577744",
   "metadata": {},
   "outputs": [
    {
     "name": "stdout",
     "output_type": "stream",
     "text": [
      "Cohen’s d: -0.6758030541389607\n"
     ]
    }
   ],
   "source": [
    "import numpy as np\n",
    "\n",
    "def cohen_d(group1, group2):\n",
    "    return (np.mean(group1) - np.mean(group2)) / np.sqrt((np.var(group1) + np.var(group2)) / 2)\n",
    "\n",
    "# Simülasyon verisi\n",
    "np.random.seed(42)\n",
    "grup1 = np.random.normal(loc=75, scale=10, size=100)\n",
    "grup2 = np.random.normal(loc=80, scale=10, size=100)\n",
    "\n",
    "print(\"Cohen’s d:\", cohen_d(grup1, grup2))"
   ]
  },
  {
   "cell_type": "markdown",
   "id": "61016ad7",
   "metadata": {},
   "source": [
    "📌 Yorum: Orta düzeyde bir etki var → örneklem sayımız da ~64 kişi olmalı"
   ]
  },
  {
   "cell_type": "markdown",
   "id": "a6af3cff",
   "metadata": {},
   "source": [
    "## 📈 Grafiksel Gösterim: Güç vs Örneklem Sayısı"
   ]
  },
  {
   "cell_type": "code",
   "execution_count": 5,
   "id": "52c85f13",
   "metadata": {},
   "outputs": [
    {
     "data": {
      "image/png": "[encoded data removed]",
      "text/plain": [
       "<Figure size 640x480 with 1 Axes>"
      ]
     },
     "metadata": {},
     "output_type": "display_data"
    }
   ],
   "source": [
    "import matplotlib.pyplot as plt\n",
    "\n",
    "fig = analiz.plot_power(dep_var= 'nobs', nobs=np.arange(10, 200), effect_size=[0.2, 0.5, 0.8])\n",
    "plt.title(\"Güç Analizi: Güç Eğrisi\")\n",
    "plt.xlabel(\"Örneklem Sayısı (n)\")\n",
    "plt.ylabel(\"Test Gücü\")\n",
    "plt.grid(True)\n",
    "plt.show()"
   ]
  },
  {
   "cell_type": "markdown",
   "id": "6e6e0397",
   "metadata": {},
   "source": [
    "📌 Bu grafikte:\n",
    "- Her etki büyüklüğü için farklı güç eğrileri\n",
    "- Noktalar, belirli bir güç düzeyine ulaşmak için gereken örneklem sayısını gösteriyor"
   ]
  },
  {
   "cell_type": "markdown",
   "id": "716abfa6",
   "metadata": {},
   "source": [
    "## 🤔 Güç Analizi Hangi Testlerde Kullanılır?\n",
    "\n",
    "| Test Türü | Güç Analizi İçin Kullanılan Fonksiyon |\n",
    "|-----------|--------------------------------------|\n",
    "| **T-testi (bağımsız)** | `TTestIndPower` |\n",
    "| **Paired T-testi** | `TTestPower` |\n",
    "| **Oran testi (Z-testi)** | `GofChisquarePower`, `ProportionPower` |\n",
    "| **ANOVA** | `FTestAnovaPower` |\n",
    "\n",
    "#### Örnek: ANOVA için Güç Hesabı"
   ]
  },
  {
   "cell_type": "code",
   "execution_count": 6,
   "id": "81bb25c5",
   "metadata": {},
   "outputs": [
    {
     "name": "stdout",
     "output_type": "stream",
     "text": [
      "3 grup için gerekli örneklem: 157\n"
     ]
    }
   ],
   "source": [
    "from statsmodels.stats.power import FTestAnovaPower\n",
    "\n",
    "anova_analiz = FTestAnovaPower()\n",
    "etki_f = 0.25  # orta etki\n",
    "n_gerekli = anova_analiz.solve_power(effect_size=etki_f, power=0.8, alpha=0.05, k_groups=3)\n",
    "print(f\"3 grup için gerekli örneklem: {n_gerekli:.0f}\")"
   ]
  },
  {
   "cell_type": "markdown",
   "id": "74cac6b1",
   "metadata": {},
   "source": [
    "📌 Yani toplamda 156 kişi → her grupta ~52 kişi anlamına gelir."
   ]
  },
  {
   "cell_type": "markdown",
   "id": "8ea38ed5",
   "metadata": {},
   "source": [
    "## 📉 Güç Analizi ve Hipotez Testi Bağlantısı\n",
    "\n",
    "| Karar | Gerçek Durum |\n",
    "|--------|--------------|\n",
    "| **H₀ reddedildi** | Fark var |\n",
    "| **H₀ reddedilemedi** | Fark yok veya örneklem yetersiz olabilir |\n",
    "\n",
    "📌 Eğer **gerçekten fark var** ama biz onu göremediysen → **Tip II hata** yapıldı demektir.\n",
    "\n",
    "> “Güç analizi, bu hatayı yapmamak için  \n",
    "önemli olan minimum veri miktarını gösterir.”  "
   ]
  },
  {
   "cell_type": "markdown",
   "id": "b908fb55",
   "metadata": {},
   "source": [
    "## 📌 Güç Analizi ve Kaynak Optimizasyonu\n",
    "\n",
    "Güç analizi aynı zamanda maliyet optimizasyonudur.\n",
    "\n",
    "| Senaryo | Açıklama |\n",
    "|--------|-----------|\n",
    "| Çok az kişiye bakarsan → p-değeri anlamsız kalabilir | Tip II hataya açık |\n",
    "| Çok fazla kişiye bakarsan → işlem maliyetli olur | Tip I hataya karşı koruyucu ama maliyetli\n"
   ]
  },
  {
   "cell_type": "markdown",
   "id": "5e7cf8d1",
   "metadata": {},
   "source": []
  }
 ],
 "metadata": {
  "kernelspec": {
   "display_name": "base",
   "language": "python",
   "name": "python3"
  },
  "language_info": {
   "codemirror_mode": {
    "name": "ipython",
    "version": 3
   },
   "file_extension": ".py",
   "mimetype": "text/x-python",
   "name": "python",
   "nbconvert_exporter": "python",
   "pygments_lexer": "ipython3",
   "version": "3.12.9"
  }
 },
 "nbformat": 4,
 "nbformat_minor": 5
}
