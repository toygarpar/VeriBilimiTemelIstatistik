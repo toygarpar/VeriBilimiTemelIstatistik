{
 "cells": [
  {
   "cell_type": "markdown",
   "id": "780953eb",
   "metadata": {},
   "source": [
    "# 📏 Birim ve Ana Kütle: Verinin Temel Taşları\n",
    "\n",
    "## Giriş: Kimi Ölçiyorsun?\n",
    "\n",
    "Veri bilimi ya da istatistik çalışıyorsan,  \n",
    "ilk sorulması gereken soru şudur:\n",
    "\n",
    "> “Üzerinde çalıştığım birim nedir?”  \n",
    "> “Ve bu birimler topluluğu hangi ana kütleye aittir?”"
   ]
  },
  {
   "cell_type": "markdown",
   "id": "4c523c6d",
   "metadata": {},
   "source": [
    "## 🔍 1. Birim Nedir?\n",
    "\n",
    "**Birim**, üzerinde gözlem veya ölçüm yapılan en küçük varlıktır.\n",
    "\n",
    "📌 Başka bir deyişle:\n",
    "> “İstatistiksel olarak incelediğimiz her birey, nesne ya da olay bir ‘birim’dir.”\n",
    "\n",
    "### ✅ Birim Olabilmesi İçin Ne Gerekli?\n",
    "\n",
    "- **Ölçülebilir olmalı**\n",
    "- **Sayılabilir olmalı**\n",
    "- **Tanımlanabilir ve sınırlandırılabilir olmalı**\n"
   ]
  },
  {
   "cell_type": "markdown",
   "id": "4830eec8",
   "metadata": {},
   "source": [
    "BİRİM (olgu=denek=case):\n",
    "\n",
    "Üzerinde gözlem ve ölçüm yapılan ve anakütleyi oluşturan en küçük\n",
    "öğeye birim adı verilir. Yığın olay niteliğindeki her bir olaya birim denir.\n",
    "Birimler canlı yada cansız varlıklar olabileceği gibi, kurum, kuruluş da\n",
    "olabilir.\n",
    "\n",
    "Bir olayın birim olabilmesi için kesinlikle ölçülmeye ve sayılmaya\n",
    "elverişli olması gerekir. İnsan, hayvan gibi canlı bir yaratık, bina, ağaç, araba\n",
    "gibi herhangi bir şey, aile, banka, şirket gibi sosyal bir kuruluş veya doğum,\n",
    "ölüm, evlenme, boşanma, suç işleme gibi bir olay birime örnek olarak\n",
    "gösterilebilir. "
   ]
  },
  {
   "cell_type": "markdown",
   "id": "4132a814",
   "metadata": {},
   "source": [
    "### Gerçek Hayat Örnekleri:\n",
    "\n",
    "| Tür | Birim Örneği |\n",
    "|------|----------------|\n",
    "| **Canlı Varlıklar** | İnsan, köpek, öğrenci |\n",
    "| **Cansız Varlıklar** | Araba, bina, ürün |\n",
    "| **Olaylar** | Satış işlemi, doğum, ölüm |\n",
    "| **Kurumlar** | Şirket, banka, hastane |\n",
    "\n",
    "❌ Renkler, kokular, rüyalar → birim olmaz.  \n",
    "Çünkü doğrudan sayısal hale getirilemezler."
   ]
  },
  {
   "cell_type": "code",
   "execution_count": 3,
   "id": "98dd3280",
   "metadata": {},
   "outputs": [
    {
     "name": "stdout",
     "output_type": "stream",
     "text": [
      "  ogrenci_id  yas     boy\n",
      "0  Öğrenci_1    9  114.08\n",
      "1  Öğrenci_2    8  104.67\n",
      "2  Öğrenci_3    6  127.82\n",
      "3  Öğrenci_4    8  104.18\n",
      "4  Öğrenci_5    6  103.55\n"
     ]
    }
   ],
   "source": [
    "import numpy as np\n",
    "import pandas as pd\n",
    "\n",
    "# Örnek birim listesi\n",
    "birim_listesi = {\n",
    "    \"ogrenci_id\": [f\"Öğrenci_{i}\" for i in range(1, 21)],\n",
    "    \"yas\": np.random.randint(5, 10, size=20),\n",
    "    \"boy\": np.random.normal(loc=110, scale=10, size=20).round(2)\n",
    "}\n",
    "\n",
    "df_birim = pd.DataFrame(birim_listesi)\n",
    "print(df_birim.head())\n",
    "\n",
    "# Bu kod, 20 öğrenci üzerinden **birimleri tanımlayan** bir veri seti oluşturur."
   ]
  },
  {
   "cell_type": "markdown",
   "id": "53f78e2e",
   "metadata": {},
   "source": [
    "## 🌐 2. Ana Kütle (Population / Evren) Nedir?\n",
    "\n",
    "**Ana kütle**, araştırmada ilgilendiğimiz konuda yer alan **tüm birimlerin oluşturduğu topluluktur.**\n",
    "\n",
    "📌 Genellikle büyük harf `N` ile gösterilir.\n",
    "\n",
    "### Örnek:\n",
    "Eğer Türkiye'deki tüm 5 yaşındaki çocukların boy uzunluklarını incelemek istiyorsan,  \n",
    "**ana kütle** → Türkiye'de yaşayan tüm 5 yaşındaki çocuklar  \n",
    "\n",
    "Eğer Ankara’daki 60+ yaş grubunu inceliyorsan,  \n",
    "**ana kütle** → Sadece Ankara'daki 60+ yaş grubu\n",
    "\n",
    "\n",
    "Aynı veya ortaközelliğe sahip birimlerin oluşturduğu topluluk. Birimlerin tamamından oluşur.  Sonlu veya sonsuz sayıda olabilir. Boyutu büyün \"N\" harfi ile gösterilir. Popülasyonla çalışmak çoğu zaman mümkün olmaz. \n",
    "\n",
    "Nüfus, yığın, anakütle (population universe) gibi adlarla da ifade edilen\n",
    "anakütle (population) incelenen konudaki olası tüm birimlerin oluşturduğu\n",
    "topluluktur.\n",
    "\n",
    "\n",
    "Anakütle birimler topluluğu yerine gözlem sonuçlarının\n",
    "oluşturduğu topluluk diye de tanımlanabilir. Anakütle N sembolü ile gösterilir\n",
    "ve anakütle hacmi yada büyüklüğü (population size) şeklinde ifade edilir.\n",
    "Anakütleleri farklı şekillerde gruplamak olanaklı ise de en önemli ayrım\n",
    "sonlu ve sonsuz anakütle ayrımıdır. "
   ]
  },
  {
   "cell_type": "markdown",
   "id": "15266c9d",
   "metadata": {},
   "source": [
    "### Sonlu mu, Sonsuz mu?\n",
    "\n",
    "| Tür | Açıklama | Örnek |\n",
    "|------|----------|--------|\n",
    "| **Sonlu Ana Kütle** | Belli sayısı vardır, sınırlıdır | Okuldaki öğrenciler |\n",
    "| **Sonsuz Ana Kütle** | Sayısı net bilinemez, sürekli üretilebilir | Fabrikadaki ampuller, Marmara’daki balıklar |\n",
    "\n",
    "📌 Ana kütle çok büyükse, onun yerine **örneklem almak** mantıklıdır."
   ]
  },
  {
   "cell_type": "markdown",
   "id": "c4d70901",
   "metadata": {},
   "source": [
    "## 🎯 3. Neden Bu Fark Önemli?\n",
    "\n",
    "| Konu | Açıklama |\n",
    "|-------|----------|\n",
    "| **Birim** | Hangi varlıklarla çalıştığını gösterir |\n",
    "| **Ana Kütle** | Elde ettiğin sonucun genellenme alanı |\n",
    "\n",
    "📌 Yanlış birim seçimi → yanlı sonuç  \n",
    "📌 Yanlı ana kütle tanımlaması → kararsız genelleme"
   ]
  },
  {
   "cell_type": "markdown",
   "id": "86dd2fb4",
   "metadata": {},
   "source": [
    "## 🧪 4. Gerçek Hayatta Nasıl Tanımlanır?\n",
    "\n",
    "### Senaryo 1: Sağlık Araştırması\n",
    "\n",
    "Diyelim ki yeni bir ilacın etkisini test edeceksin.\n",
    "\n",
    "- **Birim:** Hastaya uygulanan her ilaç deneyi  \n",
    "- **Ana Kütle:** Ülkedeki tüm 60+ yaş grubu hastalar"
   ]
  },
  {
   "cell_type": "markdown",
   "id": "df92126b",
   "metadata": {},
   "source": [
    "### Senaryo 2: E-Ticaret Analizi\n",
    "\n",
    "Bir ürün satışı yapıyoruz.  \n",
    "Müşteri davranışlarını incelemek istiyoruz.\n",
    "\n",
    "- **Birim:** Her bir müşteri\n",
    "- **Ana Kütle:** Online alışveriş yapan tüm kullanıcılar"
   ]
  },
  {
   "cell_type": "markdown",
   "id": "a7cd531f",
   "metadata": {},
   "source": [
    "### Senaryo 3: Kalite Kontrol\n",
    "\n",
    "Fabrikada piller üretiliyor.  \n",
    "Her pil test ediliyor.\n",
    "\n",
    "- **Birim:** Tek bir pil\n",
    "- **Ana Kütle:** Üretilen tüm piller → sonsuz kütle!"
   ]
  },
  {
   "cell_type": "markdown",
   "id": "bc4b6a57",
   "metadata": {},
   "source": [
    "## 🛠️ 5. Ana Kütle ve Örneklem Arasındaki Bağ\n",
    "\n",
    "| Kavram | Açıklama |\n",
    "|--------|----------|\n",
    "| **Ana Kütle** | Tüm olası birimler |\n",
    "| **Örneklem** | Ana kütleden alınan temsilci grup |\n",
    "| **n < N** | Örneklem, ana kütlenin alt kümesidir |\n",
    "\n",
    "📌 Örneklem doğru seçilirse → ana kütleyi yansıtacak  \n",
    "Yoksa → yanlı tahmin → yanlış karar"
   ]
  },
  {
   "cell_type": "markdown",
   "id": "2fb6ff4b",
   "metadata": {},
   "source": [
    "📊 6. Ana Kütle ve Örneklem Arasında Pratik Karşılaştırma"
   ]
  },
  {
   "cell_type": "code",
   "execution_count": 4,
   "id": "63e8496e",
   "metadata": {},
   "outputs": [
    {
     "name": "stdout",
     "output_type": "stream",
     "text": [
      "Ana Kütle Ortalama Geliri: 22.76\n",
      "Örneklem Ortalama Geliri: 24.78\n"
     ]
    }
   ],
   "source": [
    "import numpy as np\n",
    "import pandas as pd\n",
    "\n",
    "# Simüle edilmiş ana kütle: 10.000 kişi\n",
    "np.random.seed(42)\n",
    "ana_kitle = pd.DataFrame({\n",
    "    \"ID\": [f\"kisi_{i}\" for i in range(1, 10001)],\n",
    "    \"gelir\": np.random.lognormal(mean=3, sigma=0.5, size=10000)\n",
    "})\n",
    "\n",
    "# Örneklem alma: 100 kişilik rassal seçim\n",
    "orneklem = ana_kitle.sample(n=100)\n",
    "\n",
    "# Ortalamaları karşılayalım\n",
    "print(\"Ana Kütle Ortalama Geliri:\", ana_kitle['gelir'].mean().round(2))\n",
    "print(\"Örneklem Ortalama Geliri:\", orneklem['gelir'].mean().round(2))"
   ]
  },
  {
   "cell_type": "markdown",
   "id": "05078d53",
   "metadata": {},
   "source": [
    "✅ Bu kodla, örneklem ile ana kütle arasındaki farkı görebilirsin."
   ]
  },
  {
   "cell_type": "markdown",
   "id": "4010ef15",
   "metadata": {},
   "source": [
    "## 🧩 7. Birim Seçimi ve Ölçümleme Süreci\n",
    "\n",
    "| Adım | Açıklama |\n",
    "|------|----------|\n",
    "| **1. Birim Tanımı** | Hangi varlık üzerinde çalışacağımızı belirleriz |\n",
    "| **2. Ana Kütle Belirleme** | Hangi geniş topluluk için geçerli olduğunu tanımlarız |\n",
    "| **3. Örneklem Alma** | Ana kütleden temsilci alırız |\n",
    "| **4. Ölçümleme** | Birime dair veriyi toplarız |\n",
    "| **5. Analiz ve Yorumlama** | Veriyi işler, sonuç çıkarırız |\n",
    "| **6. Genelleme** | Sonuçları ana kütleye yansıtırız |\n",
    "\n",
    "📌 Bu süreçte her adımda dikkatli olmalısın.  \n",
    "Yoksa elindeki veri **gerçekliği yansıtmaz.**"
   ]
  },
  {
   "cell_type": "markdown",
   "id": "635640b9",
   "metadata": {},
   "source": [
    "## 💬 Son Söz:\n",
    "\n",
    "> “Birim, veri biliminin atomudur.  \n",
    "Ana kütle ise evrenidir.”\n",
    ">\n",
    "> “Birimleri tanımasan, ne toplarsan topla,  \n",
    "Anlamına ulaşamazsın.”\n",
    ">\n",
    "> “Ve ana kütleyi tanımasan,  \n",
    "Elde ettiğin sonuçları kimseye anlatamazsın.”"
   ]
  },
  {
   "cell_type": "markdown",
   "id": "dc8db42c",
   "metadata": {},
   "source": []
  }
 ],
 "metadata": {
  "kernelspec": {
   "display_name": "base",
   "language": "python",
   "name": "python3"
  },
  "language_info": {
   "codemirror_mode": {
    "name": "ipython",
    "version": 3
   },
   "file_extension": ".py",
   "mimetype": "text/x-python",
   "name": "python",
   "nbconvert_exporter": "python",
   "pygments_lexer": "ipython3",
   "version": "3.12.9"
  }
 },
 "nbformat": 4,
 "nbformat_minor": 5
}
