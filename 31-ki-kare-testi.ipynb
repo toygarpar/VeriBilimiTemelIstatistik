{
 "cells": [
  {
   "cell_type": "markdown",
   "id": "fdc52c64",
   "metadata": {},
   "source": [
    "# 🧪 Ki-Kare Testi: Kategorik Değişkenler Arası Bağımsızlığı Sınamak\n",
    "\n",
    "## Giriş: Cinsiyet ile memnuniyet arasında gerçek bir fark var mı?\n",
    "\n",
    "Diyelim ki:\n",
    "- 200 kişiye anket yaptın\n",
    "- `Cinsiyet`: Erkek / Kadın\n",
    "- `Memnuniyet`: Memnun / Memnun değil\n",
    "\n",
    "Peki bu iki değişken arasında **istatistiksel olarak anlamlı bir bağımsızlık var mı?**"
   ]
  },
  {
   "cell_type": "markdown",
   "id": "0f45016f",
   "metadata": {},
   "source": [
    "## 🔍 Ki-Kare Testi Nedir?\n",
    "\n",
    "**Ki-kare testi**, gözlenen frekansların beklenen frekanslardan ne kadar farklı olduğunu ölçer.\n",
    "\n",
    "📌 Yani temel soru:\n",
    "> “Bu iki kategorik değişken gerçekten **bağımsız** mı? Yoksa bir ilişki mi var?”"
   ]
  },
  {
   "cell_type": "markdown",
   "id": "2d382f54",
   "metadata": {},
   "source": [
    "## 📐 Formülü:\n",
    "\n",
    "$$\n",
    "\\chi^2 = \\sum \\frac{(O_i - E_i)^2}{E_i}\n",
    "$$\n",
    "\n",
    "| Sembol | Açıklama |\n",
    "|--------|-----------|\n",
    "| $O_i$ | Gözlenen frekans |\n",
    "| $E_i$ | Beklenen frekans (eğer bağımsız olsalardı elde edilecek frekans) |\n",
    "| $\\chi^2$ | Ki-kare test istatistiği |\n",
    "\n",
    "📌 Bu değer yüksekse → fark tesadüfi değil, yani değişkenler **bağımlı**\n",
    "- p-değeri < 0.05 → H₀ reddedilir"
   ]
  },
  {
   "cell_type": "markdown",
   "id": "99ba6747",
   "metadata": {},
   "source": [
    "## 🛠️ Adım Adım Uygulama: Gerçek Hayat Senaryosu\n",
    "\n",
    "### Örnek: Anket Sonuçları\n",
    "\n",
    "|                   | Memnun | Memnun Değil |\n",
    "|-------------------|--------|---------------|\n",
    "| **Erkek**          | 60     | 40            |\n",
    "| **Kadın**          | 70     | 30            |\n",
    "\n",
    "#### Soru:\n",
    "“Cinsiyete göre memnuniyet oranı farklı mı?”\n",
    "\n",
    "---\n",
    "\n",
    "### Adım 1: Hipotez Kurulumu\n",
    "\n",
    "```python\n",
    "print(\"H₀: Cinsiyet ile memnuniyet oranı bağımsızdır\")\n",
    "print(\"H₁: Cinsiyet ile memnuniyet oranı arasında ilişki vardır\")\n",
    "```\n",
    "\n",
    "📌 Null hipotezi → bağımsız değişkenler  \n",
    "Alternatif → aralarında ilişki var"
   ]
  },
  {
   "cell_type": "markdown",
   "id": "08b22333",
   "metadata": {},
   "source": [
    "### Adım 2: Sample Veri Üret\n",
    "\n",
    "Bu tabloya uygun NumPy/Pandas yapısı oluşturacağız:\n"
   ]
  },
  {
   "cell_type": "code",
   "execution_count": 1,
   "id": "300f72ab",
   "metadata": {},
   "outputs": [
    {
     "name": "stdout",
     "output_type": "stream",
     "text": [
      "Gözlenen Frekans Tablosu:\n",
      " [[60 40]\n",
      " [70 30]]\n"
     ]
    }
   ],
   "source": [
    "import numpy as np\n",
    "import pandas as pd\n",
    "\n",
    "# Gözlenen frekans tablosu\n",
    "gozlenen = np.array([[60, 40], [70, 30]])\n",
    "print(\"Gözlenen Frekans Tablosu:\\n\", gozlenen)"
   ]
  },
  {
   "cell_type": "markdown",
   "id": "218ec9ed",
   "metadata": {},
   "source": [
    "### Adım 3: Ki-Kare Testi Yap"
   ]
  },
  {
   "cell_type": "code",
   "execution_count": 2,
   "id": "cfc03c1c",
   "metadata": {},
   "outputs": [
    {
     "name": "stdout",
     "output_type": "stream",
     "text": [
      "Beklenen Frekanslar:\n",
      " [[65. 35.]\n",
      " [65. 35.]]\n",
      "Chi² değeri: 1.78, p-değeri: 0.1821\n"
     ]
    }
   ],
   "source": [
    "from scipy.stats import chi2_contingency\n",
    "\n",
    "chi2, p_degeri, dof, expected = chi2_contingency(gozlenen)\n",
    "\n",
    "print(\"Beklenen Frekanslar:\\n\", expected)\n",
    "print(f\"Chi² değeri: {chi2:.2f}, p-değeri: {p_degeri:.4f}\")"
   ]
  },
  {
   "cell_type": "markdown",
   "id": "24d8b9f9",
   "metadata": {},
   "source": [
    "📌 p-değeri > 0.05 → **H₀ reddedilemez**  \n",
    "Yani: Cinsiyetle memnuniyet oranı arasında **istatistiksel anlamlı bir fark yok**"
   ]
  },
  {
   "cell_type": "markdown",
   "id": "2c6e66eb",
   "metadata": {},
   "source": [
    "### Adım 4: Karar Ver"
   ]
  },
  {
   "cell_type": "code",
   "execution_count": 3,
   "id": "0e2cf12e",
   "metadata": {},
   "outputs": [
    {
     "name": "stdout",
     "output_type": "stream",
     "text": [
      "❌ H₀ reddedilemedi → İlişki istatistiksel olarak yok\n"
     ]
    }
   ],
   "source": [
    "alpha = 0.05\n",
    "if p_degeri < alpha:\n",
    "    print(\"✅ H₀ reddedildi → Cinsiyet ve memnuniyet ilişkilidir.\")\n",
    "else:\n",
    "    print(\"❌ H₀ reddedilemedi → İlişki istatistiksel olarak yok\")"
   ]
  },
  {
   "cell_type": "markdown",
   "id": "12724fcd",
   "metadata": {},
   "source": [
    "📌 Yani:\n",
    "Test sonucunda cinsiyetle memnuniyet arasında **anlamlı bir ilişki bulunamadı.**"
   ]
  },
  {
   "cell_type": "markdown",
   "id": "ad95748c",
   "metadata": {},
   "source": [
    "## 📈 Görselleştirme: Kategorik Frekanslar Nasıl Dağılıyor?"
   ]
  },
  {
   "cell_type": "code",
   "execution_count": 4,
   "id": "39e3df85",
   "metadata": {},
   "outputs": [
    {
     "data": {
      "image/png": "[encoded data removed]",
      "text/plain": [
       "<Figure size 640x480 with 2 Axes>"
      ]
     },
     "metadata": {},
     "output_type": "display_data"
    }
   ],
   "source": [
    "import seaborn as sns\n",
    "import matplotlib.pyplot as plt\n",
    "\n",
    "sns.heatmap(gozlenen, annot=True, fmt=\"d\", cmap=\"Blues\",\n",
    "            xticklabels=[\"Memnun\", \"Memnun Değil\"],\n",
    "            yticklabels=[\"Erkek\", \"Kadın\"])\n",
    "plt.title(\"Gözlenen Frekanslar\")\n",
    "plt.show()"
   ]
  },
  {
   "cell_type": "markdown",
   "id": "dcce7e0b",
   "metadata": {},
   "source": [
    "## 📊 Beklenen Frekans Nedir?\n",
    "\n",
    "Eğer değişkenler **bağımsız olsaydı**, beklenen frekanslar şöyle olurdu:"
   ]
  },
  {
   "cell_type": "code",
   "execution_count": 6,
   "id": "91b1d675",
   "metadata": {},
   "outputs": [
    {
     "name": "stdout",
     "output_type": "stream",
     "text": [
      "Beklenen Frekanslar:\n",
      " [[65. 35.]\n",
      " [65. 35.]]\n"
     ]
    }
   ],
   "source": [
    "print(\"Beklenen Frekanslar:\\n\", expected)"
   ]
  },
  {
   "cell_type": "markdown",
   "id": "70efacc9",
   "metadata": {},
   "source": [
    "📌 Fark küçük → p-değeri de büyük çıkıyor"
   ]
  },
  {
   "cell_type": "markdown",
   "id": "ffee0081",
   "metadata": {},
   "source": [
    "## 📉 Varsayımlar Ne?\n",
    "\n",
    "| Varsayım | Açıklama |\n",
    "|---------|----------|\n",
    "| ✅ **Kategorik veri** | Nominal veya ordinal olmalı |\n",
    "| ✅ **Bağımsız gözlemler** | Her gözlem bağımsız olmalı |\n",
    "| ✅ **Beklenen frekanslar ≥ 5 olmalı** | Küçük hücreler problem yaratır |\n",
    "| ❌ **Normallik gerekmiyor** | Çünkü normal dağılmayan verilerde bile geçerlidir |\n",
    "\n",
    "📌 Eğer varsayımlar sağlanmıyorsa → Fisher Exact Testi düşünülmeli"
   ]
  },
  {
   "cell_type": "markdown",
   "id": "7cf5458e",
   "metadata": {},
   "source": [
    "## 📌 Ki-Kare Testi Türleri Nelerdir?\n",
    "\n",
    "| Test Türü | Kullanım Durumu |\n",
    "|-----------|----------------|\n",
    "| **Ki-Kare Bağımsızlık Testi** | İki kategorik değişken arası ilişki |\n",
    "| **Ki-Kare Uyum İyiliği Testi** | Gözlenen veri belirli bir dağılıma uyuyor mu? |\n",
    "| **Fisher Exact Testi** | Hücre sayısının çok küçük olduğu durumlar için |\n",
    "\n",
    "📌 En yaygın kullanılanı → bağımsızlık testi\n"
   ]
  },
  {
   "cell_type": "markdown",
   "id": "2d644b36",
   "metadata": {},
   "source": [
    "## 🧠 Ki-Kare Testi Ne Zaman Kullanılır?\n",
    "\n",
    "| Alan | Açıklama |\n",
    "|------|----------|\n",
    "| **Pazarlama** | Cinsiyetle ilgi alanı ilişkisi |\n",
    "| **Sosyal Bilimler** | Eğitim düzeyine göre politik tercih analizi |\n",
    "| **Sağlık** | Tedavi türüne göre iyileşme oranları |\n",
    "| **Veri Bilimi** | Feature selection için kategorik özellikler |\n",
    "\n",
    "📌 Özellikle feature engineering ve model kurulumlarında kullanışlı"
   ]
  },
  {
   "cell_type": "markdown",
   "id": "7b31c02d",
   "metadata": {},
   "source": [
    "## 📋 Ki-Kare Testi ve Modelleme Süreci Bağlantısı\n",
    "\n",
    "| Araç | Açıklama |\n",
    "|------|----------|\n",
    "| **ANOVA** | Sayısal vs kategorik değişkenlerde etki |\n",
    "| **Korelasyon** | Sayısal değişkenler arası ilişki |\n",
    "| **Ki-Kare** | Kategorik değişkenler arasındaki ilişkiyi ölçer |\n",
    "| **Mutual Information** | Özellik seçimi için alternatif yöntem |\n",
    "\n",
    "📌 Model kuruyorsun ama bazı değişkenler işe yaramıyor → onları  çıkarman gerekir."
   ]
  },
  {
   "cell_type": "markdown",
   "id": "715b128b",
   "metadata": {},
   "source": []
  }
 ],
 "metadata": {
  "kernelspec": {
   "display_name": "base",
   "language": "python",
   "name": "python3"
  },
  "language_info": {
   "codemirror_mode": {
    "name": "ipython",
    "version": 3
   },
   "file_extension": ".py",
   "mimetype": "text/x-python",
   "name": "python",
   "nbconvert_exporter": "python",
   "pygments_lexer": "ipython3",
   "version": "3.12.9"
  }
 },
 "nbformat": 4,
 "nbformat_minor": 5
}
