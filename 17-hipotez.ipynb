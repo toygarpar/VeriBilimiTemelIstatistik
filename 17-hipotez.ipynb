{
 "cells": [
  {
   "cell_type": "markdown",
   "id": "7e0cd290",
   "metadata": {},
   "source": [
    "# 🧠 Hipotez Testi: Sayılar Söylüyor, Biz Dinliyoruz\n",
    "\n",
    "## Giriş: İddia mı, Gerçek mi?\n",
    "\n",
    "Diyelim ki yeni bir kampanya başlattın.  \n",
    "Satışlar arttı.  \n",
    "Peki bu artış gerçekten kampanyadan mı kaynaklanıyor?  \n",
    "Yoksa doğal bir dalgalanma mı?\n"
   ]
  },
  {
   "cell_type": "markdown",
   "id": "e1b0cb2e",
   "metadata": {},
   "source": [
    "## 🔍 Hipotez Nedir?\n",
    "\n",
    "Bilimsel iddia → test edilebilir olmalı\n",
    "\n",
    "📌 İki temel hipotez vardır:\n",
    "- **H₀ (Null Hypothesis):** Fark yoktur.\n",
    "- **H₁ (Alternative Hypothesis):** Fark vardır.\n",
    "\n",
    "📌 Örnek:\n",
    "- H₀: Erkeklerin ortalama boyu 172 cm’dir\n",
    "- H₁: Erkeklerin ortalama boyu 172 cm değildir"
   ]
  },
  {
   "cell_type": "markdown",
   "id": "422b54ee",
   "metadata": {},
   "source": [
    "> ## <span style=\"color:red\">**Hipotez Testi**</span>\n",
    "\n",
    "**Bir inanışı (bir savı,bir tahmini vs) test etmek için kullanılan istatistiksel bir teknik.** \n",
    "\n",
    "Hipotez testi, bir örnek veri seti kullanarak bir popülasyon hakkında çıkarımlarda bulunmaya yönelik bir istatistiksel analiz yöntemidir. Hipotez testi sonuçları, dört temel hata tipine yol açabilir. Bu hatalar şunlardır:\n",
    "\n",
    "1. **Tip I Hatası (Alfa Hatası):**\n",
    "   - **H0 Doğru İken H0 Reddedilirse.**\n",
    "   - Tip I hatası, aslında doğru olan bir H0 hipotezinin yanlışlıkla reddedilmesidir.\n",
    "   - Alfa seviyesi (α) olarak adlandırılan belirli bir anlamlılık düzeyini geçerse gerçekleşir.\n",
    "   - Örneğin, α = 0.05 seviyesinde bir tip I hatası, gerçekte hiçbir etki olmadığında yanlış bir şekilde etki olduğunu düşünmek anlamına gelir.\n",
    "\n",
    "2. **Tip II Hatası (Beta Hatası):**\n",
    "   - **H0 Yanlış İken H0 Kabul Edilirse.**\n",
    "   - Tip II hatası, aslında yanlış olan bir H0 hipotezinin yanlışlıkla kabul edilmesidir.\n",
    "   - Beta (β) ile ifade edilir.\n",
    "   - Güç (Power) = 1 - β formülüyle ifade edilir; yani güç, H0'ı reddetme yeteneğidir.\n",
    "   - Büyük bir tip II hatası, gerçekte bir etki olmasına rağmen hiçbir etki olmadığını düşünmek anlamına gelir.\n",
    "\n",
    "3. **Güç (Power):**\n",
    "   - **H0 Yanlış İken H0 Reddedilirse.**\n",
    "   - Güç, aslında yanlış olan bir H0 hipotezini doğru bir şekilde reddetme yeteneğini ifade eder.\n",
    "   - Büyük bir güç, gerçek bir etki olduğunda bu etkiyi belirleme olasılığını artırır.\n",
    "   - Güç, tip II hatasıyla ters orantılıdır.\n",
    "\n",
    "4. **H0 Kabul ve H0 Reddetme Kararları:**\n",
    "   - İstatistiksel test sonuçları, H0 hipotezini reddetme veya kabul etme kararlarını içerir.\n",
    "   - Bu kararlar, testin belirli bir anlamlılık düzeyinde (alfa seviyesi) yapılır.\n",
    "   - Anlamlılık düzeyi, tip I hatasının kabul edilebilir bir seviyede tutulmasını sağlar.\n",
    "   - Örneğin, α = 0.05 anlamlılık düzeyinde, H0 reddedilirse, bu, sonuçların %5 anlamlılık düzeyinde kabul edilebilir bir tip I hatası olduğu anlamına gelir.\n",
    "\n",
    "Hipotez testlerindeki hata tipleri arasındaki denge, testin güvenilirliğini ve sonuçlarının doğruluğunu etkiler. İdeal durumda, alfa ve beta hataları düşük, güç yüksek olmalıdır, ancak bu durumlar arasında bir denge kurulması gerekebilir."
   ]
  },
  {
   "cell_type": "markdown",
   "id": "468780bd",
   "metadata": {},
   "source": [
    "## 📊 Hipotez Testi Adımları\n",
    "\n",
    "## 📐 Hipotez Testi Adımları\n",
    "\n",
    "1. **H0 (Null Hypothesis)** → Varsayım\n",
    "2. **H1 (Alternative Hypothesis)** → Alternatif iddia\n",
    "3. **Veri toplama**\n",
    "4. **Test seçimi:** t-testi, z-testi vs.\n",
    "5. **Anlamlılık düzeyi (alfa):** Genellikle `α = 0.05`\n",
    "6. **p-değeri hesaplanır**\n",
    "7. **Karar verilir:**  \n",
    "   - Eğer `p < alfa` → H0 reddedilir  \n",
    "   - Değilse → reddedilemez\n",
    "\n",
    "| Aşama | Açıklama |\n",
    "|--------|----------|\n",
    "| 1. **Hipotez Kurulumu** | H₀ ve H₁ tanımlanır |\n",
    "| 2. **Anlamlılık Düzeyi Seçimi (α)** | Genellikle %5 alınır |\n",
    "| 3. **Test Türü Seçimi** | Z-testi, T-testi, ANOVA, Ki-Kare |\n",
    "| 4. **Veri Toplama** | Uygun örneklem seçilir |\n",
    "| 5. **p-değeri Hesaplanır** | Ne kadar rastgele olduğunu gösterir |\n",
    "| 6. **Karar Verilir** | p < α → H₀ reddedilir |\n"
   ]
  },
  {
   "cell_type": "markdown",
   "id": "1bc4891e",
   "metadata": {},
   "source": [
    "## ⚖️ Null ve Alternatif Hipotez Türleri\n",
    "\n",
    "| Tür | H0 | H1 |\n",
    "|------|----|-----|\n",
    "| **İki yönlü** | μ = 172 | μ ≠ 172 |\n",
    "| **Tek yönlü (büyük mü?)** | μ ≤ 172 | μ > 172 |\n",
    "| **Tek yönlü (küçük mü?)** | μ ≥ 172 | μ < 172 |\n",
    "\n",
    "📌 Hipotezi nasıl kurduğun, analizin yönünü belirler."
   ]
  },
  {
   "cell_type": "markdown",
   "id": "be6c25b1",
   "metadata": {},
   "source": [
    "## ⚖️ Tip I ve Tip II Hatalar: Yanılma Payımız\n",
    "\n",
    "| Hata Türü | Ne zaman oluşur? | Anlamı |\n",
    "|-----------|------------------|---------|\n",
    "| **Tip I (Alfa Hatası)** | H₀ doğru iken reddedilirse | \"Sahte alarm\" hatası |\n",
    "| **Tip II (Beta Hatası)** | H₀ yanlış iken kabul edilirse | \"Gerçek alarmı kaçırmak\" hatası |\n",
    "\n",
    "📌 Güç = `1 - β` → yanlış H₀'yi doğru reddetme yeteneğidir"
   ]
  },
  {
   "cell_type": "markdown",
   "id": "4c49be5a",
   "metadata": {},
   "source": [
    "\n",
    "|                  | Gerçek Olumlu (H0 Reddedilmedi)   | Gerçek Olumsuz(H0 Reddedildi)  |\n",
    "|------------------|----------------------|---------------------------|\n",
    "| Test Olumlu-H0 doğru      | True Positive (TP),Doğru karar (1- $a$)-> Güven düzeyi   | I. Tür Hata $a$ , False Positive (FP)      |\n",
    "| Test Olumsuz-H0 yanlış      | II. Tip Hata  **$b$** , False Negative (FN)  | Doğru karar True Negative (TN)   (1- $b$)-> Testin gücü     |\n",
    "\n",
    "Bu tabloyu kullanarak aşağıdaki ifadeleri yapabiliriz:\n",
    "\n",
    "- **True Positive (TP):** İlaç gerçekten etkili ve test bu durumu doğru bir şekilde belirliyor.\n",
    "- **False Positive (FP):** İlaç gerçekten etkisiz ancak test, etki olduğunu yanlış bir şekilde belirliyor (Tip 1 Hata).\n",
    "- **False Negative (FN):** İlaç gerçekten etkili ancak test, etki olmadığını yanlış bir şekilde belirliyor (Tip 2 Hata).\n",
    "- **True Negative (TN):** İlaç gerçekten etkisiz ve test bu durumu doğru bir şekilde belirliyor.\n",
    "\n",
    "Bu tablo, tip 1 ve tip 2 hatalarını anlamak ve testin performansını değerlendirmek için kullanılabilir."
   ]
  },
  {
   "cell_type": "markdown",
   "id": "41ca3ab5",
   "metadata": {},
   "source": [
    "## 📈 Karar Matrisi: Gerçeklik vs Test Sonucu\n",
    "\n",
    "|                | H₀ Doğru (Etki Yok) | H₀ Yanlış (Etki Var) |\n",
    "|----------------|----------------------|-----------------------|\n",
    "| **Test Reddedildi** | ✅ True Negative (TN) | ✅ True Positive (TP) |\n",
    "| **Test Kabul Edildi** | ❌ False Positive (FP) - Tip I Hata | ❌ False Negative (FN) - Tip II Hata |\n",
    "\n",
    "📌 FP → Yanlış pozitif  \n",
    "FN → Yanlış negatif\n"
   ]
  },
  {
   "cell_type": "markdown",
   "id": "ba67dff7",
   "metadata": {},
   "source": [
    "## 📉 P-Değeri Nedir?\n",
    "\n",
    "> “p-değeri, H₀ doğruysa,  \n",
    "bu sonucun ne kadar rastgele oluştuğunun ölçüsüdür.”\n",
    "\n",
    "📌 Yani:\n",
    "- **p < 0.05** → H₀ reddedilir\n",
    "- **p ≥ 0.05** → H₀ reddedilemez\n",
    "\n",
    "📌 Bu yüzden p-değeri, hipotez testinin kalbidir."
   ]
  },
  {
   "cell_type": "markdown",
   "id": "24de5a21",
   "metadata": {},
   "source": [
    "## 📐 Z-Testi: Büyük Veri İçin\n",
    "## 📋 Örnek: Erkek Boy Ortalaması\n",
    "\n",
    "### Verilen Bilgiler:\n",
    "\n",
    "- **H0:** Türkiye'deki erkeklerin ortalama boyu 172 cm’dir  \n",
    "- **H1:** 172 cm değildir  \n",
    "- **n = 100** kişi\n",
    "- **örneklem ortalaması = 174 cm**\n",
    "- **std = 5 cm**\n",
    "- **güven düzeyi = %95 → α = 0.05**\n",
    "\n",
    "#### Z-Testi ile Çözüm:\n"
   ]
  },
  {
   "cell_type": "code",
   "execution_count": 1,
   "id": "9f7f076f",
   "metadata": {},
   "outputs": [
    {
     "name": "stdout",
     "output_type": "stream",
     "text": [
      "Z Skoru: 3.28\n",
      "p-değeri: 0.001048\n"
     ]
    }
   ],
   "source": [
    "import numpy as np\n",
    "from scipy.stats import norm\n",
    "\n",
    "# Sample veri üret\n",
    "np.random.seed(42)\n",
    "orneklem_boy = np.random.normal(loc=174, scale=5, size=100)  # Ortalama 174, std 5, n=100\n",
    "\n",
    "# Hesaplamalar\n",
    "x_bar = orneklem_boy.mean()\n",
    "std = orneklem_boy.std()\n",
    "n = len(orneklem_boy)\n",
    "mu_0 = 172\n",
    "\n",
    "# Z skoru\n",
    "z_skoru = (x_bar - mu_0) / (std / np.sqrt(n))\n",
    "print(f\"Z Skoru: {z_skoru:.2f}\")\n",
    "\n",
    "# p-değeri (iki yönlü test)\n",
    "p_degeri = 2 * (1 - norm.cdf(abs(z_skoru)))\n",
    "print(f\"p-değeri: {p_degeri:.6f}\")"
   ]
  },
  {
   "cell_type": "markdown",
   "id": "83e90022",
   "metadata": {},
   "source": [
    "📌 Bu sonucu yorumlayalım:\n",
    "\n",
    "📌 p-değeri < 0.05 → H₀ reddedilir  \n",
    "Yani Türkiye'deki erkeklerin ortalaması **172 cm değil**"
   ]
  },
  {
   "cell_type": "markdown",
   "id": "afeb6573",
   "metadata": {},
   "source": [
    "📊 Görselleştirme: Z Skoru ve Red Bölgesi"
   ]
  },
  {
   "cell_type": "code",
   "execution_count": 2,
   "id": "9ab65cce",
   "metadata": {},
   "outputs": [
    {
     "data": {
      "image/png": "[encoded data removed]",
      "text/plain": [
       "<Figure size 1000x600 with 1 Axes>"
      ]
     },
     "metadata": {},
     "output_type": "display_data"
    }
   ],
   "source": [
    "import matplotlib.pyplot as plt\n",
    "\n",
    "x = np.linspace(-4, 4, 1000)\n",
    "y = norm.pdf(x)\n",
    "\n",
    "plt.figure(figsize=(10, 6))\n",
    "plt.plot(x, y, label=\"Standard Normal Dağılım\")\n",
    "plt.axvline(z_skoru, color='green', linestyle='-', label=f'Z-Skoru: {z_skoru:.2f}')\n",
    "plt.axvline(norm.ppf(1 - 0.025), color='red', linestyle='--', label=\"Red Eşiği (±1.96)\")\n",
    "plt.axvline(-norm.ppf(1 - 0.025), color='red', linestyle='--')\n",
    "\n",
    "plt.fill_between(x, y, where=(x >= norm.ppf(1 - 0.025)), color='red', alpha=0.3)\n",
    "plt.fill_between(x, y, where=(x <= -norm.ppf(1 - 0.025)), color='red', alpha=0.3)\n",
    "\n",
    "plt.title(\"Hipotez Testi: Z Skoru ile Grafiksel Yorum\")\n",
    "plt.xlabel(\"Z Değeri\")\n",
    "plt.ylabel(\"Yoğunluk\")\n",
    "plt.grid(True)\n",
    "plt.legend()\n",
    "plt.show()"
   ]
  },
  {
   "cell_type": "markdown",
   "id": "b16eba3a",
   "metadata": {},
   "source": [
    "📌 Bu grafikte z-skoru kırmızı alan içinde → H₀ reddedilir\n",
    "\n",
    "- Yeşil çizgi → z-skorunuz\n",
    "- Kırmızı çizgiler → red bölgesi\n",
    "- Alanlar → %5 hata payı\n"
   ]
  },
  {
   "cell_type": "markdown",
   "id": "139bee5b",
   "metadata": {},
   "source": [
    "## 📋 Test Türleri ve Kullanım Alanları\n",
    "\n",
    "| Test Türü | Kullanım Durumu |\n",
    "|-----------|------------------|\n",
    "| **Z-Testi** | n ≥ 30, σ biliniyor |\n",
    "| **T-Testi** | n < 30, σ bilinmiyor |\n",
    "| **ANOVA** | Üçten fazla grup karşılaştırması |\n",
    "| **Ki-Kare Testi** | Kategorik değişkenler arası ilişki |\n",
    "| **Mann-Whitney U** | Normal dağılmayan verilerde fark var mı? |\n",
    "| **Wilcoxon İşaretli Sıra Testi** | Eşleştirilmiş karşılaştırmalar için |\n",
    "\n",
    "📌 Parametrik testler → normal dağılım gerektirir  \n",
    "Nonparametrik testler → her türlü veride çalışır"
   ]
  },
  {
   "cell_type": "markdown",
   "id": "025b9676",
   "metadata": {},
   "source": [
    "## 🤔 Z-Testi mi, T-Testi mi?\n",
    "\n",
    "| Özellik | Z-Testi | T-Testi |\n",
    "|---------|---------|----------|\n",
    "| **Örneklem büyüklüğü** | n ≥ 30 | n < 30 |\n",
    "| **Standart sapma biliniyor mu?** | ✅ Evet | ❌ Hayır |\n",
    "| **Dağılım** | Normal dağılım varsayımı | Küçük veride daha esnek |\n",
    "| **Kullanım Alanı** | Büyük veri setleri | Küçük veri setleri |\n",
    "\n",
    "📌 Basit kural:\n",
    "> **n ≥ 30 → Z-testi**  \n",
    "> **n < 30 → T-testi**"
   ]
  },
  {
   "cell_type": "markdown",
   "id": "2f956702",
   "metadata": {},
   "source": [
    "## 🧩 Karşılaştırıcı Tablo: Z-Testi vs T-Testi\n",
    "\n",
    "| Özellik | Z-Testi | T-Testi |\n",
    "|--------|---------|----------|\n",
    "| **Dağılım** | Normal | T-dağılımı |\n",
    "| **Örneklem Büyüklüğü** | Büyük (n ≥ 30) | Küçük (n < 30) |\n",
    "| **Standart Sapma Biliniyor mu?** | ✅ Evet | ❌ Hayır |\n",
    "| **Kullanım Alanı** | Oran testi, büyük veri | Küçük veri, regresyon katsayıları |\n",
    "\n",
    "📌 Her ikisi de aynı şeyi sorar:  \n",
    "“Bu fark gerçekten var mı?”"
   ]
  },
  {
   "cell_type": "code",
   "execution_count": 6,
   "id": "7f0cbcfe",
   "metadata": {},
   "outputs": [
    {
     "name": "stdout",
     "output_type": "stream",
     "text": [
      "H0 reddedildi → Ortalama boy 172 cm değil\n"
     ]
    }
   ],
   "source": [
    "# Python Kodu: Z-Testi ile Karar Verme\n",
    "\n",
    "alpha = 0.05\n",
    "\n",
    "if p_degeri < alpha:\n",
    "    print(\"H0 reddedildi → Ortalama boy 172 cm değil\")\n",
    "else:\n",
    "    print(\"H0 reddedilemedi → Ortalama boy 172 cm olabilir\")"
   ]
  },
  {
   "cell_type": "code",
   "execution_count": 7,
   "id": "47d1dd4b",
   "metadata": {},
   "outputs": [
    {
     "name": "stdout",
     "output_type": "stream",
     "text": [
      "Ortalama: 173.48, Z Skoru: 3.28, p-değeri: 0.001048\n"
     ]
    }
   ],
   "source": [
    "# Sample veri üret\n",
    "np.random.seed(42)\n",
    "orneklem = np.random.normal(loc=174, scale=5, size=100)  # 100 kişilik örneklem\n",
    "\n",
    "# Hesaplamalar\n",
    "x_bar = np.mean(orneklem)\n",
    "std = np.std(orneklem)\n",
    "z_skoru = (x_bar - mu_0) / (std / np.sqrt(n))\n",
    "p_degeri = 2 * (1 - norm.cdf(abs(z_skoru)))\n",
    "\n",
    "print(f\"Ortalama: {x_bar:.2f}, Z Skoru: {z_skoru:.2f}, p-değeri: {p_degeri:.6f}\")"
   ]
  },
  {
   "cell_type": "markdown",
   "id": "d24f94bf",
   "metadata": {},
   "source": [
    "## 📌 Anlamlılık Düzeyi ve Yanılma Payı\n",
    "\n",
    "| Alfa Değeri | Anlamı |\n",
    "|-------------|---------|\n",
    "| **0.01** | %1 yanılma payı → çok güçlü kanıt gerekli |\n",
    "| **0.05** | En yaygın kullanılan seviye |\n",
    "| **0.10** | Daha gevşek karar |\n",
    "\n",
    "📌 Alfa ne kadar küçükse,  \n",
    "yanılma payı o kadar azdır."
   ]
  },
  {
   "cell_type": "markdown",
   "id": "a0686340",
   "metadata": {},
   "source": [
    "## 🛠️ Python Kodu: T-Testi ile Karşılaştırma\n",
    "\n",
    "Küçük veri seti için:\n"
   ]
  },
  {
   "cell_type": "code",
   "execution_count": 3,
   "id": "422a3186",
   "metadata": {},
   "outputs": [
    {
     "name": "stdout",
     "output_type": "stream",
     "text": [
      "T Skoru: -0.73, p-değeri: 0.4680\n"
     ]
    }
   ],
   "source": [
    "from scipy.stats import ttest_ind\n",
    "\n",
    "# Küçük örneklem\n",
    "grup1 = np.random.normal(loc=172, scale=5, size=20)  # Kontrol grubu\n",
    "grup2 = np.random.normal(loc=174, scale=5, size=20)  # Deney grubu\n",
    "\n",
    "t_skoru, p_degeri = ttest_ind(grup1, grup2)\n",
    "print(f\"T Skoru: {t_skoru:.2f}, p-değeri: {p_degeri:.4f}\")\n"
   ]
  },
  {
   "cell_type": "markdown",
   "id": "826891c8",
   "metadata": {},
   "source": [
    "📌 Bu çıktıda da p-değeri önemli"
   ]
  },
  {
   "cell_type": "markdown",
   "id": "4fb46dd0",
   "metadata": {},
   "source": [
    "## 🤖 Hipotez Testi Neden Önemlidir?\n",
    "\n",
    "| Alan | Açıklama |\n",
    "|------|----------|\n",
    "| **Finans** | Portföy getirisi anlamlı mı? |\n",
    "| **Ürün Analizi** | Yeni buton daha çok tıklanıyor mu? |\n",
    "| **Tıp** | Yeni ilacın etkisi gerçekten farklı mı? |\n",
    "| **E-ticaret** | Reklam dönüşüm oranı yükseldi mi? |\n",
    "| **Veri Bilimi** | Özelliklerin model üzerindeki etkisini ölçmek için |\n",
    "\n",
    "📌 Model kuruyorsun ama p-değeri yüksekse → o özellik işe yaramaz.\n"
   ]
  },
  {
   "cell_type": "markdown",
   "id": "a987f79f",
   "metadata": {},
   "source": [
    "## 📊 Gerçek Hayatta Nasıl Kullanılır?\n",
    "\n",
    "| Senaryo | Test Türü | Açıklama |\n",
    "|--------|-----------|----------|\n",
    "| “Fiyat artışı satışları düşürdü mü?” | T veya Z | İki zaman aralığına göre karşılaştırma |\n",
    "| “A/B testinde A versiyonu daha iyi mi?” | Z-testi | Oran testi |\n",
    "| “Bu ilacın etkisi farklı mı?” | T-testi | Küçük örneklemde test |\n",
    "\n",
    "📌 Model kurarken de kullanılır:\n",
    "- Regresyon katsayılarının anlamlılık testi\n",
    "- Özelliklerin model üzerindeki etkisi"
   ]
  },
  {
   "cell_type": "markdown",
   "id": "d384c4da",
   "metadata": {},
   "source": [
    "## 📦 Gerçek Hayat Senaryosu: A/B Testi\n",
    "\n",
    "Yeni bir web sitesi tasarımı var.  \n",
    "Eski tasarımdan daha iyi mi?\n",
    "\n",
    "#### Python Kodu:"
   ]
  },
  {
   "cell_type": "code",
   "execution_count": 4,
   "id": "f5f7bd2c",
   "metadata": {},
   "outputs": [
    {
     "name": "stdout",
     "output_type": "stream",
     "text": [
      "A/B Testi p-değeri: 0.0496\n"
     ]
    }
   ],
   "source": [
    "# Simülasyon: dönüşüm oranları\n",
    "kontrol_don = [1] * 120 + [0] * 880  # %12 dönüşüm\n",
    "deney_don = [1] * 150 + [0] * 850    # %15 dönüşüm\n",
    "\n",
    "# Oran testi\n",
    "from statsmodels.stats.proportion import proportions_ztest\n",
    "\n",
    "_, p_degeri = proportions_ztest(count=[sum(kontrol_don), sum(deney_don)],\n",
    "                                nobs=[len(kontrol_don), len(deney_don)])\n",
    "print(f\"A/B Testi p-değeri: {p_degeri:.4f}\")"
   ]
  },
  {
   "cell_type": "markdown",
   "id": "6337af64",
   "metadata": {},
   "source": [
    "📌 Eğer `p < 0.05` → yeni tasarım daha iyi"
   ]
  },
  {
   "cell_type": "markdown",
   "id": "7b154cef",
   "metadata": {},
   "source": [
    "## 📉 Hipotez Testi Türleri\n",
    "\n",
    "| Test Türü | Ne Zaman Kullanılır? |\n",
    "|-----------|-----------------------|\n",
    "| **Z-Testi** | Büyük örneklem, oran testi |\n",
    "| **T-Testi** | Küçük veri, sürekli değerler |\n",
    "| **ANOVA** | 3 veya daha fazla grup |\n",
    "| **Ki-Kare** | Kategorik veri, ilişki testi |\n",
    "| **Mann-Whitney U** | Non-normal dağılım, iki grup karşılaştırması |\n",
    "| **Wilcoxon** | Eşleştirilmiş karşılaştırmalar için |\n",
    "\n",
    "📌 Her test, farklı veri yapısına göre uygulanır."
   ]
  },
  {
   "cell_type": "markdown",
   "id": "c0210e9e",
   "metadata": {},
   "source": []
  }
 ],
 "metadata": {
  "kernelspec": {
   "display_name": "base",
   "language": "python",
   "name": "python3"
  },
  "language_info": {
   "codemirror_mode": {
    "name": "ipython",
    "version": 3
   },
   "file_extension": ".py",
   "mimetype": "text/x-python",
   "name": "python",
   "nbconvert_exporter": "python",
   "pygments_lexer": "ipython3",
   "version": "3.12.9"
  }
 },
 "nbformat": 4,
 "nbformat_minor": 5
}
