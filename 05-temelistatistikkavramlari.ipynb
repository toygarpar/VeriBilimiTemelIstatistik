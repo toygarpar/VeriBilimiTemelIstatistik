{
 "cells": [
  {
   "cell_type": "markdown",
   "id": "6d020b67",
   "metadata": {},
   "source": [
    "# 🧠 Temel İstatistik Kavramları: Sayıların Anlamına Giden Yol\n",
    "\n",
    "## Giriş: Veriden Bilgiye Geçiş\n",
    "\n",
    "Veri, ham bilgidir.  \n",
    "Sayılar dizisidir.  \n",
    "Ancak onu anlamak için bazı anahtar kavramlara ihtiyacımız var.\n",
    "\n",
    "> “İstatistik, verinin içindeki bilgiyi çıkaran süzgeçtir.”  "
   ]
  },
  {
   "cell_type": "markdown",
   "id": "f86be5de",
   "metadata": {},
   "source": [
    "## 🔍 1. Birim (Unit / Element)\n",
    "\n",
    "### Tanım:\n",
    "Üzerinde gözlem yapılan en küçük varlık.\n",
    "\n",
    "📌 Örnek:\n",
    "- Bir insan\n",
    "- Bir ürün\n",
    "- Bir satış işlemi\n",
    "- Bir web sitesi ziyareti\n",
    "\n",
    "✅ Ancak ölçülebilen, sayılabilen şeyler birim olabilir.\n",
    "\n",
    "❌ Renkler, kokular, rüyalar → birim değildir.  \n",
    "Çünkü doğrudan sayısal hale getirilemezler."
   ]
  },
  {
   "cell_type": "markdown",
   "id": "dd77f232",
   "metadata": {},
   "source": [
    "## 📦 2. Ana Kütle (Population / Evren)\n",
    "\n",
    "### Tanım:\n",
    "Araştırmanın konusu olan ve genellenmek istenen tüm birimler topluluğudur.  \n",
    "Genellikle büyük harf **N** ile gösterilir.\n",
    "\n",
    "📌 Ana kütle = “Tüm kullanıcılar”  \n",
    "Örneğin:\n",
    "- Türkiye'deki tüm 5 yaşındaki çocuklar\n",
    "- Ankara’da yaşayan 60+ yaş grubu nüfus\n",
    "- Fabrikada üretilen tüm piller"
   ]
  },
  {
   "cell_type": "markdown",
   "id": "232c7dce",
   "metadata": {},
   "source": [
    "## 🎯 3. Örneklem (Sample)\n",
    "\n",
    "### Tanım:\n",
    "Ana kütlenin temsil eden, daha küçük bir alt kümesidir.  \n",
    "Genellikle küçük harf **n** ile gösterilir.\n",
    "\n",
    "📌 Ana kütle çok büyükse örneklem almak zorunludur.\n",
    "\n",
    "> “Ana kütleye ulaşamıyorsan, örneklem senin pusulan olur.”  "
   ]
  },
  {
   "cell_type": "markdown",
   "id": "2868d93a",
   "metadata": {},
   "source": [
    "## 📊 4. Betimsel İstatistik (Descriptive Statistics)\n",
    "\n",
    "### Tanım:\n",
    "Toplanan verilerin özetlenmesi, düzenlenmesi ve tanımlanması sürecidir.\n",
    "\n",
    "#### Python Kodu:"
   ]
  },
  {
   "cell_type": "code",
   "execution_count": 14,
   "id": "4a8b60f3",
   "metadata": {},
   "outputs": [
    {
     "name": "stdout",
     "output_type": "stream",
     "text": [
      "            fiyat       satis\n",
      "count  100.000000  100.000000\n",
      "mean   261.580900  121.520000\n",
      "std    133.870366   42.503828\n",
      "min     52.480000   35.000000\n",
      "25%    136.937500   85.500000\n",
      "50%    258.865000  124.000000\n",
      "75%    378.590000  161.000000\n",
      "max    494.100000  196.000000\n"
     ]
    }
   ],
   "source": [
    "import numpy as np\n",
    "import pandas as pd\n",
    "\n",
    "df = pd.read_csv(\"data/ornek_satis.csv\")\n",
    "print(df.describe())"
   ]
  },
  {
   "cell_type": "markdown",
   "id": "6d5545e3",
   "metadata": {},
   "source": [
    "📌 Ortalama, medyan, standart sapma gibi değerler buraya girer."
   ]
  },
  {
   "cell_type": "markdown",
   "id": "6d4f27df",
   "metadata": {},
   "source": [
    "## 🤔 5. Çıkarımsal İstatistik (Inferential Statistics)\n",
    "\n",
    "### Tanım:\n",
    "Örneklem üzerinden ana kütleye genelleme yapma sürecidir.\n",
    "\n",
    "📌 Örneklemden aldığımız sonucu,  \n",
    "ana kütleye uygulamak için kullanılır.\n",
    "\n",
    "#### Python Kodu:"
   ]
  },
  {
   "cell_type": "code",
   "execution_count": 15,
   "id": "762d41fe",
   "metadata": {},
   "outputs": [
    {
     "name": "stdout",
     "output_type": "stream",
     "text": [
      "Fark tesadüfi olabilir.\n"
     ]
    }
   ],
   "source": [
    "from scipy.stats import ttest_1samp\n",
    "\n",
    "orneklem = [70, 75, 80, 85, 90]\n",
    "t_stat, p_val = ttest_1samp(orneklem, popmean=75)\n",
    "\n",
    "if p_val < 0.05:\n",
    "    print(\"Ortalama %95 güvenle farklı.\")\n",
    "else:\n",
    "    print(\"Fark tesadüfi olabilir.\")"
   ]
  },
  {
   "cell_type": "markdown",
   "id": "1241b9bf",
   "metadata": {},
   "source": [
    "## 🧮 6. Parametre & İstatistik\n",
    "\n",
    "| Terim | Açıklama | Sembol |\n",
    "|--------|----------|---------|\n",
    "| **Parametre** | Ana kütlenin gerçek değeri | μ (mu), σ (sigma) |\n",
    "| **İstatistik** | Örneklem üzerinden tahmin edilen değer | x̄ (x bar), s |\n"
   ]
  },
  {
   "cell_type": "markdown",
   "id": "e203cadf",
   "metadata": {},
   "source": [
    "## 📐 7. Ölçek Türleri: Veri Nasıl Ölçülür?\n",
    "\n",
    "| Tür | Açıklama | Örnek |\n",
    "|------|----------|--------|\n",
    "| **Nominal** | Sadece etiket, sıralama yok | Cinsiyet, renk |\n",
    "| **Ordinal** | Sıralı ama aralıklar eşit değil | Memnuniyet skoru: iyi, orta, kötü |\n",
    "| **Interval** | Eşit aralıklı ama sıfır yok | Sıcaklık (Celsius), tarih |\n",
    "| **Ratio** | Gerçek sıfır var, oranlar anlamlı | Fiyat, yaş, ağırlık |\n",
    "\n",
    "📌 Ölçek türü bilmek, doğru analiz yapmak için şarttır."
   ]
  },
  {
   "cell_type": "markdown",
   "id": "9b22d6d5",
   "metadata": {},
   "source": [
    "## 📏 8. Değişken Türleri: Ne Ölçüyoruz?\n",
    "\n",
    "| Değişken Tipi | Açıklama | Örnek | Analiz Türleri |\n",
    "| --- | --- | --- | --- |\n",
    "| Kategorik (Nominal) | Kategorik değerler | Renkler, cinsiyet | Frekans tablosu, Ki-Kare testi |\n",
    "| Kategorik (Ordinal) | Sıralı kategorik değerler | Eğitim seviyesi, sınıf derecesi | Frekans tablosu, Non-parametrik testler |\n",
    "| Sürekli (Oran) | Sayısal değerler, mutlak sıfır | Yaş, gelir | Merkezi eğilim, dağılım, t-testi, ANOVA |\n",
    "| Sürekli (Aralık) | Sayısal değerler, ancak mutlak sıfır yok | Sıcaklık, IQ puanı | Merkezi eğilim, dağılım, t-testi, ANOVA |\n",
    "| Kesikli | Ayrık, sayılabilir değerler | Çocuk sayısı, öğrenci sayısı | Frekans tablosu, Poisson regresyonu |\n",
    "| Bağımlı | Bir bağımsız değişkenle ilişkili | Test öncesi ve sonrası skorlar | Bağımlı iki örneklem t-testi, İkili regresyon |\n",
    "| İşaretli | İki kategorik değişkenin kesişimi | Cinsiyet ve sigara içme durumu | İki yönlü ANOVA, Ki-Kare testi |\n",
    "\n",
    "\n",
    "\n",
    "\n",
    "\n",
    "------\n",
    "------\n",
    "\n",
    "| Tür | Açıklama | Örnek |\n",
    "|------|----------|--------|\n",
    "| **Nicel (Quantitative)** | Sayısal veri | Satış miktarı, fiyat |\n",
    "| **Nitel (Qualitative)** | Kategorik veri | Müşteri tipi, şehir, cinsiyet |\n",
    "| **Bağımlı Değişken (Y)** | Tahmin edilmek istenen değişken | Satış miktarı |\n",
    "| **Bağımsız Değişken (X)** | Tahmin etmek için kullanılan değişken | Reklam bütçesi, fiyat |\n",
    "\n",
    "📌 Bağımlı değişken → neyi tahmin etmek istiyorum  \n",
    "Bağımsız değişken → nasıl tahmin edeceğim?"
   ]
  },
  {
   "cell_type": "markdown",
   "id": "fd8493bf",
   "metadata": {},
   "source": [
    "## 📈 9. Kesikli mi? Sürekli mi?\n",
    "\n",
    "| Tür | Açıklama | Örnek |\n",
    "|------|----------|--------|\n",
    "| **Kesikli (Discrete)** | Sayılabilir | Müşteri sayısı, sipariş adedi |\n",
    "| **Sürekli (Continuous)** | Ölçülebilir | Sıcaklık, gelir, zaman |\n",
    "\n",
    "📌 Kesikli → tam sayı  \n",
    "Sürekli → ondalık da olabilir"
   ]
  },
  {
   "cell_type": "markdown",
   "id": "73077467",
   "metadata": {},
   "source": [
    "## 📋 10. Veri ve Bilgi Arasındaki Fark\n",
    "\n",
    "| Özellik | Veri | Bilgi |\n",
    "|---------|------|--------|\n",
    "| Kaynak | Ham kayıtlar | İşlenmiş veri |\n",
    "| Form | Sayılar, metin, resim | Anlamlı tablo, grafik, rapor |\n",
    "| Rolü | Ham madde | Karar verecek yapıya dönüşmüş hal |\n",
    "| Nicelik | Genellikle fazla | Daha az ama daha yoğun |\n"
   ]
  },
  {
   "cell_type": "markdown",
   "id": "eaf4c78c",
   "metadata": {},
   "source": [
    "## 📊 11. Merkezi Eğilim ve Yayılım Ölçüleri\n",
    "\n",
    "### Merkezi Eğilim:"
   ]
  },
  {
   "cell_type": "code",
   "execution_count": 16,
   "id": "826b9c35",
   "metadata": {},
   "outputs": [
    {
     "name": "stdout",
     "output_type": "stream",
     "text": [
      "Ortalama: 9.32\n",
      "Medyan: 9.5\n",
      "Mod: Elektronik\n"
     ]
    }
   ],
   "source": [
    "import numpy as np\n",
    "import pandas as pd\n",
    "\n",
    "df1 = pd.read_csv(\"data/satis_verisi.csv\")\n",
    "\n",
    "print(\"Ortalama:\", df1['SatisAdedi'].mean())\n",
    "print(\"Medyan:\", df1['SatisAdedi'].median())\n",
    "print(\"Mod:\", df1['Kategori'].mode()[0])"
   ]
  },
  {
   "cell_type": "markdown",
   "id": "5b164fa6",
   "metadata": {},
   "source": [
    "### Yayılım:"
   ]
  },
  {
   "cell_type": "code",
   "execution_count": 17,
   "id": "7d0a82da",
   "metadata": {},
   "outputs": [
    {
     "name": "stdout",
     "output_type": "stream",
     "text": [
      "Standart Sapma: 5.557559234633908\n",
      "Varyans: 30.886464646464635\n",
      "IQR: 10.0\n"
     ]
    }
   ],
   "source": [
    "print(\"Standart Sapma:\", df1['SatisAdedi'].std())\n",
    "print(\"Varyans:\", df1['SatisAdedi'].var())\n",
    "print(\"IQR:\", df1['SatisAdedi'].quantile(0.75) - df1['SatisAdedi'].quantile(0.25))"
   ]
  },
  {
   "cell_type": "markdown",
   "id": "c5a575d0",
   "metadata": {},
   "source": [
    "## 🚨 12. Hipotez Testi: Gerçek mi, Rastgele mi?\n",
    "\n",
    "### Soru: Fiyat artışı satışları düşürdü mü?\n",
    "\n",
    "\n",
    "\n",
    "✅ p < 0.05 → fark vardır  \n",
    "❌ p ≥ 0.05 → fark tesadüfi olabilir"
   ]
  },
  {
   "cell_type": "code",
   "execution_count": 18,
   "id": "d5d2192f",
   "metadata": {},
   "outputs": [
    {
     "name": "stdout",
     "output_type": "stream",
     "text": [
      "p-değeri: 0.0000\n"
     ]
    }
   ],
   "source": [
    "from scipy.stats import ttest_ind\n",
    "\n",
    "dusuk_fiyat = df[df['fiyat'] < 200]['satis']\n",
    "yuksek_fiyat = df[df['fiyat'] >= 200]['satis']\n",
    "\n",
    "t_stat, p_val = ttest_ind(dusuk_fiyat, yuksek_fiyat)\n",
    "print(f\"p-değeri: {p_val:.4f}\")"
   ]
  },
  {
   "cell_type": "markdown",
   "id": "ee02455d",
   "metadata": {},
   "source": [
    "✅ p < 0.05 → fark vardır  \n",
    "❌ p ≥ 0.05 → fark tesadüfi olabilir"
   ]
  },
  {
   "cell_type": "markdown",
   "id": "fe421139",
   "metadata": {},
   "source": [
    "## 📉 13. Dağılım Türleri ve Olasılık\n",
    "\n",
    "| Dağılım Türü | Kullanım Alanı |\n",
    "|---------------|------------------|\n",
    "| **Normal Dağılım** | Sürekli verilerde |\n",
    "| **Binom Dağılım** | İki sonuçlu deneylerde |\n",
    "| **Poisson Dağılım** | Belirli zaman aralıklarında olay sayısı için |\n",
    "| **Uniform Dağılım** | Her değerin eşit olasılıkta olduğu durumlar için |\n",
    "\n",
    "📌 Bu dağılımları tanımak,  \n",
    "doğru testi seçmek için gereklidir."
   ]
  },
  {
   "cell_type": "markdown",
   "id": "70b1e87f",
   "metadata": {},
   "source": [
    "## 📌 14. Örneklem Seçimi: Nasıllar?\n",
    "\n",
    "| Tür | Açıklama |\n",
    "|------|----------|\n",
    "| **Rassal Örnekleme** | Her birimin eşit seçilme şansı |\n",
    "| **Tabakalı Örnekleme** | Gruplar dengelenmiş örneklem |\n",
    "| **Kolay Örnekleme** | Ulaşılması kolay olanlardan örneklem alınır (yanlı olabilir) |\n",
    "\n",
    "📌 Yanlı örneklem → yanlı sonuç → yanlı karar"
   ]
  },
  {
   "cell_type": "markdown",
   "id": "a769f11a",
   "metadata": {},
   "source": [
    "## 📈 15. Yığın Veri (Batch Data) vs Akan Veri (Stream Data)\n",
    "\n",
    "| Tür | Açıklama | Örnek |\n",
    "|------|----------|--------|\n",
    "| **Yığın** | Tüm veri aynı anda işlenir | Haftalık satış verisi |\n",
    "| **Akan** | Parça parça gelir, gerçek zamanlı analiz gerekir | Sensörden canlı sıcaklık verisi |\n",
    "\n",
    "📌 Yığın veri → statik  \n",
    "Akan veri → dinamik"
   ]
  },
  {
   "cell_type": "markdown",
   "id": "6f5ac59b",
   "metadata": {},
   "source": [
    "## 🗃️ 16. Yapılandırılmış mı? Yapılandırılmamış mı?\n",
    "\n",
    "| Tür | Açıklama | Örnek |\n",
    "|------|----------|--------|\n",
    "| **Yapılandırılmış** | Tabloya sığar, sistematiktir | CSV dosyası |\n",
    "| **Yarı Yapılandırılmış** | JSON, XML gibi kurallı ama esnek yapılar | API yanıtı |\n",
    "| **Yapılandırılmamış** | Serbest formatta | Metin, video, ses |\n",
    "\n",
    "📌 Yapay zeka modelleri yapılandırılmamış veriyle beslenemez.  \n",
    "O yüzden NLP, görüntü işleme gibi tekniklerle dönüştürülür."
   ]
  },
  {
   "cell_type": "markdown",
   "id": "8cb8d4cb",
   "metadata": {},
   "source": [
    "## 🧪 17. İstatistiksel Testler: Hangisini Kullanacağız?\n",
    "\n",
    "| Test Türü | Ne Zaman Kullanılır? |\n",
    "|-----------|----------------------|\n",
    "| **T-Testi** | İki grup karşılaştırması |\n",
    "| **ANOVA** | Üç veya daha fazla grup |\n",
    "| **Ki-Kare** | Kategorik veri ilişkisi |\n",
    "| **Mann-Whitney U** | Normal dağılmayan verilerde iki grup |\n",
    "| **Wilcoxon İşaretli Sıra Testi** | Eşleştirilmiş karşılaştırma |\n"
   ]
  },
  {
   "cell_type": "markdown",
   "id": "24f751e3",
   "metadata": {},
   "source": []
  }
 ],
 "metadata": {
  "kernelspec": {
   "display_name": "base",
   "language": "python",
   "name": "python3"
  },
  "language_info": {
   "codemirror_mode": {
    "name": "ipython",
    "version": 3
   },
   "file_extension": ".py",
   "mimetype": "text/x-python",
   "name": "python",
   "nbconvert_exporter": "python",
   "pygments_lexer": "ipython3",
   "version": "3.12.9"
  }
 },
 "nbformat": 4,
 "nbformat_minor": 5
}
