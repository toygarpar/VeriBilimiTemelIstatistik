{
 "cells": [
  {
   "cell_type": "markdown",
   "id": "ead0aec6",
   "metadata": {},
   "source": [
    "# 📊 Veri Nedir? Sayı mı, Hikâye mi?\n",
    "\n",
    "## Giriş: Veri, Sessizce Konuşur\n",
    "\n",
    "Diyelim ki bir ürün satıyorsun.  \n",
    "İlk müşterinin yorumu geliyor: _\"Çok eğlenceli bir alışveriş deneyimi!\"_  \n",
    "Diğer müşterinin beklentisi: “Bu ürün 150 TL’ye satılıyor muydu?”\n",
    "\n",
    "İşte bu iki farklı şey, aynı zamanda aynı şeydir: **veri**  \n",
    "Biri duyguyu taşır, diğeri sayıyı.  \n",
    "\n",
    "\n",
    "> “Veri, sessizce konuşur.  \n",
    "Senin görevin, onu okumayı öğrenmek.”  "
   ]
  },
  {
   "cell_type": "markdown",
   "id": "73eb5386",
   "metadata": {},
   "source": [
    "## 🔍 Veri Nedir?\n",
    "\n",
    "**Veri**, herhangi bir şekilde toplanmış ve henüz işlenmemiş bilgi parçacığıdır.\n",
    "\n",
    "Hem nicelik hem nitelik taşıyabilir.  \n",
    "Her şey olabilir.  \n",
    "Sayılar, kelimeler, sesler, görüntüler…\n",
    "\n",
    "Veri, herhangi bir amaç için toplanmış ham bilgi parçacığıdır.\n",
    "İşlenmemiş, yorumlanmamış, anlam kazanmamıştır.\n",
    "Ancak içinde bilgi potansiyeli barındırır."
   ]
  },
  {
   "cell_type": "markdown",
   "id": "b3a71fe3",
   "metadata": {},
   "source": [
    "## 🧠 Veri Türleri: Nitel mi, Nicel mi?\n",
    "\n",
    "### ✅ 1. **Nitel Veri (Qualitative):** Anlatan Bilgi\n",
    "\n",
    "Sayıya dökülmesi zor olan, daha çok anlatıma dayalı veri türüdür.\n",
    "\n",
    "Yön verir, tanımlar, açıklar.  \n",
    "Sayıya dökülmez, ya da sayıya dökülse bile sıralama anlamı taşır.\n",
    "\n",
    "#### Örnek:\n",
    "```\n",
    "\"Siparişim çok hızlı geldi.\"  \n",
    "\"Ürün kaliteliydi ama pahalıydı.\"\n",
    "```\n"
   ]
  },
  {
   "cell_type": "code",
   "execution_count": 1,
   "id": "81fac859",
   "metadata": {},
   "outputs": [
    {
     "name": "stdout",
     "output_type": "stream",
     "text": [
      "Nitel veri örneği: Eğlenceli bir tatildi\n"
     ]
    }
   ],
   "source": [
    "nitel_veri = [\n",
    "    \"Çok memnun\", \n",
    "    \"Memnun değil\", \n",
    "    \"Eğlenceli bir tatildi\"\n",
    "]\n",
    "\n",
    "print(\"Nitel veri örneği:\", nitel_veri[2])"
   ]
  },
  {
   "cell_type": "markdown",
   "id": "bbadf263",
   "metadata": {},
   "source": [
    "### ✅ 2. **Nicel Veri (Quantitative):** Ölçtüğün Şey\n",
    "\n",
    "Sayısal olarak ifade edilebilen ve üzerinde matematiksel işlem yapılabilen veri türüdür.\n",
    "\n",
    "\n",
    "\n",
    "#### İki Alt Türü Vardır:\n",
    "\n",
    "| Tür | Açıklama | Örnek |\n",
    "|------|----------|--------|\n",
    "| **Kesikli (Discrete)** | Sayılır, tam sayıdır | Müşteri sayısı, sipariş adedi |\n",
    "| **Sürekli (Continuous)** | Ölçülür, sonsuz değer alabilir | Sıcaklık, uzaklık, gelir |\n",
    "\n",
    "📌 Sürekli veri ölçüldüğü için 2.5, 3.7, 4.3 gibi değerler alabilir.  \n",
    "Kesikli veri ise 2, 3, 4 gibi tam sayılarla tanımlanır."
   ]
  },
  {
   "cell_type": "code",
   "execution_count": 10,
   "id": "47f52756",
   "metadata": {},
   "outputs": [
    {
     "name": "stdout",
     "output_type": "stream",
     "text": [
      "Nicel veri örneği: [28, 9000, 168]\n"
     ]
    }
   ],
   "source": [
    "nicel_veri = [28, 9000, 168]  # yaş, maaş, boy\n",
    "print(\"Nicel veri örneği:\", nicel_veri)"
   ]
  },
  {
   "cell_type": "markdown",
   "id": "f0a3b3a1",
   "metadata": {},
   "source": [
    "📌 Bu verilerle ortalama, medyan, standart sapma gibi işlemleri yapabilirsin."
   ]
  },
  {
   "cell_type": "markdown",
   "id": "7f6efcd0",
   "metadata": {},
   "source": [
    "1. **Nitel (Qualitative):** Bir şeyi **tanımlamak**, **açıklamak** için kullanılan bilgidir. Bu türden bilgiler daha çok tabloda tutulabilen kurallı bir yapıda değil de çeşitli biçimlerde tutulabilen **serbest yapıda** olur. İlgili konudaki gözlemler, dokümanlar, röportajlar vs. kaynakları oluşturur. Mesela \"_eğlenceli bir tatildi_\" ifadesi bu türden bir bilgidir.\n",
    "2. **Nicel (Quantitative):** Bir şeyi **saymak** ve **ölçmek** için kullanılan bilgidir. Bu türden bilgiler genelde tabloda tutulabilen bir yapıda olur. Nicel verileri iki grupta inceleyebiliriz:\n",
    "\n",
    "\t- **Kesikli (Discrete):** **Sayılabilen**, **sayılması** mantıklı taneli olan şeyler hakkındaki veriler bu gruba girer. Mesela bir ekibin çalışan sayısı 5 kişi olsun. Buradaki kişi sayısı olan 5 kesikli veridir. Ekibi iki grubu ayıralım dediğimizde bu gruplar 2,5 kişilik olamaz. Ara değerler yoktur.\n",
    "\t- **Sürekli (Continuous):** **Ölçülebilen**, **ölçülmesi** mantıklı olan şeyler hakkındaki veriler bu gruba girer. Mesela çalışanların evle iş yeri arası uzaklıkları sürekli veridir. Ara değerlerin tümü mantıklıdır. Ancak bazı durumlarda sürekli veriler kesikli veriler olarak ifade edilebilir. Mesela evle iş yeri arası uzaklığını bazı kriterlere bakarak yakın ve uzak diye iki gruba ayırabiliriz. Böylece bu konudaki veri artık sürekli değil kesikli olur.\n"
   ]
  },
  {
   "cell_type": "markdown",
   "id": "9a7002fb",
   "metadata": {},
   "source": [
    "## 🚦 Veri Hareketleri: Akıyor mu, Yığın Halinde mi?\n",
    "\n",
    "### ✅ 1. **Yığın (Batch) Veri:** Sabit Bütün\n",
    "\n",
    "Tüm veri bir arada toplanır ve işlenir.\n",
    "Geleneksel analiz için uygundur.\n",
    "\n",
    "#### Örnek:\n",
    "Müşteri tablosu → tüm müşteri verisini bir defa halinde al, sonra analiz et."
   ]
  },
  {
   "cell_type": "code",
   "execution_count": 11,
   "id": "f32f7921",
   "metadata": {},
   "outputs": [
    {
     "name": "stdout",
     "output_type": "stream",
     "text": [
      "Yığın veri: [70, 80, 90, 100]\n"
     ]
    }
   ],
   "source": [
    "batch_data = [70, 80, 90, 100]  # haftalık satış sayıları\n",
    "print(\"Yığın veri:\", batch_data)"
   ]
  },
  {
   "cell_type": "markdown",
   "id": "6eb254db",
   "metadata": {},
   "source": [
    "### ✅ 2. **Akan (Stream) Veri:** Gerçek Zamanlı Dans\n",
    "\n",
    "Veri parça parça, sürekli gelir.  \n",
    "Gerçek zamanlı analiz gerekebilir.\n",
    "\n",
    "#### Örnek:\n",
    "Sıcaklık sensöründen gelen veri  \n",
    "Ya da sosyal medya mesaj akışı"
   ]
  },
  {
   "cell_type": "code",
   "execution_count": 16,
   "id": "fa043570",
   "metadata": {},
   "outputs": [],
   "source": [
    "import random\n",
    "\n",
    "def stream_veri():\n",
    "    while True:\n",
    "        yield random.uniform(22, 25)  # sıcaklık sensöründen gelen veri\n",
    "\n"
   ]
  },
  {
   "cell_type": "markdown",
   "id": "f80c04b2",
   "metadata": {},
   "source": [
    "1. **Yığın Veri (Batch Data):** Bu türden veriler ile çalışmak görece daha kolaydır. Genelde konu hakkındaki tüm veri bir arada bulunur. Bu veri kümesi belli bir zaman diliminde bir araya getirilmiştir ve bir bütün olarak analiz edilir. Geleneksel veritabanlarındaki veriler bu kapsamda değerlendirilir. Mesela rapor yapmak için hazırladığınız tablolardaki veriler bir yığın halindedir. Durağandır.\n",
    "2. **Akan Veri (Stream Data):** Bu türden veriler ile çalışmak görece daha karmaşıktır. Verileri yakalamak ve analiz etmek için özel teknik ve araçlar gerekmektedir. Geleneksel yöntemlerin dışına çıkmak gerekir. Kaynaktan parça parça ve neredeyse sürekli olarak üretilir. Analiz genelde gerçek zamanlı olarak yapılır. Mesela bir binadaki sıcaklık sensörlerinden gelen veriler bu türden verilerdir. Durağan değildir. Hareket halindedir. Üstelik bazen geleneksel yöntemlerle yakalanamayacak kadar da hızlı akar."
   ]
  },
  {
   "cell_type": "markdown",
   "id": "1f907f4d",
   "metadata": {},
   "source": [
    "## 🧪 Tip Tanıma: Nicel mi, Nitel mi?\n",
    "\n",
    "| Satır | Değer | Tür |\n",
    "|-------|--------|-----|\n",
    "| 1     | \"Erkek\" | Nitel |\n",
    "| 2     | 28 yaşında | Nicel - Sürekli |\n",
    "| 3     | 5 çocuk | Nicel - Kesikli |\n",
    "| 4     | \"Böyle bir şey istemiyordum\" | Nitel |\n",
    "| 5     | 168 cm boy | Nicel - Sürekli |\n",
    "\n",
    "📌 Tek bir veri seti içinde birden fazla türde veri olabilir.  "
   ]
  },
  {
   "cell_type": "markdown",
   "id": "76ed76ee",
   "metadata": {},
   "source": [
    "## 🗃️ Veriler Yapılarına Göre Nasıl Görünür?\n",
    "\n",
    "\n",
    "#### Verileri yapısına göre 3 gruba ayırabiliriz:\n",
    "\n",
    "1. **Yapılandırılmamış (Unstructured):** Resim, düz metin, video, ses gibi serbest yapıda olan verilerdir. Kendi içinde bir takım standartları olsa da geleneksel yöntemlerle yakalamak, tutmak, işlemek ve değer üretmek pek mümkün değildir.\n",
    "2. **Yarı Yapılandırılmış (Semi Structured):** csv, xml, json, yaml gibi belli kurallara uyan kısmen serbest yapıdaki verilerdir. Her bir kayıt aynı genel kurala uysa da bir birinden farklı tipte ve derinlikte olabilir.\n",
    "3. **Yapılandırılmış (Structured):** Tablo yapısında tutulabilen verilerdir. Veri satır ve sütunların kesişimlerinde tutulur. Her satırda aynı sırada ve aynı tipte kolonlar yer alır. Bildiğimiz tablo mantığı yani. Hemen yeri gelmişken söyleyeyim. Bir araştırmaya göre şirketlerin kendisi hakkında ulaşabileceği verilerin sadece %20'si bu yapıdadır. Günümüzün trend konusu, geriye kalan %80 'lik dilimden, yani yukarıdaki ilk iki türdeki yapıdan değer üretmektir.\n",
    "\n",
    "\n",
    "## Yapısı: Yapılandırılmış mı? Yapılandırılmamış mı?\n",
    "\n",
    "| Tür | Açıklama | Örnek |\n",
    "|------|----------|--------|\n",
    "| **Yapılandırılmış (Structured)** | Tabloya sığar, sabit alanları vardır | Müşteri tablosu |\n",
    "| **Yarı Yapılandırılmış (Semi-structured)** | Belli kurallar var ama esnek yapıda | JSON, XML, CSV |\n",
    "| **Yapılandırılmamış (Unstructured)** | Kuralsız, sınırsız | Metin, ses, video |\n",
    "\n",
    "\n",
    "Verinin türünü, yapısını ve hareketini bilmek, nasıl işleyeceğini belirler.\n",
    "\n",
    "\n",
    "✅ Model Seçimi\n",
    "\n",
    "Nitel veri için NLP, nicel veri için istatistik\n",
    "\n",
    "✅ İşlem Yaklaşımı\n",
    "\n",
    "Yapılandırılmış veriyle tablo oluşturursun, yapılandırılmamışla görsel model kurarsın\n",
    "\n",
    "✅ Analiz Yöntemi\n",
    "\n",
    "Batch veriyle geçmişe bakarsın, stream veriyle geleceğe tahminde bulunursun\n",
    "\n",
    "\n",
    "\n",
    "\n",
    "\n",
    "----\n",
    "\n",
    "\n",
    "### ✅ 1. Yapılandırılmış (Structured)\n",
    "\n",
    "Tabloya sığar.  \n",
    "Satır-sütun düzeni vardır.  \n",
    "Özellikler bellidir.\n",
    "\n",
    "#### Örnek:"
   ]
  },
  {
   "cell_type": "code",
   "execution_count": 9,
   "id": "1beb6ad4",
   "metadata": {},
   "outputs": [
    {
     "name": "stdout",
     "output_type": "stream",
     "text": [
      "     Ad  Yaş   Maas\n",
      "0   Ali   28  10000\n",
      "1  Ayşe   32  12000\n"
     ]
    }
   ],
   "source": [
    "import pandas as pd\n",
    "\n",
    "veri_seti = {\n",
    "    'Ad': ['Ali', 'Ayşe'],\n",
    "    'Yaş': [28, 32],\n",
    "    'Maas': [10000, 12000]\n",
    "}\n",
    "\n",
    "df = pd.DataFrame(veri_seti)\n",
    "print(df)"
   ]
  },
  {
   "cell_type": "markdown",
   "id": "b69360e5",
   "metadata": {},
   "source": [
    "📌 Bu veri: sistematik, sorgulanabilir, işlemesi kolay."
   ]
  },
  {
   "cell_type": "markdown",
   "id": "96cf6a28",
   "metadata": {},
   "source": [
    "### ⚠️ 2. Yarı Yapılandırılmış (Semi-Structured)\n",
    "\n",
    "JSON, CSV gibi formatlarda yer alır.  \n",
    "Standart ama serbest yapıda.\n",
    "\n",
    "#### Örnek JSON:\n",
    "```json\n",
    "{\n",
    "  \"ad\": \"Ali\",\n",
    "  \"hobiler\": [\"koşu\", \"kitap okumak\"],\n",
    "  \"yas\": 28\n",
    "}\n",
    "```\n"
   ]
  },
  {
   "cell_type": "code",
   "execution_count": 6,
   "id": "88dfcb5a",
   "metadata": {},
   "outputs": [
    {
     "name": "stdout",
     "output_type": "stream",
     "text": [
      "Şehir dışı hobiler: ['koşu', 'kitap']\n"
     ]
    }
   ],
   "source": [
    "# python ile okuma:\n",
    "import json\n",
    "\n",
    "veri_json = '{\"ad\": \"Ali\", \"hobiler\": [\"koşu\", \"kitap\"], \"yas\": 28}'\n",
    "veri_dict = json.loads(veri_json)\n",
    "\n",
    "print(\"Şehir dışı hobiler:\", veri_dict[\"hobiler\"])"
   ]
  },
  {
   "cell_type": "markdown",
   "id": "bc52a6fa",
   "metadata": {},
   "source": [
    "✅ Gözlem:  \n",
    "Bu veri, tabloya sokulsa bile yapısal olarak esnek."
   ]
  },
  {
   "cell_type": "markdown",
   "id": "ea756fbd",
   "metadata": {},
   "source": [
    "### ❌ 3. Yapılandırılmamış (Unstructured)\n",
    "\n",
    "Hiçbir kuralla tutulmayan veri türüdür.  \n",
    "Resim, video, metin dosyası, ses…  \n",
    "Sınırsız, sınıfsız, biçimsiz.\n",
    "\n",
    "#### Örnek:"
   ]
  },
  {
   "cell_type": "code",
   "execution_count": 7,
   "id": "7f0b95cc",
   "metadata": {},
   "outputs": [
    {
     "name": "stdout",
     "output_type": "stream",
     "text": [
      "Yapılandırılmamış veri örneği:\n",
      " Bugün alışveriş yaptım, fiyatlar makuldü.\n",
      "Ancak müşteri hattına ulaşamadım, bu yüzden geri dönüşüm zor oldu.\n"
     ]
    }
   ],
   "source": [
    "metinler = \"\"\"\n",
    "Bugün alışveriş yaptım, fiyatlar makuldü.\n",
    "Ancak müşteri hattına ulaşamadım, bu yüzden geri dönüşüm zor oldu.\n",
    "\"\"\"\n",
    "\n",
    "print(\"Yapılandırılmamış veri örneği:\\n\", metinler.strip())"
   ]
  },
  {
   "cell_type": "markdown",
   "id": "91eeff75",
   "metadata": {},
   "source": [
    "📌 Bu tür verileri işlemek için NLP, bilgisayarla görme gibi yöntemler gerekir."
   ]
  },
  {
   "cell_type": "code",
   "execution_count": null,
   "id": "a99558d4",
   "metadata": {},
   "outputs": [],
   "source": []
  },
  {
   "cell_type": "markdown",
   "id": "6794fe8a",
   "metadata": {},
   "source": [
    "## 🤝 Veri Üçgeni: Yapısı, Türü, Hareketi\n",
    "\n",
    "| Kategori | Özellik | Örnek |\n",
    "|----------|----------|--------|\n",
    "| **Tür** | Nitel / Nicel | Memnuniyet yorumu vs. Gelir miktarı |\n",
    "| **Hareket** | Batch / Stream | Haftalık satış raporu vs. canlı izleme |\n",
    "| **Yapı** | Structured / Semi-structured / Unstructured | Tablo vs. JSON vs. Ses dosyası |\n"
   ]
  },
  {
   "cell_type": "markdown",
   "id": "94d1282e",
   "metadata": {},
   "source": [
    "Veriyi işlemeden bırakırsan,  \n",
    "o sadece veri kalır.  \n",
    "Değer üretemezsin.\n",
    "\n",
    "“Veri, anlam kazandığında bilgi olur.  \n",
    "Bilgi, eyleme dönüştüğünde güç!”"
   ]
  },
  {
   "cell_type": "markdown",
   "id": "6b54b5ef",
   "metadata": {},
   "source": []
  }
 ],
 "metadata": {
  "kernelspec": {
   "display_name": "base",
   "language": "python",
   "name": "python3"
  },
  "language_info": {
   "codemirror_mode": {
    "name": "ipython",
    "version": 3
   },
   "file_extension": ".py",
   "mimetype": "text/x-python",
   "name": "python",
   "nbconvert_exporter": "python",
   "pygments_lexer": "ipython3",
   "version": "3.12.9"
  }
 },
 "nbformat": 4,
 "nbformat_minor": 5
}
