{
 "cells": [
  {
   "cell_type": "markdown",
   "id": "1fdd0149",
   "metadata": {},
   "source": [
    "# 🧪 Varyans Analizi (ANOVA): 3+ Grup Karşılaştırması\n",
    "\n",
    "## Giriş: Üç Farklı Tasarım, Hangisi Daha İyi?\n",
    "\n",
    "Diyelim ki ürün sayfan için üç farklı tasarım var.  \n",
    "Her tasarımda da yüzlerce kullanıcı var.  \n",
    "Hangi tasarım daha iyi dönüşüm sağlıyor?\n"
   ]
  },
  {
   "cell_type": "markdown",
   "id": "71001104",
   "metadata": {},
   "source": [
    "## 🔍 ANOVA Nedir?\n",
    "\n",
    "**ANOVA**, iki veya daha fazla grubun ortalamaları arasında **istatistiksel olarak anlamlı fark** olup olmadığını test eden bir yöntemdir.\n",
    "\n",
    "📌 Ana fikri:\n",
    "- Gruplar arası varyans büyükse → fark var\n",
    "- Gruplar içi varyans küçükse → güvenilir sonuç\n",
    "\n",
    "📌 Yani:\n",
    "> “Gruplar arasındaki fark gerçekten önemli mi?”"
   ]
  },
  {
   "cell_type": "markdown",
   "id": "ef1442da",
   "metadata": {},
   "source": [
    "## 📐 Temel Formülü:\n",
    "\n",
    "$$\n",
    "F = \\frac{\\text{Gruplar Arası Kareler Ortalaması}}{\\text{Gruplar İçi Kareler Ortalaması}}\n",
    "$$\n",
    "\n",
    "📌 F istatistiği yüksekse → gruplar arasında fark var demektir  \n",
    "📌 p-değeri < 0.05 → H₀ reddedilir"
   ]
  },
  {
   "cell_type": "markdown",
   "id": "ebb03bce",
   "metadata": {},
   "source": [
    "## <span style =\"color:red\">**Varyans Analizi - Analysis of VAriance (ANOVA)**</span>\n",
    "\n",
    "\n",
    "# Varyans Analizi\n",
    "\n",
    "## Analysis of Variance (ANOVA)\n",
    "\n",
    "\n",
    "\n",
    "Gruplar arası istatistiki anlamlılığın değerlendirilmesi\n",
    "\n",
    "İki veya daha fazla grup ortalaması arasında istatistiksel olarak anlamlı farkılılık olup olmadığını öğrenilmek istenildiğinde kullanılır.\n",
    "\n",
    "VARYANS ANALİZİ HİPOTEZLER:\n",
    "\n",
    "$H_0: \\mu_1 = \\mu_2 = \\mu_3 = \\ldots = \\mu_k $\n",
    "\n",
    "$ H_1: \\text{En az birisi farklıdır.}$\n",
    "\n",
    "\n",
    "\n",
    "Varyans analizi (ANOVA - Analysis of Variance), iki veya daha fazla grup ortalamasını karşılaştırmak için kullanılan bir istatistiksel yöntemdir. Temel fikir, toplam varyansı farklı varyans kaynaklarına ayırmaktır. Bu kaynaklar genellikle gruplar arasındaki varyans ve gruplar içindeki varyanstır. ANOVA, gruplar arasında istatistiksel olarak anlamlı bir fark olup olmadığını belirlememize yardımcı olur.\n",
    "\n",
    "\n",
    "\n",
    "**Varyans Analizinin Temel Kavramları:**\n",
    "\n",
    "- **Bağımlı Değişken:** Ölçülen veya test edilen değişkendir.\n",
    "- **Bağımsız Değişken (Faktör):** Grupları tanımlayan değişkendir.\n",
    "- **Gruplar (Düzeyler):** Bağımsız değişkenin farklı kategorileridir.\n",
    "- **Gruplar Arası Varyans:** Farklı grupların ortalamaları arasındaki varyanstır.\n",
    "- **Gruplar İçi Varyans:** Her bir grup içindeki bireyler arasındaki varyanstır.\n",
    "\n",
    "\n",
    "Varyans Analizi (ANOVA), istatistiksel bir tekniktir ve üç veya daha fazla grup arasındaki ortalamalar arasındaki anlamlı farkları belirlemek için kullanılır. Genellikle, ANOVA, gruplar arasındaki farkların sadece rasgele varyasyonlar olup olmadığını kontrol etmek amacıyla kullanılır. Bu yöntem, gruplar arasındaki varyansın, grup içindeki varyanslardan daha büyük olup olmadığını değerlendirir.\n",
    "\n",
    "\n",
    "**Varyans Analizinin Temel Mantığı:**\n",
    "\n",
    "Eğer gruplar arasında gerçek bir fark varsa, gruplar arası varyans, gruplar içi varyanstan önemli ölçüde daha büyük olacaktır. ANOVA, bu iki varyansı karşılaştırarak gruplar arasında istatistiksel olarak anlamlı bir fark olup olmadığını belirler.\n",
    "\n",
    "\n",
    "\n",
    "### **Varyans Analizi Türleri:**\n",
    "\n",
    "- **Tek Yönlü ANOVA (One-Way ANOVA):** Tek bir bağımsız değişkenin iki veya daha fazla grup üzerindeki etkisini incelemek için kullanılır. Örneğin, farklı üç gübre türünün bitki büyümesi üzerindeki etkisini incelemek için tek yönlü ANOVA kullanılabilir.\n",
    "- **İki Yönlü ANOVA (Two-Way ANOVA):** İki bağımsız değişkenin ve bu değişkenlerin etkileşiminin bir bağımlı değişken üzerindeki etkisini incelemek için kullanılır. Örneğin, hem gübre türünün hem de sulama sıklığının bitki büyümesi üzerindeki etkisini incelemek için iki yönlü ANOVA kullanılabilir.\n",
    "- **Tekrarlı Ölçümler ANOVA (Repeated Measures ANOVA):** Aynı bireylerin birden fazla zamanda veya koşulda ölçüldüğü durumlarda kullanılır. Örneğin, bir ilacın aynı hastalarda farklı zaman noktalarında kan basıncı üzerindeki etkisini incelemek için tekrarlı ölçümler ANOVA kullanılabilir.\n",
    "  \n",
    "\n",
    "\n",
    "  \n",
    "\n",
    "<span style =\"color:green\">**1. Tek Yönlü ANOVA (One-Way ANOVA):**</span> Tek bir bağımsız değişkenin (grup) etkisi değerlendirilir. Bu, grupların birbirinden farklı olduğu bir durumu incelemek için kullanılır.\n",
    "\n",
    "- **Null Hypothesis (H0):** Grup ortalamaları arasında istatistiksel olarak anlamlı bir fark yoktur.\n",
    "\n",
    "- $H_0: \\mu_1 = \\mu_2 = \\mu_3 = \\ldots = \\mu_k $\n",
    "\n",
    "- Burada, $ \\mu_1, \\mu_2, \\ldots, \\mu_k $ sırasıyla k grup ortalamalarını temsil eder.\n",
    "\n",
    "  \n",
    "  \n",
    "\n",
    "- **Alternative Hypothesis (H1):** En az iki grup ortalaması arasında istatistiksel olarak anlamlı bir fark vardır.\n",
    "\n",
    "- $ H_1: \\text{En az bir grup ortalaması diğerlerinden farklıdır.}$\n",
    "\n",
    "  \n",
    "\n",
    "<span style =\"color:green\">**2. İki Yönlü ANOVA (Two-Way ANOVA):**</span> İki bağımsız değişkenin (faktör) etkileşimini değerlendirir. Bu, birden fazla faktörün (örneğin, hem tedavi yöntemi hem de cinsiyet gibi) birleşik etkisini incelemek için kullanılır.\n",
    "\n",
    "  \n",
    "\n",
    "Bu tür ANOVA, birden fazla faktörün (değişkenin) etkisinin incelendiği durumlar içindir. İki faktörlü ANOVA'nın hipotezleri şu şekildedir:\n",
    "\n",
    "  \n",
    "\n",
    "- **Null Hypothesis (H0):** Faktörler arasında ve etkileşimleri arasında istatistiksel olarak anlamlı bir fark yoktur.\n",
    "\n",
    "- $H_0: \\mu_{ij} = \\mu \\text{ for all } i, j \\text{ and } \\text{no interaction effect}$\n",
    "\n",
    "  \n",
    "\n",
    "- **Alternative Hypothesis (H1):** En az bir faktör, diğer faktör veya bu faktörlerin etkileşimi arasında istatistiksel olarak anlamlı bir fark vardır.\n",
    "\n",
    "- $ H_1: \\text{En az bir } \\mu_{ij} \\text{ farklıdır veya etkileşim etkisi vardır.} $\n",
    "\n",
    "  \n",
    "  \n",
    "\n",
    "<span style =\"color:green\">**3-Tekrarlı Ölçümler ANOVA (Repeated Measures ANOVA):**</span> Aynı katılımcılar üzerinde birden fazla ölçüm alındığında kullanılır. Bu, örneğin, bir grup katılımcının zaman içindeki performansını değerlendirmek için kullanılabilir.\n",
    "\n",
    "  \n",
    "  \n",
    "  \n",
    "\n",
    "Burada $ \\mu_{ij} $ grupları temsil eder ve $ i $ ve $ j $ faktörlerin seviyelerini ifade eder.\n",
    "\n",
    "  \n",
    "\n",
    "ANOVA, gruplar arasındaki istatistiksel farkları belirlemek için kullanılan bir testtir. Eğer H0 hipotezi reddedilirse, en az bir grup ortalamasının diğerlerinden istatistiksel olarak farklı olduğu ve analiz edilen gruplar arasında anlamlı bir fark olduğu sonucuna varılır.\n",
    "\n",
    "  \n",
    "\n",
    "ANOVA, genellikle şu adımları içerir:\n",
    "\n",
    "### **Varyans Analizi Nasıl Yapılır?**\n",
    "\n",
    "ANOVA genellikle aşağıdaki adımları içerir:\n",
    "\n",
    "1. **Hipotezleri Belirleme:**\n",
    "    - Sıfır Hipotezi (H₀): Tüm grup ortalamaları eşittir.\n",
    "    - Alternatif Hipotez (H₁): En az bir grup ortalaması diğerlerinden farklıdır.\n",
    "2. **Varyansın Kaynaklarını Hesaplama:** Toplam varyans, gruplar arası varyans ve gruplar içi varyans hesaplanır.\n",
    "3. **F-İstatistiğini Hesaplama:** Gruplar arası varyansın gruplar içi varyansa oranıdır.\n",
    "4. **p-Değerini Bulma:** F-istatistiğine ve serbestlik derecelerine göre p-değeri bulunur.\n",
    "5. **Karar Verme:** p-değeri önceden belirlenen anlamlılık düzeyinden (genellikle 0.05) küçükse, sıfır hipotezi reddedilir ve gruplar arasında istatistiksel olarak anlamlı bir fark olduğu sonucuna varılır.\n",
    "\n",
    "  \n",
    "\n",
    "1. **Hipotez Belirleme:**\n",
    "\n",
    "- **Null Hypothesis (H0):** Gruplar arasında bir fark yoktur.\n",
    "\n",
    "- **Alternative Hypothesis (H1):** Gruplar arasında anlamlı bir fark vardır.\n",
    "\n",
    "  \n",
    "\n",
    "2. **Veri Toplama:**\n",
    "\n",
    "- Gruplardan örneklem verileri toplanır.\n",
    "\n",
    "  \n",
    "\n",
    "3. **Gruplar Arasındaki Farkların İncelenmesi:**\n",
    "\n",
    "- Grup ortalamaları arasındaki farklar ve grup içi varyanslar incelenir.\n",
    "\n",
    "  \n",
    "\n",
    "4. **Anlamlılık Düzeyi Belirleme:**\n",
    "\n",
    "- Belirli bir anlamlılık düzeyinde (genellikle %5), hipotez testi yapılır.\n",
    "\n",
    "  \n",
    "\n",
    "5. **Sonuçların Değerlendirilmesi:**\n",
    "\n",
    "- H0'ı reddetmek veya kabul etmek için p değerleri değerlendirilir. Eğer p değeri belirli bir anlamlılık düzeyinden küçükse (genellikle 0.05), H0 reddedilir ve gruplar arasında anlamlı bir fark olduğu sonucuna varılır.\n",
    "\n",
    "  \n",
    "\n",
    "\n",
    "\n",
    "\n",
    "ANOVA, istatistiksel birçok analizde kullanılır ve gruplar arasındaki farkları belirleme konusunda güçlü bir araçtır.\n",
    "\n",
    "\n",
    "\n",
    "\n",
    "\n",
    "\n",
    "\n",
    "**ANOVA Tablosu:**\n",
    "\n",
    "ANOVA sonuçları genellikle bir ANOVA tablosunda özetlenir. Bu tablo aşağıdaki bilgileri içerir:\n",
    "\n",
    "- **Varyans Kaynağı:** Gruplar arası, Gruplar içi (Hata) ve Toplam\n",
    "- **Serbestlik Dereceleri (sd):** Her varyans kaynağı için serbestlik dereceleri\n",
    "- **Kareler Toplamı (KT):** Her varyans kaynağı için kareler toplamı\n",
    "- **Kareler Ortalaması (KO):** KT / sd\n",
    "- **F-İstatistiği:** Gruplar arası KO / Gruplar içi KO\n",
    "- **p-Değeri:** F-istatistiğine karşılık gelen p-değeri\n",
    "\n",
    "**ANOVA'nın Varsayımları:**\n",
    "\n",
    "ANOVA'nın doğru sonuçlar vermesi için bazı varsayımların sağlanması gerekmektedir:\n",
    "\n",
    "- **Normallik:** Her gruptaki verilerin normal dağılmış olması gerekmektedir.\n",
    "- **Varyansların Eşitliği (Homojenlik):** Grupların varyanslarının eşit olması gerekmektedir.\n",
    "- **Bağımsızlık:** Verilerin/Gözlemlerin birbirinden bağımsız olması gerekmektedir."
   ]
  },
  {
   "cell_type": "markdown",
   "id": "6091974e",
   "metadata": {},
   "source": [
    "## 🧠 Neden Önemlidir?\n",
    "\n",
    "| Sebep | Açıklama |\n",
    "|--------|----------|\n",
    "| ✅ **Çoklu karşılaştırmalarda kullanılır** | 2’den fazla gruba sahipsen |\n",
    "| ✅ **Modelleme sürecinde karar verme** | Özelliklerin etkisini ölçmede |\n",
    "| ✅ **A/B/C/D Testleri** | Birden fazla versiyon testinde |\n",
    "| ✅ **İş kararları** | Hangi ürün daha iyi performans gösteriyor? |\n",
    "\n",
    "📌 T-testi ile 3 grup arasında tüm kombinasyonları test etmek hem zaman kaybı hem de hata artışı anlamına gelir.  \n",
    "Bunu önlemek için **ANOVA** tercih edilir.\n"
   ]
  },
  {
   "cell_type": "markdown",
   "id": "b3d72a28",
   "metadata": {},
   "source": [
    "## 🛠️ Adım Adım Uygulama: Gerçek Hayat Senaryosu\n",
    "\n",
    "### Örnek:\n",
    "Üç farklı tasarım denemesi yapıldı:\n",
    "\n",
    "- **Tasarım A:** 1000 kişi → %12 dönüşüm\n",
    "- **Tasarım B:** 1000 kişi → %14 dönüşüm\n",
    "- **Tasarım C:** 1000 kişi → %17 dönüşüm\n",
    "\n",
    "#### Soru:\n",
    "“Bu üç tasarım arasında istatistiksel olarak fark var mı?”"
   ]
  },
  {
   "cell_type": "markdown",
   "id": "476bb318",
   "metadata": {},
   "source": [
    "### Adım 1: Hipotez Kurulumu\n",
    "\n",
    "```python\n",
    "print(\"H₀: μ_A = μ_B = μ_C → Tüm tasarımlar aynı performansı gösteriyor\")\n",
    "print(\"H₁: En az bir tasarım diğerlerinden farklı\")\n",
    "```\n",
    "\n",
    "✅ Null hipotezi → fark yok  \n",
    "Alternatif → en az biri farklı"
   ]
  },
  {
   "cell_type": "markdown",
   "id": "2f1811dd",
   "metadata": {},
   "source": [
    "### Adım 2: Anlamlılık Düzeyini Belirle"
   ]
  },
  {
   "cell_type": "code",
   "execution_count": 2,
   "id": "94dc5cf0",
   "metadata": {},
   "outputs": [
    {
     "name": "stdout",
     "output_type": "stream",
     "text": [
      "Anlamlılık düzeyi (α): 0.05\n"
     ]
    }
   ],
   "source": [
    "alpha = 0.05\n",
    "print(f\"Anlamlılık düzeyi (α): {alpha}\")"
   ]
  },
  {
   "cell_type": "markdown",
   "id": "3011453c",
   "metadata": {},
   "source": [
    "### Adım 3: Sample Veri Üret"
   ]
  },
  {
   "cell_type": "code",
   "execution_count": 3,
   "id": "2627679c",
   "metadata": {},
   "outputs": [
    {
     "name": "stdout",
     "output_type": "stream",
     "text": [
      "Ortalama Dönüşüm Oranları:\n",
      "Tasarım A: 12.40%\n",
      "Tasarım B: 14.80%\n",
      "Tasarım C: 17.20%\n"
     ]
    }
   ],
   "source": [
    "import numpy as np\n",
    "import pandas as pd\n",
    "from scipy.stats import f_oneway\n",
    "\n",
    "np.random.seed(42)\n",
    "\n",
    "# Simülasyon: dönüşüm oranları\n",
    "tasarim_A = np.random.binomial(n=1, p=0.12, size=1000)\n",
    "tasarim_B = np.random.binomial(n=1, p=0.14, size=1000)\n",
    "tasarim_C = np.random.binomial(n=1, p=0.17, size=1000)\n",
    "\n",
    "print(\"Ortalama Dönüşüm Oranları:\")\n",
    "print(f\"Tasarım A: {tasarim_A.mean():.2%}\")\n",
    "print(f\"Tasarım B: {tasarim_B.mean():.2%}\")\n",
    "print(f\"Tasarım C: {tasarim_C.mean():.2%}\")"
   ]
  },
  {
   "cell_type": "markdown",
   "id": "d3e04868",
   "metadata": {},
   "source": [
    "### Adım 4: ANOVA Yap"
   ]
  },
  {
   "cell_type": "code",
   "execution_count": 4,
   "id": "065fca60",
   "metadata": {},
   "outputs": [
    {
     "name": "stdout",
     "output_type": "stream",
     "text": [
      "F Skoru: 4.58, p-değeri: 0.0104\n"
     ]
    }
   ],
   "source": [
    "f_skoru, p_degeri = f_oneway(tasarim_A, tasarim_B, tasarim_C)\n",
    "print(f\"F Skoru: {f_skoru:.2f}, p-değeri: {p_degeri:.4f}\")"
   ]
  },
  {
   "cell_type": "markdown",
   "id": "1da2ffe7",
   "metadata": {},
   "source": [
    "### Adım 5: Karar Ver"
   ]
  },
  {
   "cell_type": "code",
   "execution_count": 5,
   "id": "dde8c4d7",
   "metadata": {},
   "outputs": [
    {
     "name": "stdout",
     "output_type": "stream",
     "text": [
      "✅ H₀ reddedildi → En az bir tasarım farklı\n"
     ]
    }
   ],
   "source": [
    "if p_degeri < alpha:\n",
    "    print(\"✅ H₀ reddedildi → En az bir tasarım farklı\")\n",
    "else:\n",
    "    print(\"❌ H₀ reddedilemedi → Fark tesadüfi olabilir\")"
   ]
  },
  {
   "cell_type": "markdown",
   "id": "25da57ff",
   "metadata": {},
   "source": [
    "📌 Bu durumda, tasarım C'nin diğerlerinden daha iyi olduğunu görebiliriz."
   ]
  },
  {
   "cell_type": "markdown",
   "id": "91071d15",
   "metadata": {},
   "source": [
    "## 📈 Görselleştirme: Grupların Dağılımı"
   ]
  },
  {
   "cell_type": "code",
   "execution_count": 6,
   "id": "89b294fc",
   "metadata": {},
   "outputs": [
    {
     "data": {
      "image/png": "[encoded data removed]",
      "text/plain": [
       "<Figure size 1000x600 with 1 Axes>"
      ]
     },
     "metadata": {},
     "output_type": "display_data"
    }
   ],
   "source": [
    "import matplotlib.pyplot as plt\n",
    "import seaborn as sns\n",
    "\n",
    "plt.figure(figsize=(10, 6))\n",
    "sns.countplot(x=pd.Series(np.concatenate([tasarim_A, tasarim_B, tasarim_C]), dtype=\"category\"),\n",
    "              hue=['A']*1000 + ['B']*1000 + ['C']*1000,\n",
    "              palette=\"viridis\")\n",
    "plt.title(\"Tasarım A, B ve C'de Dönüşüm Sayısı\")\n",
    "plt.xlabel(\"Dönüşüm Durumu (0: Yok, 1: Var)\")\n",
    "plt.ylabel(\"Frekans\")\n",
    "plt.grid(True)\n",
    "plt.show()"
   ]
  },
  {
   "cell_type": "markdown",
   "id": "db96194e",
   "metadata": {},
   "source": [
    "## 📊 Python Kodu ile Tekrarlanabilir Test"
   ]
  },
  {
   "cell_type": "code",
   "execution_count": 7,
   "id": "97e5932b",
   "metadata": {},
   "outputs": [
    {
     "name": "stdout",
     "output_type": "stream",
     "text": [
      "ANOVA p-değeri: 0.010354\n"
     ]
    }
   ],
   "source": [
    "# Tekrarlı test\n",
    "_, p_val = f_oneway(tasarim_A, tasarim_B, tasarim_C)\n",
    "print(f\"ANOVA p-değeri: {p_val:.6f}\")"
   ]
  },
  {
   "cell_type": "markdown",
   "id": "9aa7c721",
   "metadata": {},
   "source": [
    "## 📉 ANOVA Varsayımları\n",
    "\n",
    "| Varsayım | Açıklama | Nasıl Test Edilir? |\n",
    "|---------|----------|-------------------|\n",
    "| **Normallik** | Her gruptaki veriler normal dağılmalı | Shapiro-Wilk |\n",
    "| **Varyans Homojenliği** | Gruplardaki varyanslar eşit olmalı | Levene testi |\n",
    "| **Bağımsızlık** | Gözlemler bağımsız olmalı | Deney tasarımıyla sağlanır |\n",
    "\n",
    "📌 Eğer varsayımlar sağlanmazsa → Welch ANOVA veya Kruskal-Wallis gibi alternatifler düşünülmeli."
   ]
  },
  {
   "cell_type": "markdown",
   "id": "118b00cc",
   "metadata": {},
   "source": [
    "## 📌 ANOVA ve Post-Hoc Test Bağlantısı\n",
    "\n",
    "ANOVA fark var diyebilir ama **hangi grup farklı?** sorusuna cevap veremez.\n",
    "\n",
    "👉 O yüzden **post-hoc testler** yapılır:"
   ]
  },
  {
   "cell_type": "code",
   "execution_count": 8,
   "id": "18e9243a",
   "metadata": {},
   "outputs": [
    {
     "name": "stdout",
     "output_type": "stream",
     "text": [
      "Multiple Comparison of Means - Tukey HSD, FWER=0.05\n",
      "===================================================\n",
      "group1 group2 meandiff p-adj   lower  upper  reject\n",
      "---------------------------------------------------\n",
      "     A      B    0.024  0.285 -0.0132 0.0612  False\n",
      "     A      C    0.048 0.0071  0.0108 0.0852   True\n",
      "     B      C    0.024  0.285 -0.0132 0.0612  False\n",
      "---------------------------------------------------\n"
     ]
    }
   ],
   "source": [
    "from statsmodels.stats.multicomp import pairwise_tukeyhsd\n",
    "\n",
    "# ANOVA sonrası hangi grup farklı?\n",
    "df = pd.DataFrame({\n",
    "    \"deger\": np.concatenate([tasarim_A, tasarim_B, tasarim_C]),\n",
    "    \"grup\": ['A']*1000 + ['B']*1000 + ['C']*1000\n",
    "})\n",
    "\n",
    "tukey_results = pairwise_tukeyhsd(df['deger'], df['grup']).summary()\n",
    "print(tukey_results)"
   ]
  },
  {
   "cell_type": "markdown",
   "id": "42a6f427",
   "metadata": {},
   "source": [
    "📌 Bu çıktı, hangi çiftlerin farklı olduğunu gösterir."
   ]
  },
  {
   "cell_type": "markdown",
   "id": "026b8399",
   "metadata": {},
   "source": [
    "## 📊 Gerçek Hayatta Kullanım Alanları\n",
    "\n",
    "| Senaryo | Açıklama |\n",
    "|--------|-----------|\n",
    "| **Web analizi** | 3 farklı buton tasarımı |\n",
    "| **Finans** | 4 yatırım stratejisinin getiri karşılaştırması |\n",
    "| **Eğitim** | 3 farklı öğretim yöntemi |\n",
    "| **Sağlık** | 5 ilacın etkisi |\n",
    "\n",
    "📌 Her seferinde:\n",
    "- H₀: Fark yok\n",
    "- H₁: Fark var"
   ]
  },
  {
   "cell_type": "markdown",
   "id": "61dadc30",
   "metadata": {},
   "source": [
    "# İş Uygulaması : Anasayfa İçerik Stratejisi Belirleme\n",
    "\n",
    "Strateji Amaç:\n",
    "İnsanların web sitesinde geçerdiği ortalama süreyi artırmak.\n",
    "\n",
    "A, B, C grubu olmak üzere 3 Tarz haber var, bunlardan hangisine odaklanılması gerektiğine dair karar verilmesi gerekiyor.\n",
    "\n",
    "Problem:\n",
    "\n",
    "Anasayfa'da geçirilen süre artırılmak isteniyor.\n",
    "\n",
    "Detaylar:\n",
    "\n",
    "Bir web Sİtesi için başarı kriterleri: ortalama ziyaret süresi, hemen çıkış oranı, vb.\n",
    "\n",
    "Uzun zaman geçiren kullanıcıların reklamlara daha fazla tıkladığı ve markaya olan bağlılıkları arttığı biliniyor.\n",
    "\n",
    "Buna yönelik olarak benzer haberler farklı resimler ya da farklı formatlarda hazırlanarak oluşturulan test gruplarına gösteriliyor.\n",
    "\n",
    "Gruplar: \n",
    "A: Doğal şekilde B: Yönlendirici C: İlgi Çekici\n",
    "\n",
    "H0: M1 = M2 = M3 - grup ortalamaları arasında ist. anlamda farklılık yoktur\n",
    "\n",
    "H1: Fark vardır."
   ]
  },
  {
   "cell_type": "code",
   "execution_count": 1,
   "id": "816f935f",
   "metadata": {},
   "outputs": [
    {
     "data": {
      "text/html": [
       "<div>\n",
       "<style scoped>\n",
       "    .dataframe tbody tr th:only-of-type {\n",
       "        vertical-align: middle;\n",
       "    }\n",
       "\n",
       "    .dataframe tbody tr th {\n",
       "        vertical-align: top;\n",
       "    }\n",
       "\n",
       "    .dataframe thead th {\n",
       "        text-align: right;\n",
       "    }\n",
       "</style>\n",
       "<table border=\"1\" class=\"dataframe\">\n",
       "  <thead>\n",
       "    <tr style=\"text-align: right;\">\n",
       "      <th></th>\n",
       "      <th>GRUP_A</th>\n",
       "      <th>GRUP_B</th>\n",
       "      <th>GRUP_C</th>\n",
       "    </tr>\n",
       "  </thead>\n",
       "  <tbody>\n",
       "    <tr>\n",
       "      <th>0</th>\n",
       "      <td>28</td>\n",
       "      <td>31</td>\n",
       "      <td>40</td>\n",
       "    </tr>\n",
       "    <tr>\n",
       "      <th>1</th>\n",
       "      <td>33</td>\n",
       "      <td>32</td>\n",
       "      <td>33</td>\n",
       "    </tr>\n",
       "    <tr>\n",
       "      <th>2</th>\n",
       "      <td>30</td>\n",
       "      <td>30</td>\n",
       "      <td>38</td>\n",
       "    </tr>\n",
       "    <tr>\n",
       "      <th>3</th>\n",
       "      <td>29</td>\n",
       "      <td>30</td>\n",
       "      <td>41</td>\n",
       "    </tr>\n",
       "    <tr>\n",
       "      <th>4</th>\n",
       "      <td>32</td>\n",
       "      <td>33</td>\n",
       "      <td>42</td>\n",
       "    </tr>\n",
       "  </tbody>\n",
       "</table>\n",
       "</div>"
      ],
      "text/plain": [
       "   GRUP_A  GRUP_B  GRUP_C\n",
       "0      28      31      40\n",
       "1      33      32      33\n",
       "2      30      30      38\n",
       "3      29      30      41\n",
       "4      32      33      42"
      ]
     },
     "execution_count": 1,
     "metadata": {},
     "output_type": "execute_result"
    }
   ],
   "source": [
    "# VARYANS ANALİZİ\n",
    "import numpy as np\n",
    "import pandas as pd\n",
    "\n",
    "A = pd.DataFrame([28, 33, 30, 29, 32, 28, 26, 31, 30, 32, 31, 34, 30, 32, 31, 28, 33, 29, 30, 31, 34, 27, 29, 28, 32, 33, 25, 29, 27, 31])\n",
    "\n",
    "B = pd.DataFrame([31, 32, 30, 30, 33, 32, 34, 27, 36, 30, 31, 30, 38, 29, 30, 34, 34, 31, 35, 35, 33, 30, 30, 32, 31, 28, 29, 26, 37, 31])\n",
    "\n",
    "C = pd.DataFrame([40, 33, 38, 41, 42, 43, 38, 35, 39, 39, 36, 34, 35, 40, 38, 36, 39, 36, 33, 35, 38, 35, 37, 38, 36, 39, 36, 38, 39, 38])\n",
    "\n",
    "\n",
    "dfs = [A, B, C] # A, B ve C gruplarını birleştirmek için bir liste oluşturuyoruz\n",
    "\n",
    "ABC = pd.concat(dfs, axis = 1)  # A, B ve C gruplarını dataframe olarak birleştiriyoruz\n",
    "ABC.columns = [\"GRUP_A\",\"GRUP_B\",\"GRUP_C\"]   # Grupların column isimlerini değiştiriyoruz\n",
    "\n",
    "ABC.head()"
   ]
  },
  {
   "cell_type": "code",
   "execution_count": 2,
   "id": "0fa27544",
   "metadata": {},
   "outputs": [
    {
     "name": "stdout",
     "output_type": "stream",
     "text": [
      "Grup A - Test İstatistiği: 0.9714453810765651, P Değeri: 0.5794382269462386\n",
      "Grup B - Test İstatistiği: 0.9684937717523237, P Değeri: 0.498828176872928\n",
      "Grup C - Test İstatistiği: 0.9682690033848907, P Değeri: 0.49296452955386877\n",
      "LEVENE - Test İstatistiği: 0.24089186825998232, P Değeri: 0.7864490637577173 ,varyanslar homojendir, H0 reddedilemez, varsayımlar sağlanmıştır\n"
     ]
    }
   ],
   "source": [
    "#VARYANS ANALİZİ VARSAYIM KONTROLÜ\n",
    "\n",
    "from scipy.stats import shapiro,levene\n",
    "shapiro(ABC['GRUP_A'])  #dağılımlar normaldır H0 reddedilemez, p-değeri > 0.05, dağılım normaldir\n",
    "test_statistic, p_value = shapiro(ABC['GRUP_A'])\n",
    "print(f'Grup A - Test İstatistiği: {test_statistic}, P Değeri: {p_value}')\n",
    "\n",
    "test_statistic, p_value = shapiro(ABC['GRUP_B'])\n",
    "print(f'Grup B - Test İstatistiği: {test_statistic}, P Değeri: {p_value}')\n",
    "\n",
    "test_statistic, p_value = shapiro(ABC['GRUP_C'])\n",
    "print(f'Grup C - Test İstatistiği: {test_statistic}, P Değeri: {p_value}')\n",
    "\n",
    "test_statistic, p_value =levene(ABC['GRUP_A'],ABC['GRUP_B'],ABC['GRUP_C'])   \n",
    "print(f'LEVENE - Test İstatistiği: {test_statistic}, P Değeri: {p_value} ,varyanslar homojendir, H0 reddedilemez, varsayımlar sağlanmıştır')"
   ]
  },
  {
   "cell_type": "code",
   "execution_count": 3,
   "id": "5369db3e",
   "metadata": {},
   "outputs": [
    {
     "name": "stdout",
     "output_type": "stream",
     "text": [
      "Test İstatistiği: 0.24089186825998232, P Değeri: 1.0038616138566904e-18 \n",
      "F-Statistic: 69.28306196556171\n",
      "P-Value: 0.0000000000000000010038616\n",
      "Gruplar arasında anlamlı bir fark vardır.\n"
     ]
    }
   ],
   "source": [
    "# HİPOTEZ TESTİ\n",
    "\n",
    "from scipy.stats import f_oneway\n",
    "f_statistic, p_value = f_oneway(ABC['GRUP_A'],ABC['GRUP_B'],ABC['GRUP_C'])\n",
    "print(f'Test İstatistiği: {test_statistic}, P Değeri: {p_value} ')\n",
    "\n",
    "# Sonuçları yazdırma\n",
    "print(\"F-Statistic:\", f_statistic)\n",
    "print(f\"P-Value: {p_value:.25f}\")    \n",
    "\n",
    "# Anlamlılık düzeyi kontrolü (örneğin, %5 anlamlılık düzeyi)\n",
    "alpha = 0.05\n",
    "if p_value < alpha:\n",
    "    print(\"Gruplar arasında anlamlı bir fark vardır.\")\n",
    "else:\n",
    "    print(\"Gruplar arasında anlamlı bir fark yoktur.\")"
   ]
  },
  {
   "cell_type": "markdown",
   "id": "2d82cd8c",
   "metadata": {},
   "source": [
    "p-value değerimizi incelediğimizde çalışmanın başında kabul ettiğimiz hata miktarı alphaya göre daha düşük olduğu gözlemleniyor, yani H0 hipotezi reddedilir, gruplar arasında istatistiki anlamda fark vardır. Farklılığını bildiğimiz grubun lehine seçme işlemimizi gerçekleştirebiliriz."
   ]
  },
  {
   "cell_type": "code",
   "execution_count": 4,
   "id": "560758f6",
   "metadata": {},
   "outputs": [
    {
     "data": {
      "text/html": [
       "<div>\n",
       "<style scoped>\n",
       "    .dataframe tbody tr th:only-of-type {\n",
       "        vertical-align: middle;\n",
       "    }\n",
       "\n",
       "    .dataframe tbody tr th {\n",
       "        vertical-align: top;\n",
       "    }\n",
       "\n",
       "    .dataframe thead th {\n",
       "        text-align: right;\n",
       "    }\n",
       "</style>\n",
       "<table border=\"1\" class=\"dataframe\">\n",
       "  <thead>\n",
       "    <tr style=\"text-align: right;\">\n",
       "      <th></th>\n",
       "      <th>count</th>\n",
       "      <th>mean</th>\n",
       "      <th>std</th>\n",
       "      <th>min</th>\n",
       "      <th>25%</th>\n",
       "      <th>50%</th>\n",
       "      <th>75%</th>\n",
       "      <th>max</th>\n",
       "    </tr>\n",
       "  </thead>\n",
       "  <tbody>\n",
       "    <tr>\n",
       "      <th>GRUP_A</th>\n",
       "      <td>30.0</td>\n",
       "      <td>30.100000</td>\n",
       "      <td>2.339319</td>\n",
       "      <td>25.0</td>\n",
       "      <td>28.25</td>\n",
       "      <td>30.0</td>\n",
       "      <td>32.00</td>\n",
       "      <td>34.0</td>\n",
       "    </tr>\n",
       "    <tr>\n",
       "      <th>GRUP_B</th>\n",
       "      <td>30.0</td>\n",
       "      <td>31.633333</td>\n",
       "      <td>2.834314</td>\n",
       "      <td>26.0</td>\n",
       "      <td>30.00</td>\n",
       "      <td>31.0</td>\n",
       "      <td>33.75</td>\n",
       "      <td>38.0</td>\n",
       "    </tr>\n",
       "    <tr>\n",
       "      <th>GRUP_C</th>\n",
       "      <td>30.0</td>\n",
       "      <td>37.466667</td>\n",
       "      <td>2.473770</td>\n",
       "      <td>33.0</td>\n",
       "      <td>36.00</td>\n",
       "      <td>38.0</td>\n",
       "      <td>39.00</td>\n",
       "      <td>43.0</td>\n",
       "    </tr>\n",
       "  </tbody>\n",
       "</table>\n",
       "</div>"
      ],
      "text/plain": [
       "        count       mean       std   min    25%   50%    75%   max\n",
       "GRUP_A   30.0  30.100000  2.339319  25.0  28.25  30.0  32.00  34.0\n",
       "GRUP_B   30.0  31.633333  2.834314  26.0  30.00  31.0  33.75  38.0\n",
       "GRUP_C   30.0  37.466667  2.473770  33.0  36.00  38.0  39.00  43.0"
      ]
     },
     "execution_count": 4,
     "metadata": {},
     "output_type": "execute_result"
    }
   ],
   "source": [
    "ABC.describe().T"
   ]
  },
  {
   "cell_type": "markdown",
   "id": "82a18b35",
   "metadata": {},
   "source": [
    "Grup C : İlgi çekici\n",
    "\n",
    "> Bu grubun istatistiki olarak diğer gruplara göre daha anlamlı katkılar sağlayabileceği gözlemlenmektedir."
   ]
  },
  {
   "cell_type": "markdown",
   "id": "4f9f40a5",
   "metadata": {},
   "source": [
    "# Nonparametrik Varyans Analizi\n",
    "\n",
    " Grupların varyanslarını karşılaştırmak için kullanılan parametrik olmayan bir istatistiksel yöntemdir. Nonparametrik varyans analizi, grupların ortalamalarının normal dağılım göstermediği veya varyanslarının homojen olmadığı durumlarda kullanılabilir. Bu tür durumlar için yaygın olarak kullanılan nonparametrik varyans analizi testi, Kruskal-Wallis testidir.\n",
    "\n",
    "Kruskal-Wallis testi, grupların ortalamaları arasında anlamlı bir fark olup olmadığını değerlendiren bir testtir ve parametrik ANOVA testine nonparametrik bir alternatif olarak kabul edilir. İşte Kruskal-Wallis testinin temel hipotezleri:\n",
    "\n",
    "\n",
    "\n",
    "Kruskal-Wallis testi, gruplardaki gözlemlerin sıralanması ve sıralı veriler üzerinde hesaplamalar yaparak gruplar arasında anlamlı bir fark olup olmadığını belirlemeye çalışır. Eğer null hipotezi reddedilirse, en az bir grup ortalaması diğerlerinden istatistiksel olarak farklıdır.\n",
    "\n",
    "Kruskal-Wallis testi, gruplar arasındaki merkezi eğilimi değil, sıralı veriler üzerinde çalıştığından dolayı nonparametrik bir testtir. Bu test, grupların medyanlarının birbirinden farklı olup olmadığını değerlendirmekte kullanılır."
   ]
  },
  {
   "cell_type": "markdown",
   "id": "90c9073f",
   "metadata": {},
   "source": [
    "> ## <span style =\"color:red\">**Nonparametrik Varyans Analizi Testi**</span>\n",
    "Nonparametrik varyans analizi, gruplar arasındaki varyans farklarını değerlendirmek için kullanılan bir istatistiksel yöntemdir. Nonparametrik yöntemler, verilerin belirli bir dağılıma uymadığı durumlarda veya sıralı verilerle çalışıldığında tercih edilir. Nonparametrik varyans analizi genellikle grupların birbirinden farklılığını değerlendirmek ve bu farkın anlamlı olup olmadığını belirlemek amacıyla kullanılır.\n",
    "\n",
    "\n",
    "Varsayalım Anova testi için gereken varsayımlar sağlanmadı. Bu varsayımlar sağlanmadığından nonparametrik varyans analizine dair kullanacak olduğumuz test Kruskal-Wallis testidir.\n",
    "\n",
    "1. **Null Hypothesis (H0):** Grup ortalamaları arasında istatistiksel olarak anlamlı bir fark yoktur.\n",
    "   - $ H_0: \\text{Medyanlar eşittir} $\n",
    "\n",
    "2. **Alternative Hypothesis (H1):** En az bir grup ortalaması diğerlerinden istatistiksel olarak farklıdır.\n",
    "   - $ H_1: \\text{En az bir grup ortalaması diğerlerinden farklıdır} $\n"
   ]
  },
  {
   "cell_type": "code",
   "execution_count": 5,
   "id": "96e9d48e",
   "metadata": {},
   "outputs": [],
   "source": [
    "from scipy.stats import kruskal\n"
   ]
  },
  {
   "cell_type": "code",
   "execution_count": 6,
   "id": "2547e87a",
   "metadata": {},
   "outputs": [
    {
     "data": {
      "text/plain": [
       "KruskalResult(statistic=53.642362439976694, pvalue=2.247548116290875e-12)"
      ]
     },
     "execution_count": 6,
     "metadata": {},
     "output_type": "execute_result"
    }
   ],
   "source": [
    "kruskal(ABC['GRUP_A'],ABC['GRUP_B'],ABC['GRUP_C']) #non-parametrik varyans analizi testi uyguluyoruz, bu fonsiyonun içerisine testini yapmak istediğimiz grupları giriyoruz. sol taraftaki değer test istatistiğini, sağ taraftaki değer ise p-value değerini verir"
   ]
  },
  {
   "cell_type": "code",
   "execution_count": 7,
   "id": "f90d36a4",
   "metadata": {},
   "outputs": [
    {
     "name": "stdout",
     "output_type": "stream",
     "text": [
      "Test İstatistiği: 0.24089186825998232, P Değeri: 2.247548116290875e-12, H0 hipotezi reddedilir\n",
      "H-Statistic: 53.642362439976694\n",
      "P-Value: 2.247548116290875e-12\n",
      "Gruplar arasında anlamlı bir fark vardır.\n"
     ]
    }
   ],
   "source": [
    "h_statistic, p_value = kruskal(ABC['GRUP_A'],ABC['GRUP_B'],ABC['GRUP_C']) \n",
    "print(f'Test İstatistiği: {test_statistic}, P Değeri: {p_value}, H0 hipotezi reddedilir')\n",
    "# Kruskal-Wallis H testi\n",
    "h_statistic, p_value = kruskal(ABC['GRUP_A'],ABC['GRUP_B'],ABC['GRUP_C'])\n",
    "\n",
    "print(\"H-Statistic:\", h_statistic)\n",
    "print(\"P-Value:\", p_value)\n",
    "\n",
    "# Anlamlılık düzeyi kontrolü (örneğin, %5 anlamlılık düzeyi)\n",
    "alpha = 0.05\n",
    "if p_value < alpha:\n",
    "    print(\"Gruplar arasında anlamlı bir fark vardır.\")\n",
    "else:\n",
    "    print(\"Gruplar arasında anlamlı bir fark yoktur.\")"
   ]
  },
  {
   "cell_type": "markdown",
   "id": "bbd2e737",
   "metadata": {},
   "source": [
    "----"
   ]
  },
  {
   "cell_type": "markdown",
   "id": "0277f187",
   "metadata": {},
   "source": []
  }
 ],
 "metadata": {
  "kernelspec": {
   "display_name": "base",
   "language": "python",
   "name": "python3"
  },
  "language_info": {
   "codemirror_mode": {
    "name": "ipython",
    "version": 3
   },
   "file_extension": ".py",
   "mimetype": "text/x-python",
   "name": "python",
   "nbconvert_exporter": "python",
   "pygments_lexer": "ipython3",
   "version": "3.12.9"
  }
 },
 "nbformat": 4,
 "nbformat_minor": 5
}
