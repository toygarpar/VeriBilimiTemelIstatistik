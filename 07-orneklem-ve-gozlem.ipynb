{
 "cells": [
  {
   "cell_type": "markdown",
   "id": "d6f410fe",
   "metadata": {},
   "source": [
    "# 📊 Örneklem ve Gözlem Birimi: Gerçekliği Temsil Eden Küçük Grup\n",
    "\n",
    "## Giriş: Ana Kütleye Ulaşmak Mümkün mü?\n",
    "\n",
    "Diyelim ki Türkiye’deki 5 yaşındaki çocukların boy ortalamasını ölçmek istiyorsun.  \n",
    "Ama her çocuğu ölçmeye ulaşman mümkün değil.  \n",
    "O zaman ne yaparsın?\n",
    "\n",
    "👉 Sadece küçük bir örneklem alırsın.  \n",
    "Ve bu örneklem üzerinden ana kütleyi tahmin edersin.\n",
    "\n",
    "> “Örneklem, gerçekliğin küçük bir versiyonudur.  \n",
    "Doğru seçilirse doğru temsil eder.”  "
   ]
  },
  {
   "cell_type": "markdown",
   "id": "99cf8862",
   "metadata": {},
   "source": [
    "## 🔍 1. Gözlem Birimi Nedir?\n",
    "\n",
    "Gözlem birimi, üzerinde veri topladığımız en küçük varlıktır.\n",
    "\n",
    "📌 Örneğin:\n",
    "- Eğer bir okulda yapılan anket üzerinde çalışıyorsan → gözlem birimi öğrenci\n",
    "- E-ticaret analizi yapıyorsan → gözlem birimi müşteri\n",
    "- Kalite kontrolü yapıyorsan → gözlem birimi ürün\n",
    "\n",
    "✅ Gözlem birimi, **neyi ölçtüğünü gösterir.**"
   ]
  },
  {
   "cell_type": "code",
   "execution_count": 7,
   "id": "ab750d78",
   "metadata": {},
   "outputs": [
    {
     "name": "stdout",
     "output_type": "stream",
     "text": [
      "  MüşteriID  Yaş  Harcama\n",
      "0        M1   46   237.35\n",
      "1        M2   41   455.27\n",
      "2        M3   68   343.60\n",
      "3        M4   31   251.20\n",
      "4        M5   46   337.88\n"
     ]
    }
   ],
   "source": [
    "# Python ile Gözlem Birimi Tanımı:\n",
    "import numpy as np\n",
    "import pandas as pd\n",
    "\n",
    "# Örnek veri seti\n",
    "veri = {\n",
    "    \"MüşteriID\": [f\"M{i}\" for i in range(1, 1001)],\n",
    "    \"Yaş\": np.random.randint(18, 70, size=1000),\n",
    "    \"Harcama\": np.round(np.random.uniform(50, 500, size=1000), 2)\n",
    "}\n",
    "\n",
    "df = pd.DataFrame(veri)\n",
    "print(df.head())"
   ]
  },
  {
   "cell_type": "markdown",
   "id": "dcc1acec",
   "metadata": {},
   "source": [
    "📌 Her satır, bir gözlem birimidir.  \n",
    "Bu örnekte her müşteri bir gözlem birimidir."
   ]
  },
  {
   "cell_type": "markdown",
   "id": "94b6a1f4",
   "metadata": {},
   "source": [
    "## 🎯 2. Örneklem Nedir?\n",
    "\n",
    "**Örneklem**, anakütlenin temsilci grubudur.  \n",
    "Yani tam kitleye ulaşamadığımız için seçtiğimiz ve onu en iyi şekilde yansıttığını sandığımız **küçük bir gruptur.**\n",
    "\n",
    "📌 Genellikle `n` harfiyle ifade edilir.  \n",
    "Ana kütle ise `N` ile."
   ]
  },
  {
   "cell_type": "markdown",
   "id": "ca0ebb52",
   "metadata": {},
   "source": [
    "### Örnek: Kim Ne İçin Örneklem Alır?\n",
    "\n",
    "| Senaryo | Anakütle | Örneklem |\n",
    "|--------|-----------|------------|\n",
    "| Sağlık araştırması | Türkiye'deki 60+ yaş grubu | Ankara’daki 100 kişi |\n",
    "| Eğitim araştırması | 5 yaşında tüm çocuklar | İstanbul’daki 5 yaşındaki çocuklar |\n",
    "| Kalite kontrol | Üretilen tüm piller | Son üretim partisinden 100 adet ürün |\n",
    "\n",
    "📌 Örneklem, eğer ana kütleyi yansıtacak şekilde seçilmişse → güvenilirdir."
   ]
  },
  {
   "cell_type": "markdown",
   "id": "af4e8a34",
   "metadata": {},
   "source": [
    "### 🧪 Gerçek Hayatta Örneklem Nasıl Alınır?\n",
    "\n",
    "#### a) **Basit Tesadüfi Örneklem**\n",
    "Her birimin eşit seçilme şansı vardır."
   ]
  },
  {
   "cell_type": "code",
   "execution_count": 8,
   "id": "ce4ebf3d",
   "metadata": {},
   "outputs": [
    {
     "name": "stdout",
     "output_type": "stream",
     "text": [
      "Örneklem: 100\n"
     ]
    }
   ],
   "source": [
    "orneklem = df.sample(n=100, random_state=42)\n",
    "print(\"Örneklem:\", len(orneklem))"
   ]
  },
  {
   "cell_type": "markdown",
   "id": "e1b1c294",
   "metadata": {},
   "source": [
    "#### b) **Tabakalı Örneklem**\n",
    "Gruplar dengelenerek seçim yapılır."
   ]
  },
  {
   "cell_type": "code",
   "execution_count": 16,
   "id": "fe491e24",
   "metadata": {},
   "outputs": [
    {
     "name": "stdout",
     "output_type": "stream",
     "text": [
      "    MüşteriID  Yaş  Harcama\n",
      "279      M280   18    52.82\n",
      "598      M599   18   373.87\n",
      "90        M91   19   174.48\n",
      "771      M772   20   114.91\n",
      "444      M445   20   100.78\n"
     ]
    }
   ],
   "source": [
    "orneklem = df.groupby('Yaş').sample(frac=0.1, random_state=42)\n",
    "print(orneklem.head())"
   ]
  },
  {
   "cell_type": "markdown",
   "id": "a38d5d03",
   "metadata": {},
   "source": [
    "#### c) **Sistematik Örneklem**\n",
    "Belirli aralıklarla örneklem alınır.\n"
   ]
  },
  {
   "cell_type": "code",
   "execution_count": 17,
   "id": "bf23da76",
   "metadata": {},
   "outputs": [
    {
     "name": "stdout",
     "output_type": "stream",
     "text": [
      "100\n"
     ]
    }
   ],
   "source": [
    "# 1000 kişilik veri için her 10. kişiyi al\n",
    "orneklem_sistematik = df.iloc[::10, :]\n",
    "print(len(orneklem_sistematik))"
   ]
  },
  {
   "cell_type": "markdown",
   "id": "9efd40d2",
   "metadata": {},
   "source": [
    "📌 Yanlılık olmadan örneklem almak,  \n",
    "doğru sonuçlara ulaşmanın ilk adımıdır."
   ]
  },
  {
   "cell_type": "markdown",
   "id": "d6c6a539",
   "metadata": {},
   "source": [
    "## 🌐 3. Ana Kütle (Population) vs Örneklem (Sample)\n",
    "\n",
    "| Özellik | Ana Kütle | Örneklem |\n",
    "|---------|-------------|--------------|\n",
    "| Sembole | N | n |\n",
    "| Boyut | Genellikle büyük veya sonsuz | Küçük ve yönetilebilir |\n",
    "| Veri Toplama | Tüm birimler | Seçilen birimler |\n",
    "| Güvenilirlik | Kesin değerleri içerir | Tahmini değerler sunar |\n",
    "| Maliyet | Yüksek | Düşük |\n",
    "| Zaman | Uzun | Kısa |\n",
    "\n",
    "📌 Eğer ana kütle küçükse → tamsayım yapılabilir  \n",
    "Eğer büyük veya sonsuzsa → örneklem almak zorunludur"
   ]
  },
  {
   "cell_type": "markdown",
   "id": "2a0cf09f",
   "metadata": {},
   "source": [
    "## 🤖 4. Neden Örneklem Alıyoruz?\n",
    "\n",
    "| Sebep | Açıklama |\n",
    "|-------|----------|\n",
    "| ⛏️ **Maliyet** | Tam popülasyonu incelemek pahalıdır |\n",
    "| ⏱️ **Zaman** | Büyük veri uzun sürer, küçük veri hızlı işlenir |\n",
    "| 🧪 **Fiziksel Zarar** | Bazı testler ürünleri yok edebilir |\n",
    "| 🧠 **Doğru Veri Toplama** | Daha az veri daha yüksek kalitede olabilir |\n"
   ]
  },
  {
   "cell_type": "markdown",
   "id": "4adcdb17",
   "metadata": {},
   "source": [
    "## 📈 5. Örneklem Dağılımı Nedir?\n",
    "\n",
    "Bir ana kütleden birçok kez örneklem çekersek,  \n",
    "her seferinde farklı bir ortalama elde ederiz.  \n",
    "Bu ortalama değerlerinin dağılımına **örneklem dağılımı** denir.\n",
    "\n",
    "📌 Merkezi Limit Teoremi burada devreye girer."
   ]
  },
  {
   "cell_type": "markdown",
   "id": "9e6838ea",
   "metadata": {},
   "source": [
    "## 🚀 6. Merkezi Limit Teoremi: Ortalama Nereye Gider?\n",
    "\n",
    "### Teorem:\n",
    "> “Bir anakütleden art arda çekilen örneklemlerin ortalamaları,  \n",
    "örneklem büyüklüğü arttıkça normal dağılıma yaklaşır.”\n",
    "\n",
    "📌 Yani:  \n",
    "Ne kadar çok örneklem alırsak,  \n",
    "örneklem ortalamalarının dağılımı  \n",
    "normalleşmeye başlar."
   ]
  },
  {
   "cell_type": "code",
   "execution_count": 18,
   "id": "f9aaa75f",
   "metadata": {},
   "outputs": [
    {
     "data": {
      "image/png": "[encoded data removed]",
      "text/plain": [
       "<Figure size 640x480 with 1 Axes>"
      ]
     },
     "metadata": {},
     "output_type": "display_data"
    }
   ],
   "source": [
    "# Basit Simülasyon: Merkezi Limit Teoremi\n",
    "\n",
    "import numpy as np\n",
    "import matplotlib.pyplot as plt\n",
    "import seaborn as sns\n",
    "\n",
    "# Popülasyon simülasyonu\n",
    "np.random.seed(42)\n",
    "ana_kitle = np.random.exponential(scale=1.0, size=10000)\n",
    "\n",
    "# Örneklem alma\n",
    "orneklem_ortalamalari = []\n",
    "for _ in range(1000):\n",
    "    orneklem = np.random.choice(ana_kitle, size=50)\n",
    "    orneklem_ortalamalari.append(np.mean(orneklem))\n",
    "\n",
    "# Görselleştirme\n",
    "sns.histplot(orneklem_ortalamalari, kde=True)\n",
    "plt.title(\"Örneklem Ortalamaları Dağılımı\")\n",
    "plt.xlabel(\"Ortalama Değer\")\n",
    "plt.ylabel(\"Frekans\")\n",
    "plt.show()"
   ]
  },
  {
   "cell_type": "markdown",
   "id": "d3d1268f",
   "metadata": {},
   "source": [
    "✅ Grafiği gördüğünde fark edeceksin:  \n",
    "Dağılım artık üstel değil, hemen hemen **normalleşmiş**!"
   ]
  },
  {
   "cell_type": "markdown",
   "id": "13c90cdf",
   "metadata": {},
   "source": [
    "## 📐 7. Parametre mi? İstatistik mi?\n",
    "\n",
    "| Terim | Açıklama | Sembol |\n",
    "|--------|----------|---------|\n",
    "| **Parametre** | Ana kütledeki gerçek değer | μ (mu), σ (sigma) |\n",
    "| **İstatistik** | Örneklemdeki tahmini değer | x̄ (x bar), s (sample standard sapma) |\n",
    "\n",
    "📌 İstatistik, parametreyi tahmin etmek içindir.  \n",
    "Ama bu tahminin tutarlı, yansız ve etkin olması gerekir."
   ]
  },
  {
   "cell_type": "markdown",
   "id": "0f15f078",
   "metadata": {},
   "source": [
    "## 📉 8. Tamsayım mı? Örneklem mi?\n",
    "\n",
    "| Durum | Tamsayım Yapılabilir mi? | Neden? |\n",
    "|--------|--------------------------|--------|\n",
    "| **30 işçi** | ✅ Evet | Küçük hacimli sonlu kütle |\n",
    "| **25.000 öğrenci** | ❌ Hayır | Çok büyük hacimli kütle |\n",
    "| **Fabrikadan çıkan tüm ürünler** | ❌ Hayır | Sonsuz kütle → sürekli üretim |\n",
    "\n",
    "📌 Tamsayım, küçük hacimli ve erişilebilir olduğunda yapılır.  \n",
    "Diğer durumlarda **örneklem** tek yol olur.\n"
   ]
  },
  {
   "cell_type": "markdown",
   "id": "ea489b65",
   "metadata": {},
   "source": [
    "## 🧭 9. Örneklem Alırken Nelere Dikkat Edilmeli?\n",
    "\n",
    "| Faktör | Açıklama |\n",
    "|--------|----------|\n",
    "| ✅ Rastgelelik | Her birimin eşit seçilme şansı olmalı |\n",
    "| ✅ Temsil Yeteneği | Örneklem, anakütleyi yansıtıyor mu? |\n",
    "| ✅ Veri Kalitesi | Veri eksiksiz ve tutarlı olmalı |\n",
    "| ✅ Yeterli Büyüklük | Küçük örneklem yanıltıcı olabilir |\n",
    "\n",
    "📌 Yanlı örneklem → yanlı sonuç → yanlı karar"
   ]
  },
  {
   "cell_type": "markdown",
   "id": "3cdd040b",
   "metadata": {},
   "source": []
  }
 ],
 "metadata": {
  "kernelspec": {
   "display_name": "base",
   "language": "python",
   "name": "python3"
  },
  "language_info": {
   "codemirror_mode": {
    "name": "ipython",
    "version": 3
   },
   "file_extension": ".py",
   "mimetype": "text/x-python",
   "name": "python",
   "nbconvert_exporter": "python",
   "pygments_lexer": "ipython3",
   "version": "3.12.9"
  }
 },
 "nbformat": 4,
 "nbformat_minor": 5
}
