{
 "cells": [
  {
   "cell_type": "markdown",
   "id": "f01e4f25",
   "metadata": {},
   "source": [
    "# 🧠 Veri Bilimi Nedir?\n",
    "\n",
    "## Tanım: Sayıların Anlamlı Olduğu Yer\n",
    "\n",
    "Veri bilimi, iş problemini anlamak ve çözüme gitmek için veriyi inceleyen, analiz eden ve anlamlı öngörüler elde etmeye çalışan disiplinler arası bir bilimdir.\n",
    "\n",
    "> “Veri bilimi, verinin anlam kazandığı bilim dalıdır.  "
   ]
  },
  {
   "cell_type": "markdown",
   "id": "8e964c68",
   "metadata": {},
   "source": [
    "## Temel Yapıları: Üç Kolon Üzerinden Düşünmek\n",
    "\n",
    "Veri bilimi üç temel alana dayanır:\n",
    "\n",
    "| Alan | Rolü |\n",
    "|------|------|\n",
    "| **İstatistik & Olasılık** | Veriyi nasıl okuyacağını gösterir |\n",
    "| **Bilgisayar Bilimi** | Veriyi işlemek ve modellemek için gerekli araçlardır |\n",
    "| **Alan Bilgisi (Domain Knowledge)** | İş problemine göre şekillenen bağlamdır |\n",
    "\n",
    "📌 Bu üç kolon, aynı anda güçlü olduğunda → veri bilimi süreçleri güzel işler."
   ]
  },
  {
   "cell_type": "markdown",
   "id": "21215d18",
   "metadata": {},
   "source": [
    "## Veri Biliminin Amacı: Ne Yapmaya Çalışıyoruz?\n",
    "\n",
    "Veri bilimiyle yapmak istediğimiz şey şudur:\n",
    "\n",
    "- **Veriyi toplamak**\n",
    "- **Temizlemek ve dönüştürmek**\n",
    "- **Anlamak ve görselleştirmek**\n",
    "- **Model kurmak ve tahmin üretmek**\n",
    "- **Karar desteklemek**\n",
    "\n",
    "> “Amaç, sadece veriyi anlamak değil, onu eyleme dönüştürmektir.”  "
   ]
  },
  {
   "cell_type": "markdown",
   "id": "fa41a6af",
   "metadata": {},
   "source": [
    "## 📊 Veri Bilimi Süreci: Adım Adım Yaklaşım\n",
    "\n",
    "### 1. **Veri Toplama**\n",
    "Veriyi nereden alıyorsun?  \n",
    "Databaseden mi, API’den mi, CSV’den mi?"
   ]
  },
  {
   "cell_type": "code",
   "execution_count": 36,
   "id": "69fd3d4e",
   "metadata": {},
   "outputs": [
    {
     "name": "stdout",
     "output_type": "stream",
     "text": [
      "✅ satis_verisi.csv oluşturuldu.\n",
      "✅ ornek_satis.csv oluşturuldu.\n"
     ]
    }
   ],
   "source": [
    "#pyhon ile sample data oluşturma\n",
    "\n",
    "import pandas as pd\n",
    "import random\n",
    "from datetime import datetime, timedelta\n",
    "\n",
    "\n",
    "# satis_verisi.csv'i oluştur\n",
    "\n",
    "# Rastgele tarih üretimi\n",
    "def rastgele_tarih(baslangic_yili=2023, bitis_yili=2024): # 2023 ve 2024 arasında rastgele tarih üretir\n",
    "    start = datetime(baslangic_yili, 1, 1) # 2023 yılının başlangıcı\n",
    "    end = datetime(bitis_yili, 12, 31) # 2024 yılının sonu\n",
    "    return start + timedelta(days=random.randint(0, (end - start).days))  # days = (end - start).days aralığındaki rastgele gün sayısı\n",
    "\n",
    "# Veri üretimi\n",
    "data = {\n",
    "    \"Tarih\": [rastgele_tarih().strftime('%Y-%m-%d') for _ in range(100)], # rastgele tarih üretimi\n",
    "    \"UrunID\": [f\"Ürün_{random.randint(1,5)}\" for _ in range(100)],          # Ürün ID'si\n",
    "    \"Fiyat\": [round(random.uniform(50, 500), 2) for _ in range(100)],  # 50-500 arası fiyat\n",
    "    \"SatisAdedi\": [random.randint(1, 20) for _ in range(100)],         # 1-20 arası satış adedi\n",
    "    \"Kategori\": [random.choice([\"Elektronik\", \"Giyim\", \"Ev Eşyası\"]) for _ in range(100)], # rastgele kategori\n",
    "    \"Sehir\": [random.choice([\"İstanbul\", \"Ankara\", \"İzmir\", \"Bursa\"]) for _ in range(100)] # rastgele şehir\n",
    "}\n",
    "\n",
    "df_satis = pd.DataFrame(data)\n",
    "\n",
    "# CSV olarak kaydet\n",
    "df_satis.to_csv(\"data/satis_verisi.csv\", index=False)\n",
    "print(\"✅ satis_verisi.csv oluşturuldu.\")\n",
    "\n",
    "\n",
    "\n",
    "\n",
    "\n",
    "# ornek_satis.csv'yi oluştur\n",
    "\n",
    "# Basit regresyon modeline uygun veri üretimi\n",
    "import numpy as np\n",
    "\n",
    "np.random.seed(42) # rastgele sayı üretimini sabitleme\n",
    "fiyatlar = np.random.uniform(50, 500, 100)  # fiyatlar rastgele üretiliyor\n",
    "satis_miktari = 200 - 0.3 * fiyatlar + np.random.normal(0, 10, 100)  # negatif ilişki\n",
    "\n",
    "# DataFrame oluştur\n",
    "df_ornek_satis = pd.DataFrame({\n",
    "    \"fiyat\": fiyatlar,\n",
    "    \"satis\": satis_miktari\n",
    "})\n",
    "\n",
    "# Yuvarlama ekleyelim\n",
    "df_ornek_satis[\"fiyat\"] = df_ornek_satis[\"fiyat\"].round(2)\n",
    "df_ornek_satis[\"satis\"] = df_ornek_satis[\"satis\"].round(0).astype(int)\n",
    "\n",
    "# Kaydet\n",
    "df_ornek_satis.to_csv(\"data/ornek_satis.csv\", index=False)\n",
    "print(\"✅ ornek_satis.csv oluşturuldu.\")\n"
   ]
  },
  {
   "cell_type": "code",
   "execution_count": 37,
   "id": "2b6f4193",
   "metadata": {},
   "outputs": [
    {
     "name": "stdout",
     "output_type": "stream",
     "text": [
      "Toplanan veri satır sayısı: 100\n"
     ]
    }
   ],
   "source": [
    "import pandas as pd\n",
    "\n",
    "# Örnek veri yükleme\n",
    "df = pd.read_csv(\"data/satis_verisi.csv\")\n",
    "print(\"Toplanan veri satır sayısı:\", len(df))"
   ]
  },
  {
   "cell_type": "markdown",
   "id": "629e52f8",
   "metadata": {},
   "source": [
    "### 2. **Veri Ön İşleme**\n",
    "Veri hep temiz gelmez.  \n",
    "Kayıp değerleri doldurmak, aykırı değerleri elemek,  \n",
    "verileri ölçeklendirmek gerekebilir.\n",
    "\n"
   ]
  },
  {
   "cell_type": "code",
   "execution_count": 38,
   "id": "f31af345",
   "metadata": {},
   "outputs": [
    {
     "name": "stdout",
     "output_type": "stream",
     "text": [
      "Kayıp değerler:\n",
      " Tarih         0\n",
      "UrunID        0\n",
      "Fiyat         0\n",
      "SatisAdedi    0\n",
      "Kategori      0\n",
      "Sehir         0\n",
      "dtype: int64\n"
     ]
    }
   ],
   "source": [
    "# Kayıp değer kontrolü\n",
    "print(\"Kayıp değerler:\\n\", df.isnull().sum())\n",
    "\n",
    "# Ortalama ile doldurma\n",
    "#df.fillna(df.mean(), inplace=True)"
   ]
  },
  {
   "cell_type": "markdown",
   "id": "660fd148",
   "metadata": {},
   "source": [
    "### 3. **Keşifsel Veri Analizi (EDA)**\n",
    "Veriyi tanımak için ilk adım budur."
   ]
  },
  {
   "cell_type": "code",
   "execution_count": 39,
   "id": "24a1fb74",
   "metadata": {},
   "outputs": [
    {
     "name": "stdout",
     "output_type": "stream",
     "text": [
      "\n",
      "İstatistiksel Özeti:\n",
      "            Fiyat  SatisAdedi\n",
      "count  100.000000  100.000000\n",
      "mean   277.026200    9.320000\n",
      "std    133.031241    5.557559\n",
      "min     51.820000    1.000000\n",
      "25%    161.825000    4.000000\n",
      "50%    276.945000    9.500000\n",
      "75%    384.412500   14.000000\n",
      "max    497.600000   20.000000\n"
     ]
    }
   ],
   "source": [
    "# Temel istatistiksel özet\n",
    "print(\"\\nİstatistiksel Özeti:\")\n",
    "print(df.describe())"
   ]
  },
  {
   "cell_type": "markdown",
   "id": "456ed14b",
   "metadata": {},
   "source": [
    "### 4. **Özellik Mühendisliği**\n",
    "Ham veriyi modelleme için kullanılır hale getirmek.\n",
    "\n",
    "- Kategorik değişkenleri dönüştürmek  \n",
    "- Yeni değişkenler türetmek  \n",
    "- Veriyi ölçeklendirmek  "
   ]
  },
  {
   "cell_type": "code",
   "execution_count": 40,
   "id": "e382d788",
   "metadata": {},
   "outputs": [],
   "source": [
    "from sklearn.preprocessing import StandardScaler\n",
    "\n",
    "scaler = StandardScaler()\n",
    "df_scaled = scaler.fit_transform(df[['SatisAdedi', 'Fiyat']])"
   ]
  },
  {
   "cell_type": "markdown",
   "id": "86ccd881",
   "metadata": {},
   "source": [
    "### 5. **Model Kurma & Tahmin Etme**\n",
    "Burada makine öğrenmesi devreye girer.\n"
   ]
  },
  {
   "cell_type": "code",
   "execution_count": 41,
   "id": "ea95d91d",
   "metadata": {},
   "outputs": [
    {
     "name": "stdout",
     "output_type": "stream",
     "text": [
      "Tahmin edilen satış miktarı: 10.04\n"
     ]
    },
    {
     "name": "stderr",
     "output_type": "stream",
     "text": [
      "/home/toygar/anaconda3/lib/python3.12/site-packages/sklearn/base.py:493: UserWarning: X does not have valid feature names, but LinearRegression was fitted with feature names\n",
      "  warnings.warn(\n"
     ]
    }
   ],
   "source": [
    "from sklearn.linear_model import LinearRegression\n",
    "\n",
    "model = LinearRegression()  # Doğrusal regresyon modeli\n",
    "X = df[['Fiyat']]  # Bağımsız değişken\n",
    "y = df['SatisAdedi'] # Bağımlı değişken\n",
    "\n",
    "model.fit(X, y)  # Modeli eğitmek için veri kullanılır\n",
    "tahmin = model.predict([[80]])  # Fiyat 80 olan bir durumda t\n",
    "print(f\"Tahmin edilen satış miktarı: {tahmin[0]:.2f}\")  # Tahmin edilen satış miktarı\n",
    "\n",
    "\n",
    "\n",
    "\n",
    "# not: Eğitim verisinde feature_names kullanılmadıysa (NumPy array gibi), bu uyarıyı görmezden gelebilirsiniz çünkü teknik olarak bir sorun oluşturmaz. Tahminler doğru çalışacaktır.\n"
   ]
  },
  {
   "cell_type": "code",
   "execution_count": 42,
   "id": "a302dc6d",
   "metadata": {},
   "outputs": [
    {
     "name": "stdout",
     "output_type": "stream",
     "text": [
      "Tahmin edilen satış miktarı: 10.04\n"
     ]
    }
   ],
   "source": [
    "from sklearn.linear_model import LinearRegression\n",
    "import pandas as pd\n",
    "\n",
    "# Modeli oluştur ve eğit\n",
    "model = LinearRegression()\n",
    "X = df[['Fiyat']]  # Bağımsız değişken (DataFrame)\n",
    "y = df['SatisAdedi']  # Bağımlı değişken (Series)\n",
    "\n",
    "model.fit(X, y)  # Modeli eğit\n",
    "\n",
    "# Tahmin yaparken DataFrame kullan\n",
    "yeni_veri = pd.DataFrame({'Fiyat': [80]})  # DataFrame oluştur\n",
    "tahmin = model.predict(yeni_veri)  # Tahmin yap\n",
    "\n",
    "print(f\"Tahmin edilen satış miktarı: {tahmin[0]:.2f}\")"
   ]
  },
  {
   "cell_type": "markdown",
   "id": "dd1114ee",
   "metadata": {},
   "source": [
    "### 6. **Değerlendirme ve Yorumlama**\n",
    "Model doğru mu çalışıyor?  \n",
    "Hata payı nedir?  \n",
    "İş dünyasına ne anlatıyor?"
   ]
  },
  {
   "cell_type": "code",
   "execution_count": 43,
   "id": "828e4e4d",
   "metadata": {},
   "outputs": [
    {
     "name": "stdout",
     "output_type": "stream",
     "text": [
      "Ortalama kare hatası: 30.34\n"
     ]
    }
   ],
   "source": [
    "from sklearn.metrics import mean_squared_error\n",
    "\n",
    "hata = mean_squared_error(y, model.predict(X))\n",
    "print(f\"Ortalama kare hatası: {hata:.2f}\")"
   ]
  },
  {
   "cell_type": "markdown",
   "id": "58589bec",
   "metadata": {},
   "source": [
    "### 7. **Sunum ve Eyleme Dönüştürme**\n",
    "Sonuçlar, teknik olmaktan çıkarılıp  \n",
    "**karar vericilere sunulur.**\n",
    "\n",
    "📌 Bu adımda grafikler, tablolar, dashboard'lar  \n",
    "ve akılda kalıcı raporlarla anlatım yapılır."
   ]
  },
  {
   "cell_type": "markdown",
   "id": "1b3daf20",
   "metadata": {},
   "source": [
    "## 🔍 Gerçek Hayatta Ne Zaman Kullanılır?\n",
    "\n",
    "| Sektör | Uygulama |\n",
    "|--------|-----------|\n",
    "| **E-ticaret** | Müşteri segmentasyonu, ürün önerisi |\n",
    "| **Finans** | Risk skoru, dolandırıcılık tespiti |\n",
    "| **Sağlık** | Hastalık teşhisi, risk faktörü analizi |\n",
    "| **Üretim** | Kalite kontrolü, süreç optimizasyonu |\n",
    "| **Mobilite** | Trafik tahmini, yolcu yoğunluğu |\n",
    "\n",
    "📌 Her sektöre göre farklı veri yapıları, farklı modeller,  \n",
    "ama aynı temel prensip:  \n",
    "**“Veriden anlamlı bilgiye geç.”**"
   ]
  },
  {
   "cell_type": "markdown",
   "id": "5cb10f1f",
   "metadata": {},
   "source": [
    "## ⚙️ Neden İstatistik Gerekli?\n",
    "\n",
    "Veriyi sadece toplamak yetmez.  \n",
    "Onu anlamak için şu sorulara yanıt bulmalısın:\n",
    "\n",
    "- Ortalama nedir?\n",
    "- Dağılım nasıldır?\n",
    "- Aykırı değer var mı?\n",
    "- Değişkenler arasında ilişki var mı?\n",
    "- Hangi değişken daha güçlü?\n",
    "\n",
    "📌 Bunları bilmeden model kurmak,  \n",
    "**gözler kapalı harita çizmeye benzer.**"
   ]
  },
  {
   "cell_type": "markdown",
   "id": "896b66fd",
   "metadata": {},
   "source": [
    "## 💻 Neden Programlama Becerisi Gerekli?\n",
    "\n",
    "Çünkü veri büyük ve dinamiktir.  \n",
    "Elle işlem yapmak zaman kaybedilir.  \n",
    "Ve zaman, günümüzde en değerli kaynaklardan biridir.\n",
    "\n",
    "Python, R, SQL, Spark gibi araçlarla  \n",
    "veriyi hızlıca toplayabilir, işleyebilir, görselleştirebilirsin."
   ]
  },
  {
   "cell_type": "markdown",
   "id": "f0278b2e",
   "metadata": {},
   "source": [
    "## 🤖 Veri Bilimi vs. Yapay Zeka\n",
    "\n",
    "| Konu | Veri Bilimi | Yapay Zeka |\n",
    "|------|-------------|------------|\n",
    "| **Amacı** | Anlam çıkarmak | Karar vermek |\n",
    "| **Yöntem** | İstatistik + Görselleştirme | Derin öğrenme, sinir ağları |\n",
    "| **Model Türü** | Regresyon, kümeleme | CNN, RNN, Transformer |\n",
    "| **Giriş-Çıkış** | Tablo verisi → tahmin | Görüntü/metin → sınıflandırma |\n",
    "\n",
    "📌 Veri bilimi, yapay zekadan önce gelen adımdır.  \n",
    "İyi bir model, iyi bir veri bilimi süreciyle beslenir."
   ]
  },
  {
   "cell_type": "markdown",
   "id": "5f592fdb",
   "metadata": {},
   "source": [
    "## 🎯 Veri Bilimcisinin Rolü\n",
    "\n",
    "Veri bilimcisi kimdir?\n",
    "\n",
    "- Soru soran kişidir.\n",
    "- Yanıtları veride arayan kişidir.\n",
    "- Veriyi anlamlandıran kişidir.\n",
    "- Modeli geliştiren kişidir.\n",
    "- Sonuçları paylaşan kişidir.\n",
    "\n",
    "> Veri bilimcisi, sayılardan hikâyeler yazan yazar gibidir.  "
   ]
  },
  {
   "cell_type": "markdown",
   "id": "e7068de7",
   "metadata": {},
   "source": [
    "🛠️ Basit Bir Veri Bilimi Akışı: Kodla Gösterelim"
   ]
  },
  {
   "cell_type": "code",
   "execution_count": 44,
   "id": "b526d16a",
   "metadata": {},
   "outputs": [
    {
     "name": "stdout",
     "output_type": "stream",
     "text": [
      "Veri özeti:\n",
      "             fiyat       satis\n",
      "count  100.000000  100.000000\n",
      "mean   261.580900  121.520000\n",
      "std    133.870366   42.503828\n",
      "min     52.480000   35.000000\n",
      "25%    136.937500   85.500000\n",
      "50%    258.865000  124.000000\n",
      "75%    378.590000  161.000000\n",
      "max    494.100000  196.000000\n",
      "Model Hatası (MSE): 81.33\n",
      "Model Eğimi: [-0.31019665]\n"
     ]
    }
   ],
   "source": [
    "import pandas as pd\n",
    "import numpy as np\n",
    "from sklearn.linear_model import LinearRegression\n",
    "from sklearn.metrics import mean_squared_error\n",
    "\n",
    "# 1. Veri Toplama\n",
    "df = pd.read_csv(\"data/ornek_satis.csv\")\n",
    "\n",
    "# 2. Veri Ön İşleme\n",
    "df.dropna(inplace=True)\n",
    "\n",
    "# 3. Keşifsel Analiz\n",
    "print(\"Veri özeti:\\n\", df.describe())\n",
    "\n",
    "# 4. Özellik Seçimi\n",
    "X = df[['fiyat']]\n",
    "y = df['satis']\n",
    "\n",
    "# 5. Model Kurulumu\n",
    "model = LinearRegression()\n",
    "model.fit(X, y)\n",
    "\n",
    "# 6. Tahmin ve Hata\n",
    "tahmin = model.predict(X)\n",
    "mse = mean_squared_error(y, tahmin)\n",
    "print(f\"Model Hatası (MSE): {mse:.2f}\")\n",
    "\n",
    "# 7. Sonuç Yorumlama\n",
    "print(\"Model Eğimi:\", model.coef_)"
   ]
  },
  {
   "cell_type": "markdown",
   "id": "60d1124a",
   "metadata": {},
   "source": [
    "## 📘 Veri Bilimi Neden Önemli?\n",
    "\n",
    "| Sebep | Açıklama |\n",
    "|--------|----------|\n",
    "| ✅ Stratejik kararlar alınabilir | Satış tahmini, müşteri davranışları |\n",
    "| ✅ Otomasyon sağlanabilir | Manuel işlemler yerine otomatik sistemler |\n",
    "| ✅ Gelecek hakkında tahmin yapılabilir | Zaman serisi, regresyon, sınıflandırma |\n",
    "| ✅ Veri odaklı çalışma kültürünü geliştirir | Sezgi yerine sayılar konuşur |\n",
    "\n",
    "📌 Günümüzde her sektör veriye dayalı karar almayı tercih ediyor.  \n",
    "Veri bilimi de bu sürecin omurgasıdır."
   ]
  },
  {
   "cell_type": "markdown",
   "id": "ae9e1f51",
   "metadata": {},
   "source": [
    "## 🚀 Veri Bilimi Kariyeri: Kimler İçinde?\n",
    "\n",
    "Veri bilimi, tek bir rol değil; birçok rolden oluşur:\n",
    "\n",
    "| Rol | Açıklama |\n",
    "|-----|---------|\n",
    "| **Veri Bilimcisi** | Model kurar, tahmin yapar |\n",
    "| **Veri Mühendisi** | Veriyi toplar, saklar, aktarır |\n",
    "| **Analiz Uzmanı** | Veriyi okur, yorumlar |\n",
    "| **ML Mühendisi** | Modelleri üretim ortamına taşır |\n",
    "| **Veri Yöneticisi / Yönetmeni** | Süreci yönetir, strateji belirler |\n",
    "\n",
    "📌 Kariyer yolu, genellikle istatistik,  \n",
    "programlama ve iş bilgisiyle başlar.  \n",
    "İleri düzeyde ise matematiksel modelleme ve mühendislik bilgisiyle devam eder."
   ]
  },
  {
   "cell_type": "markdown",
   "id": "47e8c443",
   "metadata": {},
   "source": [
    "## 🧩 Veri Bilimi ve Makine Öğrenmesi Arasındaki Bağ\n",
    "\n",
    "| Veri Bilimi | Makine Öğrenmesi |\n",
    "|-------------|------------------|\n",
    "| Geniş çaplı yaklaşımdır | Belirli bir alt kümesidir |\n",
    "| Problemle başlar | Algoritmayla başlar |\n",
    "| Görselleştirme, raporlama da içerir | Modelleme ağırlıklıdır |\n",
    "\n",
    "📌 Makine öğrenmesi, veri bilimi sürecinin yalnızca bir parçasıdır.  "
   ]
  },
  {
   "cell_type": "markdown",
   "id": "7b2d1316",
   "metadata": {},
   "source": [
    "## 💬 Son Söz: Veri Bilimi Nedir?\n",
    "\n",
    "> “Veri bilimi, veriyi anlamlandırmak ve ondan bilgi üretmek için yapılan sistematik çalışmadır.”"
   ]
  },
  {
   "cell_type": "markdown",
   "id": "ef23f4af",
   "metadata": {},
   "source": []
  }
 ],
 "metadata": {
  "kernelspec": {
   "display_name": "base",
   "language": "python",
   "name": "python3"
  },
  "language_info": {
   "codemirror_mode": {
    "name": "ipython",
    "version": 3
   },
   "file_extension": ".py",
   "mimetype": "text/x-python",
   "name": "python",
   "nbconvert_exporter": "python",
   "pygments_lexer": "ipython3",
   "version": "3.12.9"
  }
 },
 "nbformat": 4,
 "nbformat_minor": 5
}
